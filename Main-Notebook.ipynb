{
 "cells": [
  {
   "cell_type": "code",
   "execution_count": 1,
   "metadata": {},
   "outputs": [],
   "source": [
    "import pandas as pd\n",
    "import numpy as np\n",
    "import matplotlib as mpl\n",
    "import matplotlib.pyplot as plt\n",
    "plt.style.use('ggplot')\n",
    "import seaborn as sns\n",
    "%matplotlib inline\n",
    "import folium\n",
    "import string\n",
    "from helpers import *\n",
    "\n",
    "ALPHA = string.ascii_letters\n",
    "pd.options.mode.chained_assignment = None  # default='warn'"
   ]
  },
  {
   "cell_type": "markdown",
   "metadata": {},
   "source": [
    "# What's on my plate?"
   ]
  },
  {
   "cell_type": "markdown",
   "metadata": {},
   "source": [
    "As a reminder, our initial research questions are:\n",
    "\n",
    "- What is the proportion of imported/exported products per country?\n",
    "- Which countries contribute most to the environment through eco-friendly packages?\n",
    "- Which countries have the largest variety of organic-labeled products?\n",
    "- How healthy do we eat in the different countries?\n",
    "\n",
    "With those in mind, we will analyze the dataset in order to see which features would be usefull to answer them and and most of all find if there is enough data to answer them!\n",
    "\n",
    "The goal is to have an extensive analysis of what we eat depending on where we live. Hence, we will be using these four research questions to answer the following:\n",
    "\n",
    "- What's on my plate?"
   ]
  },
  {
   "cell_type": "markdown",
   "metadata": {},
   "source": [
    "# Data cleaning"
   ]
  },
  {
   "cell_type": "markdown",
   "metadata": {},
   "source": [
    "### Loading the CSV file\n",
    "The CSV File is stored on our computer with the name `OpenFood.csv`. From opening it with a text editor, we found out that the cells are separated by tabulations (i.e. by the `\\t` character). Even though the file size is approximately 1.7 GB, we still manage to fit it in a dataframe. We start by opening it:"
   ]
  },
  {
   "cell_type": "code",
   "execution_count": 2,
   "metadata": {},
   "outputs": [
    {
     "name": "stderr",
     "output_type": "stream",
     "text": [
      "/anaconda3/lib/python3.6/site-packages/IPython/core/interactiveshell.py:3020: DtypeWarning: Columns (0,3,5,24,25,26,28,36,41,49) have mixed types. Specify dtype option on import or set low_memory=False.\n",
      "  interactivity=interactivity, compiler=compiler, result=result)\n"
     ]
    }
   ],
   "source": [
    "path = \"\"\n",
    "file_name = \"OpenFood.csv\"\n",
    "data_path = path+file_name\n",
    "df = pd.read_csv(data_path, sep = '\\t')"
   ]
  },
  {
   "cell_type": "markdown",
   "metadata": {},
   "source": [
    "### DataFrame Exploration"
   ]
  },
  {
   "cell_type": "markdown",
   "metadata": {},
   "source": [
    "We first have a look at the dataset"
   ]
  },
  {
   "cell_type": "code",
   "execution_count": 3,
   "metadata": {
    "scrolled": true
   },
   "outputs": [
    {
     "data": {
      "text/html": [
       "<div>\n",
       "<style scoped>\n",
       "    .dataframe tbody tr th:only-of-type {\n",
       "        vertical-align: middle;\n",
       "    }\n",
       "\n",
       "    .dataframe tbody tr th {\n",
       "        vertical-align: top;\n",
       "    }\n",
       "\n",
       "    .dataframe thead th {\n",
       "        text-align: right;\n",
       "    }\n",
       "</style>\n",
       "<table border=\"1\" class=\"dataframe\">\n",
       "  <thead>\n",
       "    <tr style=\"text-align: right;\">\n",
       "      <th></th>\n",
       "      <th>code</th>\n",
       "      <th>url</th>\n",
       "      <th>creator</th>\n",
       "      <th>created_t</th>\n",
       "      <th>created_datetime</th>\n",
       "      <th>last_modified_t</th>\n",
       "      <th>last_modified_datetime</th>\n",
       "      <th>product_name</th>\n",
       "      <th>generic_name</th>\n",
       "      <th>quantity</th>\n",
       "      <th>...</th>\n",
       "      <th>carbon-footprint_100g</th>\n",
       "      <th>nutrition-score-fr_100g</th>\n",
       "      <th>nutrition-score-uk_100g</th>\n",
       "      <th>glycemic-index_100g</th>\n",
       "      <th>water-hardness_100g</th>\n",
       "      <th>choline_100g</th>\n",
       "      <th>phylloquinone_100g</th>\n",
       "      <th>beta-glucan_100g</th>\n",
       "      <th>inositol_100g</th>\n",
       "      <th>carnitine_100g</th>\n",
       "    </tr>\n",
       "  </thead>\n",
       "  <tbody>\n",
       "    <tr>\n",
       "      <th>0</th>\n",
       "      <td>0000000000017</td>\n",
       "      <td>http://world-en.openfoodfacts.org/product/0000...</td>\n",
       "      <td>kiliweb</td>\n",
       "      <td>1529059080</td>\n",
       "      <td>2018-06-15T10:38:00Z</td>\n",
       "      <td>1529059204</td>\n",
       "      <td>2018-06-15T10:40:04Z</td>\n",
       "      <td>Vitória crackers</td>\n",
       "      <td>NaN</td>\n",
       "      <td>NaN</td>\n",
       "      <td>...</td>\n",
       "      <td>NaN</td>\n",
       "      <td>NaN</td>\n",
       "      <td>NaN</td>\n",
       "      <td>NaN</td>\n",
       "      <td>NaN</td>\n",
       "      <td>NaN</td>\n",
       "      <td>NaN</td>\n",
       "      <td>NaN</td>\n",
       "      <td>NaN</td>\n",
       "      <td>NaN</td>\n",
       "    </tr>\n",
       "    <tr>\n",
       "      <th>1</th>\n",
       "      <td>0000000000031</td>\n",
       "      <td>http://world-en.openfoodfacts.org/product/0000...</td>\n",
       "      <td>isagoofy</td>\n",
       "      <td>1539464774</td>\n",
       "      <td>2018-10-13T21:06:14Z</td>\n",
       "      <td>1539464817</td>\n",
       "      <td>2018-10-13T21:06:57Z</td>\n",
       "      <td>Cacao</td>\n",
       "      <td>NaN</td>\n",
       "      <td>130 g</td>\n",
       "      <td>...</td>\n",
       "      <td>NaN</td>\n",
       "      <td>NaN</td>\n",
       "      <td>NaN</td>\n",
       "      <td>NaN</td>\n",
       "      <td>NaN</td>\n",
       "      <td>NaN</td>\n",
       "      <td>NaN</td>\n",
       "      <td>NaN</td>\n",
       "      <td>NaN</td>\n",
       "      <td>NaN</td>\n",
       "    </tr>\n",
       "    <tr>\n",
       "      <th>2</th>\n",
       "      <td>0000000000123</td>\n",
       "      <td>http://world-en.openfoodfacts.org/product/0000...</td>\n",
       "      <td>kiliweb</td>\n",
       "      <td>1535737982</td>\n",
       "      <td>2018-08-31T17:53:02Z</td>\n",
       "      <td>1535737986</td>\n",
       "      <td>2018-08-31T17:53:06Z</td>\n",
       "      <td>Sauce Sweety chili 0%</td>\n",
       "      <td>NaN</td>\n",
       "      <td>NaN</td>\n",
       "      <td>...</td>\n",
       "      <td>NaN</td>\n",
       "      <td>NaN</td>\n",
       "      <td>NaN</td>\n",
       "      <td>NaN</td>\n",
       "      <td>NaN</td>\n",
       "      <td>NaN</td>\n",
       "      <td>NaN</td>\n",
       "      <td>NaN</td>\n",
       "      <td>NaN</td>\n",
       "      <td>NaN</td>\n",
       "    </tr>\n",
       "    <tr>\n",
       "      <th>3</th>\n",
       "      <td>0000000000291</td>\n",
       "      <td>http://world-en.openfoodfacts.org/product/0000...</td>\n",
       "      <td>kiliweb</td>\n",
       "      <td>1534239669</td>\n",
       "      <td>2018-08-14T09:41:09Z</td>\n",
       "      <td>1534239732</td>\n",
       "      <td>2018-08-14T09:42:12Z</td>\n",
       "      <td>Mendiants</td>\n",
       "      <td>NaN</td>\n",
       "      <td>NaN</td>\n",
       "      <td>...</td>\n",
       "      <td>NaN</td>\n",
       "      <td>NaN</td>\n",
       "      <td>NaN</td>\n",
       "      <td>NaN</td>\n",
       "      <td>NaN</td>\n",
       "      <td>NaN</td>\n",
       "      <td>NaN</td>\n",
       "      <td>NaN</td>\n",
       "      <td>NaN</td>\n",
       "      <td>NaN</td>\n",
       "    </tr>\n",
       "    <tr>\n",
       "      <th>4</th>\n",
       "      <td>0000000000949</td>\n",
       "      <td>http://world-en.openfoodfacts.org/product/0000...</td>\n",
       "      <td>kiliweb</td>\n",
       "      <td>1523440813</td>\n",
       "      <td>2018-04-11T10:00:13Z</td>\n",
       "      <td>1523440823</td>\n",
       "      <td>2018-04-11T10:00:23Z</td>\n",
       "      <td>Salade de carottes râpées</td>\n",
       "      <td>NaN</td>\n",
       "      <td>NaN</td>\n",
       "      <td>...</td>\n",
       "      <td>NaN</td>\n",
       "      <td>NaN</td>\n",
       "      <td>NaN</td>\n",
       "      <td>NaN</td>\n",
       "      <td>NaN</td>\n",
       "      <td>NaN</td>\n",
       "      <td>NaN</td>\n",
       "      <td>NaN</td>\n",
       "      <td>NaN</td>\n",
       "      <td>NaN</td>\n",
       "    </tr>\n",
       "  </tbody>\n",
       "</table>\n",
       "<p>5 rows × 173 columns</p>\n",
       "</div>"
      ],
      "text/plain": [
       "            code                                                url   creator  \\\n",
       "0  0000000000017  http://world-en.openfoodfacts.org/product/0000...   kiliweb   \n",
       "1  0000000000031  http://world-en.openfoodfacts.org/product/0000...  isagoofy   \n",
       "2  0000000000123  http://world-en.openfoodfacts.org/product/0000...   kiliweb   \n",
       "3  0000000000291  http://world-en.openfoodfacts.org/product/0000...   kiliweb   \n",
       "4  0000000000949  http://world-en.openfoodfacts.org/product/0000...   kiliweb   \n",
       "\n",
       "    created_t      created_datetime last_modified_t last_modified_datetime  \\\n",
       "0  1529059080  2018-06-15T10:38:00Z      1529059204   2018-06-15T10:40:04Z   \n",
       "1  1539464774  2018-10-13T21:06:14Z      1539464817   2018-10-13T21:06:57Z   \n",
       "2  1535737982  2018-08-31T17:53:02Z      1535737986   2018-08-31T17:53:06Z   \n",
       "3  1534239669  2018-08-14T09:41:09Z      1534239732   2018-08-14T09:42:12Z   \n",
       "4  1523440813  2018-04-11T10:00:13Z      1523440823   2018-04-11T10:00:23Z   \n",
       "\n",
       "                product_name generic_name quantity      ...        \\\n",
       "0           Vitória crackers          NaN      NaN      ...         \n",
       "1                      Cacao          NaN    130 g      ...         \n",
       "2      Sauce Sweety chili 0%          NaN      NaN      ...         \n",
       "3                  Mendiants          NaN      NaN      ...         \n",
       "4  Salade de carottes râpées          NaN      NaN      ...         \n",
       "\n",
       "  carbon-footprint_100g nutrition-score-fr_100g nutrition-score-uk_100g  \\\n",
       "0                   NaN                     NaN                     NaN   \n",
       "1                   NaN                     NaN                     NaN   \n",
       "2                   NaN                     NaN                     NaN   \n",
       "3                   NaN                     NaN                     NaN   \n",
       "4                   NaN                     NaN                     NaN   \n",
       "\n",
       "  glycemic-index_100g water-hardness_100g choline_100g phylloquinone_100g  \\\n",
       "0                 NaN                 NaN          NaN                NaN   \n",
       "1                 NaN                 NaN          NaN                NaN   \n",
       "2                 NaN                 NaN          NaN                NaN   \n",
       "3                 NaN                 NaN          NaN                NaN   \n",
       "4                 NaN                 NaN          NaN                NaN   \n",
       "\n",
       "  beta-glucan_100g inositol_100g carnitine_100g  \n",
       "0              NaN           NaN            NaN  \n",
       "1              NaN           NaN            NaN  \n",
       "2              NaN           NaN            NaN  \n",
       "3              NaN           NaN            NaN  \n",
       "4              NaN           NaN            NaN  \n",
       "\n",
       "[5 rows x 173 columns]"
      ]
     },
     "execution_count": 3,
     "metadata": {},
     "output_type": "execute_result"
    }
   ],
   "source": [
    "df.head()"
   ]
  },
  {
   "cell_type": "markdown",
   "metadata": {},
   "source": [
    "With this first look at the DataFrame we can immediately remove the following columns as they are useless for our research purposes:"
   ]
  },
  {
   "cell_type": "code",
   "execution_count": 4,
   "metadata": {},
   "outputs": [],
   "source": [
    "columns_to_drop = [\n",
    "    'url',\n",
    "    'creator',\n",
    "    'created_t',\n",
    "    'created_datetime',\n",
    "    'last_modified_t',\n",
    "    'last_modified_datetime',\n",
    "    'generic_name',\n",
    "    'quantity',\n",
    "    'emb_codes',\n",
    "    'emb_codes_tags',\n",
    "    'purchase_places',\n",
    "    'stores',\n",
    "    'traces',\n",
    "    'traces_tags',\n",
    "    'serving_size',\n",
    "    'no_nutriments',\n",
    "    'image_url',\n",
    "    'allergens', \n",
    "    'image_small_url',\n",
    "    'manufacturing_places_tags',\n",
    "    'image_ingredients_url',\n",
    "    'image_ingredients_small_url',\n",
    "    'image_nutrition_url',\n",
    "    'image_nutrition_small_url',\n",
    "    'states',        \n",
    "    'states_en',\n",
    "    'states_tags',\n",
    "    'serving_quantity',\n",
    "    'traces_en',\n",
    "    'allergens_en',\n",
    "    'ingredients_that_may_be_from_palm_oil',\n",
    "    'ingredients_from_palm_oil'\n",
    "]"
   ]
  },
  {
   "cell_type": "code",
   "execution_count": 5,
   "metadata": {},
   "outputs": [],
   "source": [
    "# Drop the colums and put the result in a new data frame called df2\n",
    "df2 = df.drop(columns_to_drop, axis=1)"
   ]
  },
  {
   "cell_type": "markdown",
   "metadata": {},
   "source": [
    "It is hard to get an idea of what the values are as there are loads of NaN values... To get a better idea of the values from the dataframe, we show the unique values of each columns:"
   ]
  },
  {
   "cell_type": "code",
   "execution_count": 6,
   "metadata": {
    "scrolled": true
   },
   "outputs": [],
   "source": [
    "# We create a new dataframe\n",
    "df_unique = pd.DataFrame()\n",
    "\n",
    "# For each column\n",
    "for col in df2.columns:\n",
    "    # We take only the unique values of every column\n",
    "    df_unique = pd.concat([df_unique, pd.Series(df2[col].unique())], ignore_index=True, axis=1, copy=False)\n",
    "df_unique.columns= df2.columns"
   ]
  },
  {
   "cell_type": "code",
   "execution_count": 7,
   "metadata": {
    "scrolled": true
   },
   "outputs": [
    {
     "data": {
      "text/html": [
       "<div>\n",
       "<style scoped>\n",
       "    .dataframe tbody tr th:only-of-type {\n",
       "        vertical-align: middle;\n",
       "    }\n",
       "\n",
       "    .dataframe tbody tr th {\n",
       "        vertical-align: top;\n",
       "    }\n",
       "\n",
       "    .dataframe thead th {\n",
       "        text-align: right;\n",
       "    }\n",
       "</style>\n",
       "<table border=\"1\" class=\"dataframe\">\n",
       "  <thead>\n",
       "    <tr style=\"text-align: right;\">\n",
       "      <th></th>\n",
       "      <th>code</th>\n",
       "      <th>product_name</th>\n",
       "      <th>packaging</th>\n",
       "      <th>packaging_tags</th>\n",
       "      <th>brands</th>\n",
       "      <th>brands_tags</th>\n",
       "      <th>categories</th>\n",
       "      <th>categories_tags</th>\n",
       "      <th>categories_en</th>\n",
       "      <th>origins</th>\n",
       "      <th>...</th>\n",
       "      <th>carbon-footprint_100g</th>\n",
       "      <th>nutrition-score-fr_100g</th>\n",
       "      <th>nutrition-score-uk_100g</th>\n",
       "      <th>glycemic-index_100g</th>\n",
       "      <th>water-hardness_100g</th>\n",
       "      <th>choline_100g</th>\n",
       "      <th>phylloquinone_100g</th>\n",
       "      <th>beta-glucan_100g</th>\n",
       "      <th>inositol_100g</th>\n",
       "      <th>carnitine_100g</th>\n",
       "    </tr>\n",
       "  </thead>\n",
       "  <tbody>\n",
       "    <tr>\n",
       "      <th>0</th>\n",
       "      <td>0000000000017</td>\n",
       "      <td>Vitória crackers</td>\n",
       "      <td>NaN</td>\n",
       "      <td>NaN</td>\n",
       "      <td>NaN</td>\n",
       "      <td>NaN</td>\n",
       "      <td>NaN</td>\n",
       "      <td>NaN</td>\n",
       "      <td>NaN</td>\n",
       "      <td>NaN</td>\n",
       "      <td>...</td>\n",
       "      <td>NaN</td>\n",
       "      <td>NaN</td>\n",
       "      <td>NaN</td>\n",
       "      <td>NaN</td>\n",
       "      <td>NaN</td>\n",
       "      <td>NaN</td>\n",
       "      <td>NaN</td>\n",
       "      <td>NaN</td>\n",
       "      <td>NaN</td>\n",
       "      <td>NaN</td>\n",
       "    </tr>\n",
       "    <tr>\n",
       "      <th>1</th>\n",
       "      <td>0000000000031</td>\n",
       "      <td>Cacao</td>\n",
       "      <td>barquette,plastique</td>\n",
       "      <td>barquette,plastique</td>\n",
       "      <td>CROUS</td>\n",
       "      <td>crous</td>\n",
       "      <td>Tartes à la noix de coco</td>\n",
       "      <td>en:pies,en:sweet-pies,en:coconut-pies</td>\n",
       "      <td>Pies,Sweet pies,Coconut pies</td>\n",
       "      <td>France</td>\n",
       "      <td>...</td>\n",
       "      <td>68.0</td>\n",
       "      <td>14.0</td>\n",
       "      <td>14.0</td>\n",
       "      <td>3.0</td>\n",
       "      <td>2.0</td>\n",
       "      <td>0.112</td>\n",
       "      <td>0.000016</td>\n",
       "      <td>3.1</td>\n",
       "      <td>0.00211</td>\n",
       "      <td>0.0071</td>\n",
       "    </tr>\n",
       "    <tr>\n",
       "      <th>2</th>\n",
       "      <td>0000000000123</td>\n",
       "      <td>Sauce Sweety chili 0%</td>\n",
       "      <td>bocal,plastique</td>\n",
       "      <td>bocal,plastique</td>\n",
       "      <td>Crous Resto',Crous</td>\n",
       "      <td>crous-resto,crous</td>\n",
       "      <td>Compotes de poire</td>\n",
       "      <td>en:plant-based-foods-and-beverages,en:plant-ba...</td>\n",
       "      <td>Plant-based foods and beverages,Plant-based fo...</td>\n",
       "      <td>Québec</td>\n",
       "      <td>...</td>\n",
       "      <td>300.0</td>\n",
       "      <td>-4.0</td>\n",
       "      <td>-4.0</td>\n",
       "      <td>14.0</td>\n",
       "      <td>NaN</td>\n",
       "      <td>0.069</td>\n",
       "      <td>NaN</td>\n",
       "      <td>3.9</td>\n",
       "      <td>0.04400</td>\n",
       "      <td>0.0095</td>\n",
       "    </tr>\n",
       "    <tr>\n",
       "      <th>3</th>\n",
       "      <td>0000000000291</td>\n",
       "      <td>Mendiants</td>\n",
       "      <td>plastique</td>\n",
       "      <td>plastique</td>\n",
       "      <td>Ferme De La Frémondière</td>\n",
       "      <td>ferme-de-la-fremondiere</td>\n",
       "      <td>Baguettes</td>\n",
       "      <td>en:plant-based-foods-and-beverages,en:plant-ba...</td>\n",
       "      <td>Plant-based foods and beverages,Plant-based fo...</td>\n",
       "      <td>Québec,Canada</td>\n",
       "      <td>...</td>\n",
       "      <td>0.0</td>\n",
       "      <td>15.0</td>\n",
       "      <td>15.0</td>\n",
       "      <td>NaN</td>\n",
       "      <td>NaN</td>\n",
       "      <td>0.079</td>\n",
       "      <td>NaN</td>\n",
       "      <td>2.8</td>\n",
       "      <td>0.02600</td>\n",
       "      <td>0.0070</td>\n",
       "    </tr>\n",
       "    <tr>\n",
       "      <th>4</th>\n",
       "      <td>0000000000949</td>\n",
       "      <td>Salade de carottes râpées</td>\n",
       "      <td>carton,plastique</td>\n",
       "      <td>carton,plastique</td>\n",
       "      <td>Crous</td>\n",
       "      <td>crous-resto</td>\n",
       "      <td>Pavés de saumon,Saumons fumés,Pavés de saumon ...</td>\n",
       "      <td>en:seafood,en:fishes,en:salmons,en:smoked-fish...</td>\n",
       "      <td>Seafood,Fishes,Salmons,Smoked fishes,Smoked sa...</td>\n",
       "      <td>United Kingdom</td>\n",
       "      <td>...</td>\n",
       "      <td>12.0</td>\n",
       "      <td>29.0</td>\n",
       "      <td>29.0</td>\n",
       "      <td>NaN</td>\n",
       "      <td>NaN</td>\n",
       "      <td>0.066</td>\n",
       "      <td>NaN</td>\n",
       "      <td>4.0</td>\n",
       "      <td>0.02800</td>\n",
       "      <td>0.0110</td>\n",
       "    </tr>\n",
       "  </tbody>\n",
       "</table>\n",
       "<p>5 rows × 141 columns</p>\n",
       "</div>"
      ],
      "text/plain": [
       "            code               product_name            packaging  \\\n",
       "0  0000000000017           Vitória crackers                  NaN   \n",
       "1  0000000000031                      Cacao  barquette,plastique   \n",
       "2  0000000000123      Sauce Sweety chili 0%      bocal,plastique   \n",
       "3  0000000000291                  Mendiants            plastique   \n",
       "4  0000000000949  Salade de carottes râpées     carton,plastique   \n",
       "\n",
       "        packaging_tags                   brands              brands_tags  \\\n",
       "0                  NaN                      NaN                      NaN   \n",
       "1  barquette,plastique                    CROUS                    crous   \n",
       "2      bocal,plastique       Crous Resto',Crous        crous-resto,crous   \n",
       "3            plastique  Ferme De La Frémondière  ferme-de-la-fremondiere   \n",
       "4     carton,plastique                    Crous              crous-resto   \n",
       "\n",
       "                                          categories  \\\n",
       "0                                                NaN   \n",
       "1                           Tartes à la noix de coco   \n",
       "2                                  Compotes de poire   \n",
       "3                                          Baguettes   \n",
       "4  Pavés de saumon,Saumons fumés,Pavés de saumon ...   \n",
       "\n",
       "                                     categories_tags  \\\n",
       "0                                                NaN   \n",
       "1              en:pies,en:sweet-pies,en:coconut-pies   \n",
       "2  en:plant-based-foods-and-beverages,en:plant-ba...   \n",
       "3  en:plant-based-foods-and-beverages,en:plant-ba...   \n",
       "4  en:seafood,en:fishes,en:salmons,en:smoked-fish...   \n",
       "\n",
       "                                       categories_en         origins  \\\n",
       "0                                                NaN             NaN   \n",
       "1                       Pies,Sweet pies,Coconut pies          France   \n",
       "2  Plant-based foods and beverages,Plant-based fo...          Québec   \n",
       "3  Plant-based foods and beverages,Plant-based fo...   Québec,Canada   \n",
       "4  Seafood,Fishes,Salmons,Smoked fishes,Smoked sa...  United Kingdom   \n",
       "\n",
       "       ...       carbon-footprint_100g nutrition-score-fr_100g  \\\n",
       "0      ...                         NaN                     NaN   \n",
       "1      ...                        68.0                    14.0   \n",
       "2      ...                       300.0                    -4.0   \n",
       "3      ...                         0.0                    15.0   \n",
       "4      ...                        12.0                    29.0   \n",
       "\n",
       "  nutrition-score-uk_100g glycemic-index_100g water-hardness_100g  \\\n",
       "0                     NaN                 NaN                 NaN   \n",
       "1                    14.0                 3.0                 2.0   \n",
       "2                    -4.0                14.0                 NaN   \n",
       "3                    15.0                 NaN                 NaN   \n",
       "4                    29.0                 NaN                 NaN   \n",
       "\n",
       "  choline_100g  phylloquinone_100g beta-glucan_100g inositol_100g  \\\n",
       "0          NaN                 NaN              NaN           NaN   \n",
       "1        0.112            0.000016              3.1       0.00211   \n",
       "2        0.069                 NaN              3.9       0.04400   \n",
       "3        0.079                 NaN              2.8       0.02600   \n",
       "4        0.066                 NaN              4.0       0.02800   \n",
       "\n",
       "  carnitine_100g  \n",
       "0            NaN  \n",
       "1         0.0071  \n",
       "2         0.0095  \n",
       "3         0.0070  \n",
       "4         0.0110  \n",
       "\n",
       "[5 rows x 141 columns]"
      ]
     },
     "execution_count": 7,
     "metadata": {},
     "output_type": "execute_result"
    }
   ],
   "source": [
    "df_unique.head()"
   ]
  },
  {
   "cell_type": "markdown",
   "metadata": {},
   "source": [
    "Since there is a large number of NaN values we also show the number of non NaN values of each column along with the number of different values in each of the columns:"
   ]
  },
  {
   "cell_type": "code",
   "execution_count": 8,
   "metadata": {
    "scrolled": true
   },
   "outputs": [
    {
     "data": {
      "text/html": [
       "<div>\n",
       "<style scoped>\n",
       "    .dataframe tbody tr th:only-of-type {\n",
       "        vertical-align: middle;\n",
       "    }\n",
       "\n",
       "    .dataframe tbody tr th {\n",
       "        vertical-align: top;\n",
       "    }\n",
       "\n",
       "    .dataframe thead th {\n",
       "        text-align: right;\n",
       "    }\n",
       "</style>\n",
       "<table border=\"1\" class=\"dataframe\">\n",
       "  <thead>\n",
       "    <tr style=\"text-align: right;\">\n",
       "      <th></th>\n",
       "      <th>Number of non NaN values per column</th>\n",
       "      <th>Number of different values in each columns</th>\n",
       "      <th>ColNumber</th>\n",
       "    </tr>\n",
       "  </thead>\n",
       "  <tbody>\n",
       "    <tr>\n",
       "      <th>code</th>\n",
       "      <td>683250</td>\n",
       "      <td>683106</td>\n",
       "      <td>0</td>\n",
       "    </tr>\n",
       "    <tr>\n",
       "      <th>product_name</th>\n",
       "      <td>656644</td>\n",
       "      <td>470272</td>\n",
       "      <td>1</td>\n",
       "    </tr>\n",
       "    <tr>\n",
       "      <th>packaging</th>\n",
       "      <td>137520</td>\n",
       "      <td>24696</td>\n",
       "      <td>2</td>\n",
       "    </tr>\n",
       "    <tr>\n",
       "      <th>packaging_tags</th>\n",
       "      <td>137517</td>\n",
       "      <td>19914</td>\n",
       "      <td>3</td>\n",
       "    </tr>\n",
       "    <tr>\n",
       "      <th>brands</th>\n",
       "      <td>460708</td>\n",
       "      <td>98743</td>\n",
       "      <td>4</td>\n",
       "    </tr>\n",
       "    <tr>\n",
       "      <th>brands_tags</th>\n",
       "      <td>460675</td>\n",
       "      <td>80191</td>\n",
       "      <td>5</td>\n",
       "    </tr>\n",
       "    <tr>\n",
       "      <th>categories</th>\n",
       "      <td>174424</td>\n",
       "      <td>62844</td>\n",
       "      <td>6</td>\n",
       "    </tr>\n",
       "    <tr>\n",
       "      <th>categories_tags</th>\n",
       "      <td>174423</td>\n",
       "      <td>36257</td>\n",
       "      <td>7</td>\n",
       "    </tr>\n",
       "    <tr>\n",
       "      <th>categories_en</th>\n",
       "      <td>174389</td>\n",
       "      <td>36254</td>\n",
       "      <td>8</td>\n",
       "    </tr>\n",
       "    <tr>\n",
       "      <th>origins</th>\n",
       "      <td>40923</td>\n",
       "      <td>7411</td>\n",
       "      <td>9</td>\n",
       "    </tr>\n",
       "  </tbody>\n",
       "</table>\n",
       "</div>"
      ],
      "text/plain": [
       "                 Number of non NaN values per column  \\\n",
       "code                                          683250   \n",
       "product_name                                  656644   \n",
       "packaging                                     137520   \n",
       "packaging_tags                                137517   \n",
       "brands                                        460708   \n",
       "brands_tags                                   460675   \n",
       "categories                                    174424   \n",
       "categories_tags                               174423   \n",
       "categories_en                                 174389   \n",
       "origins                                        40923   \n",
       "\n",
       "                 Number of different values in each columns  ColNumber  \n",
       "code                                                 683106          0  \n",
       "product_name                                         470272          1  \n",
       "packaging                                             24696          2  \n",
       "packaging_tags                                        19914          3  \n",
       "brands                                                98743          4  \n",
       "brands_tags                                           80191          5  \n",
       "categories                                            62844          6  \n",
       "categories_tags                                       36257          7  \n",
       "categories_en                                         36254          8  \n",
       "origins                                                7411          9  "
      ]
     },
     "execution_count": 8,
     "metadata": {},
     "output_type": "execute_result"
    }
   ],
   "source": [
    "# We initialize the columns to be used in the table that will be shown\n",
    "cols = ['Number of non NaN values per column', 'Number of different values in each columns']\n",
    "\n",
    "# We create a table to show the informations\n",
    "describe_df = pd.DataFrame([df2.count(),df_unique.count()]).transpose()\n",
    "describe_df.columns = cols\n",
    "describe_df['ColNumber'] = np.arange(df_unique.shape[1])\n",
    "describe_df.head(10)"
   ]
  },
  {
   "cell_type": "markdown",
   "metadata": {},
   "source": [
    "After further looking into the dataset, we see that there are some columns that are redundant such as `packaging` and `packaging_tags` so we keep only one of the two. For this specific example we only keep the `packaging_tags` column as the values are more consistent. We also remove some other columns. The reasons for the removal are stated as comment in the cell below:"
   ]
  },
  {
   "cell_type": "code",
   "execution_count": 101,
   "metadata": {},
   "outputs": [],
   "source": [
    "columns_to_drop_2 = [\n",
    "    'packaging', # The values are redundant and be used in packaging_tags\n",
    "    'brands', # brands_tags has more stable (same rows are represented in different ways) values\n",
    "    'categories', # categories_tags has more stable values\n",
    "    'categories_en', # categories_tags has more stable values\n",
    "    'origins', # origins_tags has more stable values\n",
    "    'labels', # labels_tags has more stable values\n",
    "    'labels_en', # labels_tags has more stable values\n",
    "    'first_packaging_code_geo', # Not interesting for our research questions\n",
    "    'cities', # Contains only NaN values and not really intresting for our research questions\n",
    "    'cities_tags', # Contains only NaN values and not really intresting for our research questions\n",
    "    'countries', # Seem to contain useless duplicated values (France, en:FR, en:france,...)\n",
    "    'additives_n', # Not relevant for our research\n",
    "    'additives_tags', # Not relevant for our research\n",
    "    'nutrition_grade_uk', # Only NaN values\n",
    "    'countries_en', # The countries_tags column gives a more stable result\n",
    "    'ingredients_text', # too hard to deal with and not really intresting after seeing the values\n",
    "    'additives', # Not needed for our research question, only the number of additives can be interesting\n",
    "    'additives_en', # Not needed for our research question, only the number of additives can be interesting\n",
    "    'ingredients_that_may_be_from_palm_oil_n', # As we already keep ingredients_from_palm_oil_n\n",
    "    'ingredients_that_may_be_from_palm_oil_tags', # As we already keep ingredients_from_palm_oil_n\n",
    "    'nutrition_grade_fr', # Contains only NaN values\n",
    "    'ingredients_from_palm_oil_tags', # Not useful for our research\n",
    "    'ingredients_from_palm_oil_n', # Not useful as well\n",
    "    'main_category_en' # The main_category column has more stable values\n",
    "]"
   ]
  },
  {
   "cell_type": "markdown",
   "metadata": {},
   "source": [
    "Now for the nutrition facts we can delete all the columns that have less than 1000 values (count) because if they do, it means that the columns are too specific (like type of sugar) or there aren't enough values in the dataset in the columns to be interessting. Note this means we have to drop the idea of analyzing the carbon footprint as there aren't enough values to answer our carbon foot print analysis"
   ]
  },
  {
   "cell_type": "code",
   "execution_count": 102,
   "metadata": {},
   "outputs": [],
   "source": [
    "# Creating the list of all the food fact (ingredients) column to delete since we do not need them for our research\n",
    "describe_df_aux = describe_df.iloc[36:]\n",
    "\n",
    "# We set them as a list for the removal\n",
    "food_facts_to_drop = list(describe_df_aux.index.values)\n",
    "\n",
    "# We remove the nutrition score from the list since they are needed\n",
    "food_facts_to_drop.remove('nutrition-score-fr_100g')\n",
    "food_facts_to_drop.remove('nutrition-score-uk_100g')"
   ]
  },
  {
   "cell_type": "markdown",
   "metadata": {},
   "source": [
    "Now that we have the two lists we can merge them and then drop the columns:"
   ]
  },
  {
   "cell_type": "code",
   "execution_count": 103,
   "metadata": {},
   "outputs": [],
   "source": [
    "# Merging the two list created above to remove them\n",
    "columns_to_drop_merged = columns_to_drop_2 + food_facts_to_drop\n",
    "# Deleting and storing in a new dataframe\n",
    "df3 = df2.drop(columns_to_drop_merged, axis = 1)"
   ]
  },
  {
   "cell_type": "markdown",
   "metadata": {},
   "source": [
    "Now we can wonder if the `code` column can be set as the index:"
   ]
  },
  {
   "cell_type": "code",
   "execution_count": 104,
   "metadata": {},
   "outputs": [
    {
     "data": {
      "text/plain": [
       "False"
      ]
     },
     "execution_count": 104,
     "metadata": {},
     "output_type": "execute_result"
    }
   ],
   "source": [
    "df3.code.is_unique"
   ]
  },
  {
   "cell_type": "markdown",
   "metadata": {},
   "source": [
    "So the code column is not unique let's see how many values are duplicated:"
   ]
  },
  {
   "cell_type": "code",
   "execution_count": 105,
   "metadata": {},
   "outputs": [
    {
     "data": {
      "text/html": [
       "<div>\n",
       "<style scoped>\n",
       "    .dataframe tbody tr th:only-of-type {\n",
       "        vertical-align: middle;\n",
       "    }\n",
       "\n",
       "    .dataframe tbody tr th {\n",
       "        vertical-align: top;\n",
       "    }\n",
       "\n",
       "    .dataframe thead th {\n",
       "        text-align: right;\n",
       "    }\n",
       "</style>\n",
       "<table border=\"1\" class=\"dataframe\">\n",
       "  <thead>\n",
       "    <tr style=\"text-align: right;\">\n",
       "      <th></th>\n",
       "      <th>code</th>\n",
       "      <th>product_name</th>\n",
       "      <th>packaging_tags</th>\n",
       "      <th>brands_tags</th>\n",
       "      <th>categories_tags</th>\n",
       "      <th>origins_tags</th>\n",
       "      <th>manufacturing_places</th>\n",
       "      <th>labels_tags</th>\n",
       "      <th>countries_tags</th>\n",
       "      <th>pnns_groups_1</th>\n",
       "      <th>pnns_groups_2</th>\n",
       "      <th>main_category</th>\n",
       "      <th>nutrition-score-fr_100g</th>\n",
       "      <th>nutrition-score-uk_100g</th>\n",
       "    </tr>\n",
       "  </thead>\n",
       "  <tbody>\n",
       "    <tr>\n",
       "      <th>207855</th>\n",
       "      <td>116022.0</td>\n",
       "      <td>British Giant Marrowfat Peas</td>\n",
       "      <td>NaN</td>\n",
       "      <td>farrow-s</td>\n",
       "      <td>NaN</td>\n",
       "      <td>NaN</td>\n",
       "      <td>NaN</td>\n",
       "      <td>NaN</td>\n",
       "      <td>en:united-kingdom</td>\n",
       "      <td>NaN</td>\n",
       "      <td>NaN</td>\n",
       "      <td>NaN</td>\n",
       "      <td>NaN</td>\n",
       "      <td>NaN</td>\n",
       "    </tr>\n",
       "    <tr>\n",
       "      <th>10832</th>\n",
       "      <td>116022.0</td>\n",
       "      <td>British marrowfat processed peas in water - su...</td>\n",
       "      <td>NaN</td>\n",
       "      <td>by-sainsbury-s</td>\n",
       "      <td>NaN</td>\n",
       "      <td>NaN</td>\n",
       "      <td>NaN</td>\n",
       "      <td>NaN</td>\n",
       "      <td>en:united-kingdom</td>\n",
       "      <td>unknown</td>\n",
       "      <td>unknown</td>\n",
       "      <td>NaN</td>\n",
       "      <td>NaN</td>\n",
       "      <td>NaN</td>\n",
       "    </tr>\n",
       "    <tr>\n",
       "      <th>74720</th>\n",
       "      <td>635646.0</td>\n",
       "      <td>M&amp;S Vegetable Pizza</td>\n",
       "      <td>frais,plastique,carton</td>\n",
       "      <td>marks-spencer</td>\n",
       "      <td>fr:vegetable-pizzas</td>\n",
       "      <td>NaN</td>\n",
       "      <td>NaN</td>\n",
       "      <td>NaN</td>\n",
       "      <td>en:france,en:united-kingdom</td>\n",
       "      <td>unknown</td>\n",
       "      <td>unknown</td>\n",
       "      <td>fr:vegetable-pizzas</td>\n",
       "      <td>1.0</td>\n",
       "      <td>1.0</td>\n",
       "    </tr>\n",
       "    <tr>\n",
       "      <th>147293</th>\n",
       "      <td>635646.0</td>\n",
       "      <td>Chargrilled Vegetable &amp; Basil Pesto</td>\n",
       "      <td>frais,plastique,carton</td>\n",
       "      <td>marks-spencer</td>\n",
       "      <td>en:meals,en:pizzas-pies-and-quiches,fr:pizzas-...</td>\n",
       "      <td>NaN</td>\n",
       "      <td>Royaume-Uni</td>\n",
       "      <td>en:vegetarian,en:fsc,en:fsc-mix</td>\n",
       "      <td>en:france,en:united-kingdom</td>\n",
       "      <td>Composite foods</td>\n",
       "      <td>Pizza pies and quiche</td>\n",
       "      <td>en:meals</td>\n",
       "      <td>1.0</td>\n",
       "      <td>1.0</td>\n",
       "    </tr>\n",
       "    <tr>\n",
       "      <th>74722</th>\n",
       "      <td>635684.0</td>\n",
       "      <td>6 Wholemeal Pittas</td>\n",
       "      <td>NaN</td>\n",
       "      <td>marks-spencer</td>\n",
       "      <td>NaN</td>\n",
       "      <td>NaN</td>\n",
       "      <td>NaN</td>\n",
       "      <td>NaN</td>\n",
       "      <td>en:france</td>\n",
       "      <td>unknown</td>\n",
       "      <td>unknown</td>\n",
       "      <td>NaN</td>\n",
       "      <td>NaN</td>\n",
       "      <td>NaN</td>\n",
       "    </tr>\n",
       "  </tbody>\n",
       "</table>\n",
       "</div>"
      ],
      "text/plain": [
       "            code                                       product_name  \\\n",
       "207855  116022.0                       British Giant Marrowfat Peas   \n",
       "10832   116022.0  British marrowfat processed peas in water - su...   \n",
       "74720   635646.0                                M&S Vegetable Pizza   \n",
       "147293  635646.0                Chargrilled Vegetable & Basil Pesto   \n",
       "74722   635684.0                                 6 Wholemeal Pittas   \n",
       "\n",
       "                packaging_tags     brands_tags  \\\n",
       "207855                     NaN        farrow-s   \n",
       "10832                      NaN  by-sainsbury-s   \n",
       "74720   frais,plastique,carton   marks-spencer   \n",
       "147293  frais,plastique,carton   marks-spencer   \n",
       "74722                      NaN   marks-spencer   \n",
       "\n",
       "                                          categories_tags origins_tags  \\\n",
       "207855                                                NaN          NaN   \n",
       "10832                                                 NaN          NaN   \n",
       "74720                                 fr:vegetable-pizzas          NaN   \n",
       "147293  en:meals,en:pizzas-pies-and-quiches,fr:pizzas-...          NaN   \n",
       "74722                                                 NaN          NaN   \n",
       "\n",
       "       manufacturing_places                      labels_tags  \\\n",
       "207855                  NaN                              NaN   \n",
       "10832                   NaN                              NaN   \n",
       "74720                   NaN                              NaN   \n",
       "147293          Royaume-Uni  en:vegetarian,en:fsc,en:fsc-mix   \n",
       "74722                   NaN                              NaN   \n",
       "\n",
       "                     countries_tags    pnns_groups_1          pnns_groups_2  \\\n",
       "207855            en:united-kingdom              NaN                    NaN   \n",
       "10832             en:united-kingdom          unknown                unknown   \n",
       "74720   en:france,en:united-kingdom          unknown                unknown   \n",
       "147293  en:france,en:united-kingdom  Composite foods  Pizza pies and quiche   \n",
       "74722                     en:france          unknown                unknown   \n",
       "\n",
       "              main_category  nutrition-score-fr_100g  nutrition-score-uk_100g  \n",
       "207855                  NaN                      NaN                      NaN  \n",
       "10832                   NaN                      NaN                      NaN  \n",
       "74720   fr:vegetable-pizzas                      1.0                      1.0  \n",
       "147293             en:meals                      1.0                      1.0  \n",
       "74722                   NaN                      NaN                      NaN  "
      ]
     },
     "execution_count": 105,
     "metadata": {},
     "output_type": "execute_result"
    }
   ],
   "source": [
    "# We take all the rows where the code is duplicates\n",
    "duplicate_codes_indices = np.where(df3.duplicated('code', keep=False).values)[0]\n",
    "dups = df3.iloc[duplicate_codes_indices].copy()\n",
    "dups.code = dups.code.astype(float)\n",
    "\n",
    "# We sort so that the duplicated rows are on top of each other\n",
    "dups.sort_values(by = 'code', inplace = True)\n",
    "\n",
    "# Show the result\n",
    "dups.head()"
   ]
  },
  {
   "cell_type": "markdown",
   "metadata": {},
   "source": [
    "As it can be seen there are two types of duplicates:\n",
    "Some codes (`code` column) appear twice and some codes are NaN. As it can be observed when codes are duplicated, they are often the same product and sometimes one of the rows contains more information than the other for the same code. So we could just keep the rows that contain the most information. And for the rows with NaN as code, the values of the columns are not matching the column names so there must be a shift of values. As a lot of values are missing, it would be complex to recover the true data and there are only 34 rows with code equal to NaN, so we can delete them:"
   ]
  },
  {
   "cell_type": "code",
   "execution_count": 106,
   "metadata": {},
   "outputs": [],
   "source": [
    "dups = dups[dups != float('nan')]\n",
    "\n",
    "dups['nb_of_features'] = np.sum(dups.notnull(), axis=1)\n",
    "dups.reset_index(inplace = True)\n",
    "indices_to_remove = dups.sort_values(['code','nb_of_features'],ascending = True)\\\n",
    "                        .groupby('code',as_index=False).first()['index'].values\n",
    "df3.dropna(subset=['code'],inplace=True)\n",
    "df3.drop(indices_to_remove,inplace = True)"
   ]
  },
  {
   "cell_type": "markdown",
   "metadata": {},
   "source": [
    "We verify that the `code` column of the dataframe is unique:"
   ]
  },
  {
   "cell_type": "code",
   "execution_count": 107,
   "metadata": {
    "scrolled": true
   },
   "outputs": [
    {
     "data": {
      "text/plain": [
       "True"
      ]
     },
     "execution_count": 107,
     "metadata": {},
     "output_type": "execute_result"
    }
   ],
   "source": [
    "df3.code.is_unique"
   ]
  },
  {
   "cell_type": "markdown",
   "metadata": {},
   "source": [
    "So we just have to set this column as the index:"
   ]
  },
  {
   "cell_type": "code",
   "execution_count": 108,
   "metadata": {},
   "outputs": [],
   "source": [
    "df3.set_index('code', inplace = True)"
   ]
  },
  {
   "cell_type": "markdown",
   "metadata": {},
   "source": [
    "The dataframe has the following shape:"
   ]
  },
  {
   "cell_type": "code",
   "execution_count": 109,
   "metadata": {},
   "outputs": [
    {
     "name": "stdout",
     "output_type": "stream",
     "text": [
      "683106(row) x 13(columns)\n"
     ]
    }
   ],
   "source": [
    "print('{0}(row) x {1}(columns)'.format(df3.shape[0], df3.shape[1]))"
   ]
  },
  {
   "cell_type": "markdown",
   "metadata": {},
   "source": [
    "So we are using these proportions of the initial dataframe:"
   ]
  },
  {
   "cell_type": "code",
   "execution_count": 110,
   "metadata": {},
   "outputs": [
    {
     "name": "stdout",
     "output_type": "stream",
     "text": [
      "99.97% of the rows of the initial dataframe\n",
      "7.51% of the columns of the initial dataframe\n"
     ]
    }
   ],
   "source": [
    "print('{0:1.2f}% of the rows of the initial dataframe'.format(df3.shape[0]/df.shape[0]*100))\n",
    "print('{0:1.2f}% of the columns of the initial dataframe'.format(df3.shape[1]/df.shape[1]*100))"
   ]
  },
  {
   "cell_type": "markdown",
   "metadata": {},
   "source": [
    "### Types and statistics of the features"
   ]
  },
  {
   "cell_type": "markdown",
   "metadata": {},
   "source": [
    "Let's first check what are the type of the columns of the dataframe:"
   ]
  },
  {
   "cell_type": "code",
   "execution_count": 111,
   "metadata": {},
   "outputs": [
    {
     "data": {
      "text/plain": [
       "product_name                object\n",
       "packaging_tags              object\n",
       "brands_tags                 object\n",
       "categories_tags             object\n",
       "origins_tags                object\n",
       "manufacturing_places        object\n",
       "labels_tags                 object\n",
       "countries_tags              object\n",
       "pnns_groups_1               object\n",
       "pnns_groups_2               object\n",
       "main_category               object\n",
       "nutrition-score-fr_100g    float64\n",
       "nutrition-score-uk_100g    float64\n",
       "dtype: object"
      ]
     },
     "execution_count": 111,
     "metadata": {},
     "output_type": "execute_result"
    }
   ],
   "source": [
    "df3.dtypes"
   ]
  },
  {
   "cell_type": "markdown",
   "metadata": {},
   "source": [
    "Here the types are object as there are a lot of NaN values (which are float type) in the text so the python compiler can put string as type. We will be able to replace some of the NaN values later.\n",
    "\n",
    "Let's plot the percentage of the non NaN values in each general information features i.e. column 0 to 18. The data set is split with respect to some groups of columns to have make a better representation of each category of feature:"
   ]
  },
  {
   "cell_type": "code",
   "execution_count": 112,
   "metadata": {},
   "outputs": [
    {
     "data": {
      "image/png": "[encoded data removed]",
      "text/plain": [
       "<Figure size 1440x432 with 1 Axes>"
      ]
     },
     "metadata": {
      "needs_background": "light"
     },
     "output_type": "display_data"
    }
   ],
   "source": [
    "general_info = df3.iloc[:,:18]\n",
    "plt.figure(figsize=(20,6))\n",
    "plt.bar(range(general_info.shape[1]),general_info.count()/general_info.shape[0]*100)\n",
    "plt.xticks(range(general_info.shape[1]), general_info.columns,rotation=70)\n",
    "plt.title(\"Percentage of non-NaN values for each feature\")\n",
    "plt.xlabel(\"Feature Name\")\n",
    "plt.ylabel(\"Percentage of non-NaN values [%]\")\n",
    "plt.show()"
   ]
  },
  {
   "cell_type": "markdown",
   "metadata": {},
   "source": [
    "As expected from looking at the data frame, there is a large number of NaN values. Indeed, for the `origin_tags` there is more than 95% of the values that are NaN values. This is compromising a lot with our research question about import/export. On the other hand, from the `df_unique` dataframe we see that there is still ~50'000 rows that contain an origin tags so we will still be able to do some research (though not as extended as we wished) on a subset of rows.\n",
    "\n",
    "We also plot an histogram of the count of non-NaN values for each row:"
   ]
  },
  {
   "cell_type": "code",
   "execution_count": 116,
   "metadata": {},
   "outputs": [
    {
     "data": {
      "image/png": "[encoded data removed]",
      "text/plain": [
       "<Figure size 1296x432 with 2 Axes>"
      ]
     },
     "metadata": {
      "needs_background": "light"
     },
     "output_type": "display_data"
    }
   ],
   "source": [
    "# Plotting \n",
    "plt.figure(figsize=(18,6))\n",
    "plt.subplot(121)\n",
    "plt.hist(general_info.transpose().count(),\n",
    "         bins = np.arange(general_info.shape[1]+2)-0.5,\n",
    "         rwidth = 0.8)\n",
    "plt.xticks(range(general_info.shape[1]+1))\n",
    "plt.title(\"Histogram of the number of non-NaN values\")\n",
    "plt.xlabel(\"Number of non-NaN values per row\")\n",
    "plt.ylabel(\"Count\")\n",
    "\n",
    "plt.subplot(122)\n",
    "plt.hist(general_info.transpose().count(),\n",
    "         bins = np.arange(general_info.shape[1]+2)-0.5, \n",
    "         cumulative=True,\n",
    "         rwidth = 0.8)\n",
    "plt.xticks(range(general_info.shape[1]+1))\n",
    "plt.title(\"Cumulative histogram of the number of non-NaN values\")\n",
    "plt.xlabel(\"Number of non-NaN values per row\")\n",
    "plt.ylabel(\"Count\")\n",
    "plt.show()"
   ]
  },
  {
   "cell_type": "markdown",
   "metadata": {},
   "source": [
    "By seeing the problem row-wise, we can evaluate the amount of data that we will be able to use. We can see the distribution on the left to get a general idea of the number of non-NaN values for each row. But the most interesting plot is the cumulative on the right. We can see that approximately 500'000 rows have between 0 and 6 non-NaN values. We also notice that only 150,000 rows have between 7 and 13 columns (thus more than half the data). "
   ]
  },
  {
   "cell_type": "markdown",
   "metadata": {},
   "source": [
    "### Importing a second data set with all the countries locations"
   ]
  },
  {
   "cell_type": "code",
   "execution_count": 117,
   "metadata": {},
   "outputs": [
    {
     "data": {
      "text/html": [
       "<div>\n",
       "<style scoped>\n",
       "    .dataframe tbody tr th:only-of-type {\n",
       "        vertical-align: middle;\n",
       "    }\n",
       "\n",
       "    .dataframe tbody tr th {\n",
       "        vertical-align: top;\n",
       "    }\n",
       "\n",
       "    .dataframe thead th {\n",
       "        text-align: right;\n",
       "    }\n",
       "</style>\n",
       "<table border=\"1\" class=\"dataframe\">\n",
       "  <thead>\n",
       "    <tr style=\"text-align: right;\">\n",
       "      <th></th>\n",
       "      <th>latitude</th>\n",
       "      <th>longitude</th>\n",
       "      <th>name</th>\n",
       "    </tr>\n",
       "    <tr>\n",
       "      <th>country</th>\n",
       "      <th></th>\n",
       "      <th></th>\n",
       "      <th></th>\n",
       "    </tr>\n",
       "  </thead>\n",
       "  <tbody>\n",
       "    <tr>\n",
       "      <th>AD</th>\n",
       "      <td>42.546245</td>\n",
       "      <td>1.601554</td>\n",
       "      <td>Andorra</td>\n",
       "    </tr>\n",
       "    <tr>\n",
       "      <th>AE</th>\n",
       "      <td>23.424076</td>\n",
       "      <td>53.847818</td>\n",
       "      <td>United Arab Emirates</td>\n",
       "    </tr>\n",
       "    <tr>\n",
       "      <th>AF</th>\n",
       "      <td>33.939110</td>\n",
       "      <td>67.709953</td>\n",
       "      <td>Afghanistan</td>\n",
       "    </tr>\n",
       "    <tr>\n",
       "      <th>AG</th>\n",
       "      <td>17.060816</td>\n",
       "      <td>-61.796428</td>\n",
       "      <td>Antigua and Barbuda</td>\n",
       "    </tr>\n",
       "    <tr>\n",
       "      <th>AI</th>\n",
       "      <td>18.220554</td>\n",
       "      <td>-63.068615</td>\n",
       "      <td>Anguilla</td>\n",
       "    </tr>\n",
       "    <tr>\n",
       "      <th>AL</th>\n",
       "      <td>41.153332</td>\n",
       "      <td>20.168331</td>\n",
       "      <td>Albania</td>\n",
       "    </tr>\n",
       "    <tr>\n",
       "      <th>AM</th>\n",
       "      <td>40.069099</td>\n",
       "      <td>45.038189</td>\n",
       "      <td>Armenia</td>\n",
       "    </tr>\n",
       "    <tr>\n",
       "      <th>AN</th>\n",
       "      <td>12.226079</td>\n",
       "      <td>-69.060087</td>\n",
       "      <td>Netherlands Antilles</td>\n",
       "    </tr>\n",
       "    <tr>\n",
       "      <th>AO</th>\n",
       "      <td>-11.202692</td>\n",
       "      <td>17.873887</td>\n",
       "      <td>Angola</td>\n",
       "    </tr>\n",
       "    <tr>\n",
       "      <th>AQ</th>\n",
       "      <td>-75.250973</td>\n",
       "      <td>-0.071389</td>\n",
       "      <td>Antarctica</td>\n",
       "    </tr>\n",
       "  </tbody>\n",
       "</table>\n",
       "</div>"
      ],
      "text/plain": [
       "          latitude  longitude                  name\n",
       "country                                            \n",
       "AD       42.546245   1.601554               Andorra\n",
       "AE       23.424076  53.847818  United Arab Emirates\n",
       "AF       33.939110  67.709953           Afghanistan\n",
       "AG       17.060816 -61.796428   Antigua and Barbuda\n",
       "AI       18.220554 -63.068615              Anguilla\n",
       "AL       41.153332  20.168331               Albania\n",
       "AM       40.069099  45.038189               Armenia\n",
       "AN       12.226079 -69.060087  Netherlands Antilles\n",
       "AO      -11.202692  17.873887                Angola\n",
       "AQ      -75.250973  -0.071389            Antarctica"
      ]
     },
     "execution_count": 117,
     "metadata": {},
     "output_type": "execute_result"
    }
   ],
   "source": [
    "# CSV found on this page: https://developers.google.com/public-data/docs/canonical/countries_csv\n",
    "countries_df = pd.read_csv(\"countries.csv\", sep = '\\t')\n",
    "\n",
    "# Remove the space at the end of the column names\n",
    "countries_df.columns = ['country', 'latitude', 'longitude', 'name']\n",
    "\n",
    "# Setting country as Index\n",
    "countries_df.set_index('country', inplace = True)\n",
    "countries_df.head(10)"
   ]
  },
  {
   "cell_type": "markdown",
   "metadata": {},
   "source": [
    "With this second data set we will be able to see how the products travel across the world. To be more specific, we wil be able to compute the distance traveled from the countries coordinates on the map (by computing the grand circle distance). As we all know, the fact of importing food that comes from far away is bad for the environment. Mainly for vegetable as they have to travel most of the time by plane otherwise they get quickly out of date."
   ]
  },
  {
   "cell_type": "markdown",
   "metadata": {},
   "source": [
    "# More analysis of the research questions"
   ]
  },
  {
   "cell_type": "markdown",
   "metadata": {},
   "source": [
    "### What is the proportion of imported/exported products per country?"
   ]
  },
  {
   "cell_type": "markdown",
   "metadata": {},
   "source": [
    "With both `origins_tags` and `countries_tags`, we can extract the countries that import and export the most number of products. We can assume that the name of the product are unique and therefore can be used to look for the number of products sold in or are being sold by a particular country. The countries and origins tags are not cleaned yet, but it is definitely possible to search whether it might countain the name of a known country or the abbreviation of it to do or from one of its cities. We also plan to extract the known coordinate for every country and map them to the origins_tags and countries_tags and display the flow of products inward or outward from every single country and its volume on a world map to know what country produces the most of the products used worldwide or the one that imports the most of its products. With the second data frame we imported, we will be able to show the distance traveled by the product (using the great distant circle) in the world."
   ]
  },
  {
   "cell_type": "code",
   "execution_count": 118,
   "metadata": {},
   "outputs": [
    {
     "data": {
      "text/plain": [
       "6577"
      ]
     },
     "execution_count": 118,
     "metadata": {},
     "output_type": "execute_result"
    }
   ],
   "source": [
    "# The number of unique values for origins_tags\n",
    "len(df3[\"origins_tags\"].unique())"
   ]
  },
  {
   "cell_type": "code",
   "execution_count": 119,
   "metadata": {},
   "outputs": [
    {
     "data": {
      "text/plain": [
       "1358"
      ]
     },
     "execution_count": 119,
     "metadata": {},
     "output_type": "execute_result"
    }
   ],
   "source": [
    "# The number of unique values for countries\n",
    "len(df3[\"countries_tags\"].unique())"
   ]
  },
  {
   "cell_type": "code",
   "execution_count": 120,
   "metadata": {},
   "outputs": [
    {
     "data": {
      "text/plain": [
       "countries_tags\n",
       "be:belgique                   2\n",
       "ca:catalunya                  1\n",
       "ch:deutschland,ch:schweiz     1\n",
       "ch:schweiz                    1\n",
       "ch:suisse                    37\n",
       "Name: product_name, dtype: int64"
      ]
     },
     "execution_count": 120,
     "metadata": {},
     "output_type": "execute_result"
    }
   ],
   "source": [
    "# Number of products sold in a specific country\n",
    "df3.copy().groupby(by = ['countries_tags'])[\"product_name\"].count().head()"
   ]
  },
  {
   "cell_type": "code",
   "execution_count": 121,
   "metadata": {},
   "outputs": [
    {
     "data": {
      "text/plain": [
       "origins_tags\n",
       "03-2018                1\n",
       "08430-jandun,france    1\n",
       "0se361-3,sweden        1\n",
       "1-france,3-ue          1\n",
       "1-mai,alger,algerie    1\n",
       "Name: product_name, dtype: int64"
      ]
     },
     "execution_count": 121,
     "metadata": {},
     "output_type": "execute_result"
    }
   ],
   "source": [
    "# Number of products made in a specific country\n",
    "df3.copy().groupby(by = ['origins_tags'])[\"product_name\"].count().head()"
   ]
  },
  {
   "cell_type": "markdown",
   "metadata": {},
   "source": [
    "We notice that the aggregation by `countries_tags` has 1358 possible unique values (excluding NaN) which is much more than the possible number of countries in the world. After exploring the countries_tags, we observe the some products are sold in more than a single country, and the combination of all the product in which it is sold is considered a single entry for `origins_tags`. Thus, a separation of the `countries_tags` is neccessary and reaggregation of the all the products."
   ]
  },
  {
   "cell_type": "markdown",
   "metadata": {},
   "source": [
    "We also notice that origins_tags has 6577 unique values (excluding NaN) whici is more than the possible number of countries in the world. After exploring origins_tags, we observe the some origin_tags are more specific about the origins than just including the country. We should clean this column by looking at whether it contains a known name of a country."
   ]
  },
  {
   "cell_type": "markdown",
   "metadata": {},
   "source": [
    "### Which countries contribute most to the environment through eco-friendly packages?"
   ]
  },
  {
   "cell_type": "markdown",
   "metadata": {},
   "source": [
    "Initially, this question was supposed to be centered on packaging and carbon-footprint. However, we noticed that the `carbon-footprint_100g` column has very few non-NaN values:"
   ]
  },
  {
   "cell_type": "code",
   "execution_count": 123,
   "metadata": {},
   "outputs": [
    {
     "data": {
      "text/plain": [
       "342"
      ]
     },
     "execution_count": 123,
     "metadata": {},
     "output_type": "execute_result"
    }
   ],
   "source": [
    "# We get the number of non-nan values in the carbon-footprint column.\n",
    "# Here we take the original dataframe to show the result since other dataframes had already deleted this column\n",
    "df['carbon-footprint_100g'].count()"
   ]
  },
  {
   "cell_type": "markdown",
   "metadata": {},
   "source": [
    "This jeopardizes this research question on one hand since CO2 footprint is a vital aspect and the data is lacking. As a result, we will not be using the CO2 footprint in this research question since we have decided to remove the column. On the other hand, we will be able to move forward by analyzing the `packaging_tags` column. <br>\n",
    "Let's see if the `packaging_tags` and `countries_tags` column have enough data for this question:"
   ]
  },
  {
   "cell_type": "code",
   "execution_count": 124,
   "metadata": {},
   "outputs": [
    {
     "data": {
      "text/plain": [
       "137496"
      ]
     },
     "execution_count": 124,
     "metadata": {},
     "output_type": "execute_result"
    }
   ],
   "source": [
    "df3['packaging_tags'].count()"
   ]
  },
  {
   "cell_type": "code",
   "execution_count": 125,
   "metadata": {},
   "outputs": [
    {
     "data": {
      "text/plain": [
       "682557"
      ]
     },
     "execution_count": 125,
     "metadata": {},
     "output_type": "execute_result"
    }
   ],
   "source": [
    "df3['countries_tags'].count()"
   ]
  },
  {
   "cell_type": "markdown",
   "metadata": {},
   "source": [
    "We notice that the data relative to the packaging has more than 130,000 non-NaN values and the data relative to the country where is it ***sold*** is present in nearly all products. In this sense, by using the information of the packaging along with the column `countries_tags`, we can estimate the countries that sell the highest variety of eco-friendly products but only in terms of packaging. "
   ]
  },
  {
   "cell_type": "markdown",
   "metadata": {},
   "source": [
    "### Which countries have the largest variety of organic-labeled products? "
   ]
  },
  {
   "cell_type": "markdown",
   "metadata": {},
   "source": [
    "This research question appeals to three different columns: `countries_tags`, `categories_tags` and `labels_tags`. The labels and categories have data about wether the products are organic or not, while the countries will be used to identify which of the countries have the largest variety of organic-labeled products."
   ]
  },
  {
   "cell_type": "code",
   "execution_count": 126,
   "metadata": {
    "scrolled": true
   },
   "outputs": [
    {
     "data": {
      "text/plain": [
       "174368"
      ]
     },
     "execution_count": 126,
     "metadata": {},
     "output_type": "execute_result"
    }
   ],
   "source": [
    "df3['categories_tags'].count()"
   ]
  },
  {
   "cell_type": "markdown",
   "metadata": {},
   "source": [
    "We see that we have data of the categories for more than 170,000 products. As a result, this column has enough data to be considered for this research question."
   ]
  },
  {
   "cell_type": "code",
   "execution_count": 127,
   "metadata": {},
   "outputs": [
    {
     "data": {
      "text/plain": [
       "100852"
      ]
     },
     "execution_count": 127,
     "metadata": {},
     "output_type": "execute_result"
    }
   ],
   "source": [
    "df3['labels_tags'].count()"
   ]
  },
  {
   "cell_type": "markdown",
   "metadata": {},
   "source": [
    "We also notice that we have data of the labels for more than 100,000 products. As a result, this column has enough data to be considered for this research question. <br>\n",
    "Since we know that the `countries_tags` column is filled for almost every product, we can conclude that this research question can be answered by looking at the organic labels in `labels_tags` and possibly `categories_tags` and mapping the labels to the countries from `countries_tags`."
   ]
  },
  {
   "cell_type": "markdown",
   "metadata": {},
   "source": [
    "### How healthy do we eat in the different countries?"
   ]
  },
  {
   "cell_type": "markdown",
   "metadata": {},
   "source": [
    "In order"
   ]
  },
  {
   "cell_type": "markdown",
   "metadata": {},
   "source": [
    "## Answering the research questions "
   ]
  },
  {
   "cell_type": "markdown",
   "metadata": {},
   "source": [
    "We first change the name of our dataframe for better readability. "
   ]
  },
  {
   "cell_type": "code",
   "execution_count": 35,
   "metadata": {},
   "outputs": [],
   "source": [
    "current_data = df3"
   ]
  },
  {
   "cell_type": "markdown",
   "metadata": {},
   "source": [
    "First of all, we need to some more cleaning for columns that will be relevant later, such as `countries_tags`"
   ]
  },
  {
   "cell_type": "code",
   "execution_count": 36,
   "metadata": {},
   "outputs": [
    {
     "data": {
      "text/plain": [
       "code\n",
       "0000000000017    en:france\n",
       "0000000000031    en:france\n",
       "0000000000123    en:france\n",
       "0000000000291    en:france\n",
       "0000000000949    en:france\n",
       "Name: countries_tags, dtype: object"
      ]
     },
     "execution_count": 36,
     "metadata": {},
     "output_type": "execute_result"
    }
   ],
   "source": [
    "current_data['countries_tags'].head()"
   ]
  },
  {
   "cell_type": "markdown",
   "metadata": {},
   "source": [
    "We notice that the name of the countries comes after the :, we can then take the substring starting from \":\"."
   ]
  },
  {
   "cell_type": "code",
   "execution_count": 37,
   "metadata": {},
   "outputs": [
    {
     "data": {
      "text/plain": [
       "array(['France', 'United states', 'Ireland', 'United kingdom',\n",
       "       'France,en', 'Canada', 'Macau', 'Switzerland', 'Peru', 'Oman',\n",
       "       'Spain', 'Germany', 'Slovenia', 'Italy', 'Romania', 'Australia',\n",
       "       'Portugal', 'Israel', 'France,fr', 'Belgium,en', 'Guadeloupe',\n",
       "       'Belgium', 'United kingdom,en', 'Dominican republic', 'Canada,en',\n",
       "       'Netherlands', 'Australia,en', 'Sweden', 'Luxembourg', 'Egypt',\n",
       "       'Palestinian territories', 'Haiti', 'Mexico', 'Mexico,en', nan,\n",
       "       'Taiwan', 'Brazil', 'Guatemala', 'Worldwide', 'Saudi arabia',\n",
       "       'United arab emirates', 'Iraq', 'Kuwait', 'Panama',\n",
       "       'Costa rica,en', 'Moldova', 'Czech republic,en', 'Singapore',\n",
       "       'Finland', 'Sweden,en', 'French polynesia', 'Niger', 'Vietnam',\n",
       "       'Italy,en', 'Saint lucia', 'Colombia', 'Greece', 'Thailand',\n",
       "       'Costa rica', 'Netherlands,en', 'Spain,en', 'French polynesia,en',\n",
       "       'Trinidad and tobago', 'Morocco', 'Jordan', 'Hong kong',\n",
       "       'Mauritius', 'Malaysia', 'Hong kong,en', 'China', 'Saint martin',\n",
       "       'Germany,en', 'Switzerland,en', 'Denmark,en', 'Malaysia,en',\n",
       "       'European union,en', 'Serbia', 'Martinique', 'Barbados,en',\n",
       "       'Aruba,en', 'New caledonia', 'Norway', 'El salvador,en',\n",
       "       'Bahrain,en', 'Reunion', 'Qatar', 'Denmark', 'South korea',\n",
       "       'Senegal', 'El salvador', 'Chile', 'Cuba', 'Austria,en', 'Japan',\n",
       "       'Puerto rico', 'Israel,en', 'Anguilla', 'The bahamas',\n",
       "       'United states,en', 'India', 'Cote d ivoire', 'Philippines',\n",
       "       'Aruba', 'Argentina', 'Panama,en', 'Russia', 'Poland',\n",
       "       'United states of america', 'Nicaragua', 'Lebanon', 'South africa',\n",
       "       'Brazil,en', 'Togo', 'Austria', 'Guinea', 'Mexico,es',\n",
       "       'Burkina faso', 'China,en', 'Saint pierre and miquelon', 'Algeria',\n",
       "       'Sierra leone', 'European union', 'Quebec', 'Czech republic',\n",
       "       'Canada,fr', 'En', 'Algeria,en', 'Dominican republic,en',\n",
       "       'Indonesia', 'Armenia', 'India,en', 'Jamaica', 'Curacao',\n",
       "       'New zealand', 'Singapore,en', 'Ecuador', 'Turkey', 'Cambodia',\n",
       "       'Chile,en', 'French guiana', 'Hungary', 'Albania', 'Gabon',\n",
       "       'Pakistan', 'Benin', 'Tunisia', 'Bulgaria', 'Nigeria', 'Honduras',\n",
       "       'Cameroon', 'Guyana', 'Monaco', 'Reunion,fr',\n",
       "       'Democratic republic of the congo', 'Cyprus,en', 'Venezuela',\n",
       "       'Uruguay', 'Cote d ivoire,en', 'Mongolia', 'Myanmar', 'Bahrain',\n",
       "       'Iran', 'Mauritius,en', 'Lebanon,en', 'Chad', 'Bangladesh',\n",
       "       'Bangladesh,en', 'Japan,en', 'Dominica', 'Cyprus', 'Mayotte',\n",
       "       'Djibouti', 'Ukraine', 'Switzerland,fr', 'Finland,en',\n",
       "       'Lithuania,en', 'Portugal,en', 'Croatia', 'Iceland', 'Hungary,en',\n",
       "       'Russia,en', 'Global market', 'Colombia,en', 'World', 'Madagascar',\n",
       "       'Croatia,en', 'Deutschland,fr', 'Latvia', 'Bulgaria,en',\n",
       "       'France,ca', 'Frankreich', 'Allemagne', 'Germany,zu', 'France,de',\n",
       "       'Scotland,en', 'Poland,en', 'Belgie', 'Slovakia', 'Greece,en',\n",
       "       'Lithuania', 'Malta', 'Germany,de', 'Ireland,en', 'Switzerland,ch',\n",
       "       'Belgium,fr', 'Deutschland,en', 'Switzerland,de', 'Benin,en',\n",
       "       'Suisse', 'Frankrijk', 'France,be', 'Argentina,en',\n",
       "       'Democratic republic of the congo,en', 'Kazakhstan', 'Belarus,en',\n",
       "       'France,ch', 'Republic of the congo', 'Belarus', 'Dom tom',\n",
       "       'Georgia', 'Mauritania', 'Burkina faso,en',\n",
       "       'Leclerc bois d arcy france', 'Djibouti,en', 'Libya', 'Albania,en',\n",
       "       'Cameroon,en', 'Guadeloupe,en', 'France,es', 'Cambodia,en',\n",
       "       'French guiana,en', 'Andorra,en', 'Mali', 'French polynesia,fr',\n",
       "       'Franca', 'Leclerc', 'Leclerc nice saint isidore', 'Estonia,en',\n",
       "       'Europe', 'Andorra', 'Serbia,en', 'Republic of macedonia',\n",
       "       'Bosnia and herzegovina,en', 'Montenegro,en',\n",
       "       'Bosnia and herzegovina', 'Montenegro', 'Albania,sq',\n",
       "       'Luxembourg,en', 'Armenia,en', 'Allemagne,en', 'Spain,es',\n",
       "       'Antigua and barbuda', 'Danemark,en', 'Ghana', 'Franța',\n",
       "       'Afghanistan', 'Cape verde', 'Deutschland,ch', 'Frankreich,fr',\n",
       "       'Georgia,en', 'Azerbaijan', 'Taiwan,en', 'Estonia', 'Sri lanka',\n",
       "       'Tajikistan', 'Kyrgyzstan', 'Japan,fr', 'All over the world',\n",
       "       'Barbados', 'Kenya', 'England', 'Burundi', 'Rwanda', 'Hungary,hu',\n",
       "       'U k', 'Malawi', 'Belgique', 'Delhaize', 'Germany,fr', 'Bolivia',\n",
       "       'Central african republic', 'South africa,en', 'Espagne',\n",
       "       'Gibraltar', 'Portugal,fr', 'Angola', 'Mozambique', 'Portugal,es',\n",
       "       'Azerbaijan,en', 'Aland islands', 'Poland,fr', 'Yemen,ar',\n",
       "       'Moldova,en', 'Namibia', 'Algerie', 'Tanzania', 'Chad,en',\n",
       "       'Republic of the congo,en', 'Syria', 'Brunei', 'Morocco,en',\n",
       "       'Yemen', 'Qatar,en', 'Somalia', 'Jordan,en', '中国', 'Vanuatu',\n",
       "       'United arab emirates,fr', 'Sverige', 'Norway,en',\n",
       "       'Comercial mexicana,es', 'Guatemala,en', 'Bolivia,en',\n",
       "       'Schweiz,en', 'Germany,ch', 'Central african republic,en',\n",
       "       'Schweiz', 'Isle of man', 'Paraguay', 'Reunion,en', 'Italy,it',\n",
       "       'Ethiopia', 'Burundi,en', 'Cook islands', 'Cape verde,en',\n",
       "       'Catalunya', 'Hacendado', 'Mauritania,en', 'Cuba,en', 'Egypt,en',\n",
       "       'Mozambique,en', 'Iraq,en', 'Belgie,fr', 'Nerderland',\n",
       "       'Afghanistan,en', 'Laos', 'Tunisie,en', 'Thailand,en',\n",
       "       'Timor leste', 'Fiji', 'Nepal',\n",
       "       'British indian ocean territory,en', 'Wallis and futuna',\n",
       "       'Kuala lumpur', 'Namibia,en', 'Maldives', 'Cook islands,en'],\n",
       "      dtype=object)"
      ]
     },
     "execution_count": 37,
     "metadata": {},
     "output_type": "execute_result"
    }
   ],
   "source": [
    "# We make a copy of the column\n",
    "countries = current_data['countries_tags'].astype(str)\n",
    "\n",
    "# We split and take the second element, for example en:france would return france\n",
    "countries = countries.str.split(':').str.get(1)\n",
    "\n",
    "# We capitalize the first letter\n",
    "countries = countries.str.capitalize()\n",
    "\n",
    "# Some results are United-states, we remove the \"-\" for better readability\n",
    "countries = countries.str.replace(\"-\", \" \")\n",
    "\n",
    "# We check the result\n",
    "countries.unique()"
   ]
  },
  {
   "cell_type": "markdown",
   "metadata": {},
   "source": [
    "While the result is satifsying, we still notice that some countries have their name followed by either \",en\", \",fr\", \",de\", \",ch\", \",it\", \",sq\" or \",es\". We can remove them to only keep the country. Moreover, some country names are \"To be checked\", however we should not remove them because those rows may contain data that is relevant to other research questions."
   ]
  },
  {
   "cell_type": "code",
   "execution_count": 38,
   "metadata": {},
   "outputs": [],
   "source": [
    "# We remove the names that contain extra characters that are not needed. Since they are not a lot, \n",
    "# we can do it manually.\n",
    "\n",
    "countries = clean_coutries_tags(current_data)\n",
    "countries = countries.str.replace(\",en\", \"\")\n",
    "countries = countries.str.replace(\",fr\", \"\")\n",
    "countries = countries.str.replace(\",de\", \"\")\n",
    "countries = countries.str.replace(\",ch\", \"\")\n",
    "countries = countries.str.replace(\",it\", \"\")\n",
    "countries = countries.str.replace(\",sq\", \"\")\n",
    "countries = countries.str.replace(\",es\", \"\")\n",
    "\n",
    "# We also replace the values representing the same country to the country that is represented\n",
    "countries = countries.str.replace(\"Suisse\", \"Switzerland\")\n",
    "\n",
    "countries = countries.str.replace(\"French polynesia\", \"France\")\n",
    "countries = countries.str.replace(\"French guiana\", \"France\")\n",
    "countries = countries.str.replace(\"Martinique\", \"France\")\n",
    "countries = countries.str.replace(\"Guadeloupe\", \"France\")\n",
    "countries = countries.str.replace(\"New caledonia\", \"France\")\n",
    "countries = countries.str.replace(\"Reunion\", \"France\")\n",
    "countries = countries.str.replace(\"Frankreich\", \"France\")\n",
    "countries = countries.str.replace(\"Frankrike\", \"France\")\n",
    "\n",
    "countries = countries.str.replace(\"Deutschland\", \"Germany\")\n",
    "countries = countries.str.replace(\"Allemagne\", \"Germany\")\n",
    "\n",
    "# We put countries into a dataframe\n",
    "countries_in_df = countries.to_frame()"
   ]
  },
  {
   "cell_type": "markdown",
   "metadata": {},
   "source": [
    "Now that the column is cleaned, we can set it as the column of our dataframe"
   ]
  },
  {
   "cell_type": "code",
   "execution_count": 39,
   "metadata": {},
   "outputs": [
    {
     "data": {
      "text/plain": [
       "array(['France', 'United states', 'Ireland', 'United kingdom', 'Canada',\n",
       "       'Macau', 'Switzerland', 'Peru', 'Oman', 'Spain', 'Germany',\n",
       "       'Slovenia', 'Italy', 'Romania', 'Australia', 'Portugal', 'Israel',\n",
       "       'Belgium', 'Dominican republic', 'Netherlands', 'Sweden',\n",
       "       'Luxembourg', 'Egypt', 'Palestinian territories', 'Haiti',\n",
       "       'Mexico', nan, 'Taiwan', 'Brazil', 'Guatemala', 'Worldwide',\n",
       "       'Saudi arabia', 'United arab emirates', 'Iraq', 'Kuwait', 'Panama',\n",
       "       'Costa rica', 'Moldova', 'Czech republic', 'Singapore', 'Finland',\n",
       "       'Niger', 'Vietnam', 'Saint lucia', 'Colombia', 'Greece',\n",
       "       'Thailand', 'Trinidad and tobago', 'Morocco', 'Jordan',\n",
       "       'Hong kong', 'Mauritius', 'Malaysia', 'China', 'Saint martin',\n",
       "       'Denmark', 'European union', 'Serbia', 'Barbados', 'Aruba',\n",
       "       'Norway', 'El salvador', 'Bahrain', 'Qatar', 'South korea',\n",
       "       'Senegal', 'Chile', 'Cuba', 'Austria', 'Japan', 'Puerto rico',\n",
       "       'Anguilla', 'The bahamas', 'India', 'Cote d ivoire', 'Philippines',\n",
       "       'Argentina', 'Russia', 'Poland', 'United states of america',\n",
       "       'Nicaragua', 'Lebanon', 'South africa', 'Togo', 'Guinea',\n",
       "       'Burkina faso', 'Saint pierre and miquelon', 'Algeria',\n",
       "       'Sierra leone', 'Quebec', 'En', 'Indonesia', 'Armenia', 'Jamaica',\n",
       "       'Curacao', 'New zealand', 'Ecuador', 'Turkey', 'Cambodia',\n",
       "       'Hungary', 'Albania', 'Gabon', 'Pakistan', 'Benin', 'Tunisia',\n",
       "       'Bulgaria', 'Nigeria', 'Honduras', 'Cameroon', 'Guyana', 'Monaco',\n",
       "       'Democratic republic of the congo', 'Cyprus', 'Venezuela',\n",
       "       'Uruguay', 'Mongolia', 'Myanmar', 'Iran', 'Chad', 'Bangladesh',\n",
       "       'Dominica', 'Mayotte', 'Djibouti', 'Ukraine', 'Lithuania',\n",
       "       'Croatia', 'Iceland', 'Global market', 'World', 'Madagascar',\n",
       "       'Latvia', 'France,ca', 'Germany,zu', 'Scotland', 'Belgie',\n",
       "       'Slovakia', 'Malta', 'Frankrijk', 'France,be', 'Kazakhstan',\n",
       "       'Belarus', 'Republic of the congo', 'Dom tom', 'Georgia',\n",
       "       'Mauritania', 'Leclerc bois d arcy france', 'Libya', 'Andorra',\n",
       "       'Mali', 'Franca', 'Leclerc', 'Leclerc nice saint isidore',\n",
       "       'Estonia', 'Europe', 'Republic of macedonia',\n",
       "       'Bosnia and herzegovina', 'Montenegro', 'Antigua and barbuda',\n",
       "       'Danemark', 'Ghana', 'Franța', 'Afghanistan', 'Cape verde',\n",
       "       'Azerbaijan', 'Sri lanka', 'Tajikistan', 'Kyrgyzstan',\n",
       "       'All over the world', 'Kenya', 'England', 'Burundi', 'Rwanda',\n",
       "       'Hungary,hu', 'U k', 'Malawi', 'Belgique', 'Delhaize', 'Bolivia',\n",
       "       'Central african republic', 'Espagne', 'Gibraltar', 'Angola',\n",
       "       'Mozambique', 'Aland islands', 'Yemen,ar', 'Namibia', 'Algerie',\n",
       "       'Tanzania', 'Syria', 'Brunei', 'Yemen', 'Somalia', '中国', 'Vanuatu',\n",
       "       'Sverige', 'Comercial mexicana', 'Schweiz', 'Isle of man',\n",
       "       'Paraguay', 'Ethiopia', 'Cook islands', 'Catalunya', 'Hacendado',\n",
       "       'Nerderland', 'Laos', 'Tunisie', 'Timor leste', 'Fiji', 'Nepal',\n",
       "       'British indian ocean territory', 'Wallis and futuna',\n",
       "       'Kuala lumpur', 'Maldives'], dtype=object)"
      ]
     },
     "execution_count": 39,
     "metadata": {},
     "output_type": "execute_result"
    }
   ],
   "source": [
    "current_data['countries_tags'] = countries_in_df['countries_tags']\n",
    "current_data['countries_tags'].unique()"
   ]
  },
  {
   "cell_type": "markdown",
   "metadata": {},
   "source": [
    "### What is the proportion of imported/exported products per country?"
   ]
  },
  {
   "cell_type": "code",
   "execution_count": 137,
   "metadata": {},
   "outputs": [],
   "source": [
    "# All the fucntions used in this cell are stored in the helpers.py file at root level of the git repository\n",
    "# They were placed here as their number of lines sum up to 250 line of code\n",
    "\n",
    "# Further cleaning of the countries tags\n",
    "ct = clean_coutries_tags(current_data)\n",
    "current_data['countries_tags'] = ct\n",
    "\n",
    "ot = clean_origins_tags(current_data)\n",
    "ot[ot.str.islower()] = \"Unknown\"\n",
    "current_data['origins_tags'] = ot\n",
    "current_data = current_data[current_data['origins_tags'] != \"Unknown\"]\n",
    "\n",
    "mt = clean_manufact(current_data)\n",
    "current_data['manufacturing_places'] = mt"
   ]
  },
  {
   "cell_type": "code",
   "execution_count": 136,
   "metadata": {},
   "outputs": [
    {
     "data": {
      "image/png": "[encoded data removed]",
      "text/plain": [
       "<Figure size 1080x432 with 1 Axes>"
      ]
     },
     "metadata": {
      "needs_background": "light"
     },
     "output_type": "display_data"
    }
   ],
   "source": [
    "ori_tags = current_data[['origins_tags','product_name']].groupby('origins_tags').count().sort_values(by= 'product_name', ascending=False)\n",
    "ori_tags.drop(ori_tags.index[[1]], inplace=True)\n",
    "plt.figure(figsize=(15,6))\n",
    "plt.xlabel('Product Count')\n",
    "plt.ylabel('Countries')\n",
    "plt.title('Top 10 origin countries')\n",
    "plt.barh(ori_tags.head(10).index, ori_tags.head(10).product_name, log=True)\n",
    "plt.show()"
   ]
  },
  {
   "cell_type": "code",
   "execution_count": 65,
   "metadata": {
    "scrolled": false
   },
   "outputs": [
    {
     "data": {
      "image/png": "[encoded data removed]",
      "text/plain": [
       "<Figure size 1080x432 with 1 Axes>"
      ]
     },
     "metadata": {
      "needs_background": "light"
     },
     "output_type": "display_data"
    }
   ],
   "source": [
    "ctry_tags = current_data[['countries_tags','product_name']].groupby('countries_tags').count().sort_values(by= 'product_name', ascending=False)\n",
    "plt.figure(figsize=(15,6))\n",
    "plt.xlabel('Product Count')\n",
    "plt.ylabel('Countries')\n",
    "plt.title('Top 10 countries with sold products')\n",
    "plt.barh(ctry_tags.head(10).index, ctry_tags.head(10).product_name, log=True)\n",
    "plt.show()"
   ]
  },
  {
   "cell_type": "code",
   "execution_count": 139,
   "metadata": {
    "scrolled": true
   },
   "outputs": [
    {
     "data": {
      "text/html": [
       "<div>\n",
       "<style scoped>\n",
       "    .dataframe tbody tr th:only-of-type {\n",
       "        vertical-align: middle;\n",
       "    }\n",
       "\n",
       "    .dataframe tbody tr th {\n",
       "        vertical-align: top;\n",
       "    }\n",
       "\n",
       "    .dataframe thead th {\n",
       "        text-align: right;\n",
       "    }\n",
       "</style>\n",
       "<table border=\"1\" class=\"dataframe\">\n",
       "  <thead>\n",
       "    <tr style=\"text-align: right;\">\n",
       "      <th></th>\n",
       "      <th>product_name</th>\n",
       "    </tr>\n",
       "    <tr>\n",
       "      <th>origins_tags</th>\n",
       "      <th></th>\n",
       "    </tr>\n",
       "  </thead>\n",
       "  <tbody>\n",
       "    <tr>\n",
       "      <th>France</th>\n",
       "      <td>16027</td>\n",
       "    </tr>\n",
       "    <tr>\n",
       "      <th>Italy</th>\n",
       "      <td>1198</td>\n",
       "    </tr>\n",
       "    <tr>\n",
       "      <th>Spain</th>\n",
       "      <td>1023</td>\n",
       "    </tr>\n",
       "    <tr>\n",
       "      <th>United kingdom</th>\n",
       "      <td>286</td>\n",
       "    </tr>\n",
       "    <tr>\n",
       "      <th>China</th>\n",
       "      <td>283</td>\n",
       "    </tr>\n",
       "    <tr>\n",
       "      <th>Norway</th>\n",
       "      <td>281</td>\n",
       "    </tr>\n",
       "    <tr>\n",
       "      <th>Peru</th>\n",
       "      <td>264</td>\n",
       "    </tr>\n",
       "    <tr>\n",
       "      <th>Germany</th>\n",
       "      <td>262</td>\n",
       "    </tr>\n",
       "    <tr>\n",
       "      <th>Thailand</th>\n",
       "      <td>237</td>\n",
       "    </tr>\n",
       "    <tr>\n",
       "      <th>Belgium</th>\n",
       "      <td>234</td>\n",
       "    </tr>\n",
       "  </tbody>\n",
       "</table>\n",
       "</div>"
      ],
      "text/plain": [
       "                product_name\n",
       "origins_tags                \n",
       "France                 16027\n",
       "Italy                   1198\n",
       "Spain                   1023\n",
       "United kingdom           286\n",
       "China                    283\n",
       "Norway                   281\n",
       "Peru                     264\n",
       "Germany                  262\n",
       "Thailand                 237\n",
       "Belgium                  234"
      ]
     },
     "execution_count": 139,
     "metadata": {},
     "output_type": "execute_result"
    }
   ],
   "source": [
    "imp_exp = current_data[current_data['origins_tags'] != 'nan']\n",
    "imp_exp = imp_exp[imp_exp['origins_tags'] != 'European union']\n",
    "imp_exp = imp_exp[['countries_tags','origins_tags','product_name']].groupby(['countries_tags','origins_tags'])\\\n",
    "            .count()\\\n",
    "            .sort_values(by='product_name', ascending=False)\n",
    "imp_exp.loc['France'].head(10)"
   ]
  },
  {
   "cell_type": "markdown",
   "metadata": {},
   "source": [
    "### Which countries contribute most to the environment through eco-friendly packages?"
   ]
  },
  {
   "cell_type": "markdown",
   "metadata": {},
   "source": [
    "In order to answer this question, it is important to do some research to understand which packaging are the most/least eco-friendly. Online websites such as https://bizfluent.com/facts-6743400-eco-friendly-packaging-.html gave us some insights. First, we noticed that the \n",
    "Our research research has led to following conclusions:"
   ]
  },
  {
   "cell_type": "code",
   "execution_count": 47,
   "metadata": {},
   "outputs": [
    {
     "data": {
      "text/html": [
       "<div>\n",
       "<style scoped>\n",
       "    .dataframe tbody tr th:only-of-type {\n",
       "        vertical-align: middle;\n",
       "    }\n",
       "\n",
       "    .dataframe tbody tr th {\n",
       "        vertical-align: top;\n",
       "    }\n",
       "\n",
       "    .dataframe thead th {\n",
       "        text-align: right;\n",
       "    }\n",
       "</style>\n",
       "<table border=\"1\" class=\"dataframe\">\n",
       "  <thead>\n",
       "    <tr style=\"text-align: right;\">\n",
       "      <th></th>\n",
       "      <th>index</th>\n",
       "      <th>countries_tags</th>\n",
       "      <th>packaging</th>\n",
       "    </tr>\n",
       "  </thead>\n",
       "  <tbody>\n",
       "    <tr>\n",
       "      <th>0</th>\n",
       "      <td>0</td>\n",
       "      <td>France</td>\n",
       "      <td>barquette</td>\n",
       "    </tr>\n",
       "    <tr>\n",
       "      <th>1</th>\n",
       "      <td>1</td>\n",
       "      <td>France</td>\n",
       "      <td>plastique</td>\n",
       "    </tr>\n",
       "    <tr>\n",
       "      <th>2</th>\n",
       "      <td>2</td>\n",
       "      <td>France</td>\n",
       "      <td>bocal</td>\n",
       "    </tr>\n",
       "    <tr>\n",
       "      <th>3</th>\n",
       "      <td>3</td>\n",
       "      <td>France</td>\n",
       "      <td>plastique</td>\n",
       "    </tr>\n",
       "    <tr>\n",
       "      <th>4</th>\n",
       "      <td>4</td>\n",
       "      <td>France</td>\n",
       "      <td>plastique</td>\n",
       "    </tr>\n",
       "    <tr>\n",
       "      <th>5</th>\n",
       "      <td>5</td>\n",
       "      <td>France</td>\n",
       "      <td>carton</td>\n",
       "    </tr>\n",
       "    <tr>\n",
       "      <th>6</th>\n",
       "      <td>6</td>\n",
       "      <td>France</td>\n",
       "      <td>plastique</td>\n",
       "    </tr>\n",
       "    <tr>\n",
       "      <th>7</th>\n",
       "      <td>7</td>\n",
       "      <td>France</td>\n",
       "      <td>plastique</td>\n",
       "    </tr>\n",
       "    <tr>\n",
       "      <th>8</th>\n",
       "      <td>8</td>\n",
       "      <td>France</td>\n",
       "      <td>carton</td>\n",
       "    </tr>\n",
       "    <tr>\n",
       "      <th>9</th>\n",
       "      <td>9</td>\n",
       "      <td>Canada</td>\n",
       "      <td>frais</td>\n",
       "    </tr>\n",
       "  </tbody>\n",
       "</table>\n",
       "</div>"
      ],
      "text/plain": [
       "   index countries_tags  packaging\n",
       "0      0         France  barquette\n",
       "1      1         France  plastique\n",
       "2      2         France      bocal\n",
       "3      3         France  plastique\n",
       "4      4         France  plastique\n",
       "5      5         France     carton\n",
       "6      6         France  plastique\n",
       "7      7         France  plastique\n",
       "8      8         France     carton\n",
       "9      9         Canada      frais"
      ]
     },
     "execution_count": 47,
     "metadata": {},
     "output_type": "execute_result"
    }
   ],
   "source": [
    "# We first take the rows with a non-null value in packaging_tags\n",
    "packaging_list_not_null = current_data[current_data['packaging_tags'].notnull()]\n",
    "\n",
    "# We then take only the columns we are interested in: packaging_tags and countries_tags\n",
    "packaging_list = packaging_list_not_null[['countries_tags','packaging_tags']]\n",
    "\n",
    "# We put packaging_tags in a list, separate them by the \",\" which separates the different packaging\n",
    "packaging_list['packaging_tags'] = packaging_list['packaging_tags'].str.split(',')\n",
    "\n",
    "# We set the countries_tags as index to \"explode\" the list into different rows\n",
    "packaging_list = packaging_list.set_index('countries_tags')\n",
    " \n",
    "# We do the \"explode\"\n",
    "packaging_list = (packaging_list.packaging_tags.apply(pd.Series)\n",
    "              .stack()\n",
    "              .reset_index(level=1, drop=True)\n",
    "              .to_frame('packaging'))\n",
    "\n",
    "# We reset the index\n",
    "packaging_list = packaging_list.reset_index(level=0)\n",
    "\n",
    "packaging_list = packaging_list.reset_index(level=0)\n",
    "\n",
    "# Show the output\n",
    "packaging_list.head(10)"
   ]
  },
  {
   "cell_type": "markdown",
   "metadata": {},
   "source": [
    "Now that we have for each country what packaging it uses for each product, we need some way to quantify it. Thus, we create a dictionary containing for each packaging a certain grade, where the higher the grade the more it is eco-friendly. We can then group by the country and take the mean (dividing by the number of products)."
   ]
  },
  {
   "cell_type": "code",
   "execution_count": 87,
   "metadata": {},
   "outputs": [
    {
     "data": {
      "text/plain": [
       "<matplotlib.axes._subplots.AxesSubplot at 0x1a6aaf4080>"
      ]
     },
     "execution_count": 87,
     "metadata": {},
     "output_type": "execute_result"
    },
    {
     "data": {
      "image/png": "[encoded data removed]",
      "text/plain": [
       "<Figure size 432x288 with 1 Axes>"
      ]
     },
     "metadata": {
      "needs_background": "light"
     },
     "output_type": "display_data"
    },
    {
     "data": {
      "image/png": "[encoded data removed]",
      "text/plain": [
       "<Figure size 432x288 with 1 Axes>"
      ]
     },
     "metadata": {
      "needs_background": "light"
     },
     "output_type": "display_data"
    }
   ],
   "source": [
    "# Setting up the grades for each packaging type\n",
    "# Note that we take the most common packaging types, where some appear in both french and english\n",
    "# The highest the score, the more the packaging is eco-friendly\n",
    "packaging_to_grade = {\n",
    "    'carton': 60,\n",
    "    'cardboard': 60,\n",
    "    'paper': 50,\n",
    "    'papier':50,\n",
    "    'verre':40,\n",
    "    'glass':40,\n",
    "    'metal':30,\n",
    "    'canette':30, #canette is considered as metal\n",
    "    'aluminium':20,\n",
    "    'plastique': 10,\n",
    "    'plastic': 10,\n",
    "    'sachet-plastique': 10,\n",
    "    'plastic-bag': 10\n",
    "}\n",
    "\n",
    "# We create a dataframe from the dicionary\n",
    "packaging_grade_df = pd.DataFrame.from_dict(packaging_to_grade, orient='index')\n",
    "packaging_grade_df = packaging_grade_df.reset_index()\n",
    "packaging_grade_df = packaging_grade_df.rename(columns={\"index\": \"packaging\", 0: \"grade\"})\n",
    "\n",
    "# We then merge on the packaging type in order to have a grade for each packaging and each country\n",
    "packaging_with_grade = packaging_list.merge(packaging_grade_df, how='left', left_on='packaging', right_on='packaging')\n",
    "\n",
    "# We take only those with non-NaN grade (since we took only the most common packaging types, NaN may appear)\n",
    "packaging_with_grade = packaging_with_grade[packaging_with_grade['grade'].notnull()]\n",
    "\n",
    "# We noticed that some countries only have around 1 or 2 products which is not enough data\n",
    "# We thus need to take into account only those that have a certain number of products, for example 10 products\n",
    "# We duplicate the grade column and call it count_products\n",
    "packaging_with_grade['count_products'] = packaging_with_grade['grade']\n",
    "\n",
    "# We then group by the countries, and aggregate the obtain the mean for each country and the number of products\n",
    "packaging_with_grade_count = packaging_with_grade.groupby('countries_tags').agg({'grade':'mean', 'count_products':'count'})\n",
    "\n",
    "# We then take only those with more than 10 products\n",
    "final_packaging_grade = packaging_with_grade_count[packaging_with_grade_count['count_products'] >= 10]\n",
    "\n",
    "# We sort the values\n",
    "final_packaging_grade = final_packaging_grade.sort_values(by='grade', ascending=False)\n",
    "final_packaging_grade = final_packaging_grade.reset_index(level=0)\n",
    "\n",
    "final_packaging_grade = final_packaging_grade[final_packaging_grade['countries_tags'] != 'nan']\n",
    "final_packaging_grade = final_packaging_grade[final_packaging_grade['countries_tags'] != 'European union']\n",
    "\n",
    "# We take the top 10 and plot it\n",
    "final_packaging_grade_top_10 = final_packaging_grade.head(10)\n",
    "final_packaging_grade_top_10.plot.barh(x='countries_tags', y='grade', title='Top 10 eco-friendly countries')\n",
    "\n",
    "# We take the bottom 10 and plot it\n",
    "final_packaging_grade_bottom_10 = final_packaging_grade.tail(10)\n",
    "final_packaging_grade_bottom_10.plot.barh(x='countries_tags', y='grade', title='Top 10 non eco-friendly countries')"
   ]
  },
  {
   "cell_type": "markdown",
   "metadata": {},
   "source": [
    "### Which countries have the largest variety of organic-labeled products? "
   ]
  },
  {
   "cell_type": "code",
   "execution_count": 49,
   "metadata": {
    "scrolled": true
   },
   "outputs": [
    {
     "name": "stdout",
     "output_type": "stream",
     "text": [
      "                       labels_tags\n",
      "countries_tags                    \n",
      "France                       83400\n",
      "Germany                       4643\n",
      "Spain                         3928\n",
      "Belgium                       1749\n",
      "United kingdom                 859\n",
      "United states                  836\n",
      "Switzerland                    815\n",
      "Australia                      757\n",
      "Russia                         602\n",
      "Sweden                         367\n",
      "Canada                         350\n",
      "Italy                          346\n",
      "Mexico                         264\n",
      "Netherlands                    209\n",
      "Austria                        201\n",
      "Portugal                       182\n",
      "Ireland                        119\n",
      "nan                            101\n",
      "Denmark                        100\n",
      "Serbia                          95\n",
      "Hungary                         91\n",
      "Georgia                         66\n",
      "Romania                         61\n",
      "Czech republic                  46\n",
      "Norway                          43\n",
      "South africa                    41\n",
      "Hong kong                       34\n",
      "Brazil                          31\n",
      "India                           30\n",
      "Algeria                         30\n",
      "...                            ...\n",
      "Estonia                          2\n",
      "Djibouti                         2\n",
      "Malaysia                         2\n",
      "Latvia                           2\n",
      "Lithuania                        2\n",
      "Panama                           2\n",
      "Burkina faso                     1\n",
      "World                            1\n",
      "Moldova                          1\n",
      "Venezuela                        1\n",
      "Aruba                            1\n",
      "Bangladesh                       1\n",
      "Belarus                          1\n",
      "Namibia                          1\n",
      "Tunisia                          1\n",
      "Togo                             1\n",
      "Libya                            1\n",
      "Europe                           1\n",
      "Espagne                          1\n",
      "Kenya                            1\n",
      "South korea                      1\n",
      "Paraguay                         1\n",
      "Iraq                             1\n",
      "Iceland                          1\n",
      "Global market                    1\n",
      "Dom tom                          1\n",
      "Qatar                            1\n",
      "Republic of macedonia            1\n",
      "Republic of the congo            1\n",
      "Schweiz                          1\n",
      "\n",
      "[112 rows x 1 columns]\n",
      "                labels_tags\n",
      "countries_tags             \n",
      "France                52052\n",
      "Germany                2439\n",
      "Spain                  1067\n",
      "Belgium                 936\n",
      "Switzerland             200\n",
      "United states           181\n",
      "United kingdom          137\n",
      "Austria                 108\n",
      "Canada                   88\n",
      "Netherlands              79\n",
      "Italy                    75\n",
      "Sweden                   68\n",
      "Georgia                  63\n",
      "Australia                55\n",
      "Denmark                  42\n",
      "nan                      41\n",
      "Norway                   30\n",
      "Hungary                  27\n",
      "Portugal                 20\n",
      "India                    19\n",
      "Algeria                  16\n",
      "Czech republic           15\n",
      "Ireland                   7\n",
      "Romania                   6\n",
      "Finland                   6\n",
      "Brazil                    6\n",
      "Cambodia                  5\n",
      "Russia                    4\n",
      "Turkey                    4\n",
      "Hong kong                 4\n",
      "Serbia                    3\n",
      "Mexico                    3\n",
      "South africa              2\n",
      "Greece                    2\n",
      "China                     2\n",
      "Bulgaria                  1\n",
      "Israel                    1\n",
      "Argentina                 1\n"
     ]
    },
    {
     "name": "stderr",
     "output_type": "stream",
     "text": [
      "/anaconda3/lib/python3.6/site-packages/ipykernel_launcher.py:22: UserWarning: Boolean Series key will be reindexed to match DataFrame index.\n"
     ]
    }
   ],
   "source": [
    "# We take only the rows that do not have a null label\n",
    "labels_not_null = current_data[current_data['labels_tags'].notnull()]\n",
    "categories_not_null = current_data[current_data['categories_tags'].notnull()]\n",
    "\n",
    "# We take the rows with the label containing \"organic\" or \"green\" or \"bio\"\n",
    "labels_not_null_organic = labels_not_null[labels_not_null['labels_tags'].str.contains('organic|green|bio')]\n",
    "\n",
    "# We take the countries that have one of those labels\n",
    "countries_with_labels_organic = labels_not_null_organic[['labels_tags', 'countries_tags']]\n",
    "\n",
    "# We also take the number of products per country that just have a non-null label to compute a percentage\n",
    "countries_with_labels_total = labels_not_null[['labels_tags', 'countries_tags']]\n",
    "#print(countries_with_labels_total)\n",
    "\n",
    "# We group by the country and take the count of the number of organic labeled product per country\n",
    "countries_with_labels_organic = countries_with_labels_organic.groupby('countries_tags').count().sort_values(by='labels_tags', ascending=False)\n",
    "\n",
    "# We group by the country and take the count of the number of labeled product per country\n",
    "countries_with_labels_total = countries_with_labels_total.groupby('countries_tags').count().sort_values(by='labels_tags', ascending=False)\n",
    "\n",
    "# Filter the countries that have less than 10 products\n",
    "countries_with_labels_organic = countries_with_labels_organic[countries_with_labels_total.labels_tags >= 10]\n",
    "countries_with_labels_total = countries_with_labels_total[countries_with_labels_total.labels_tags >= 0]\n",
    "\n",
    "print(countries_with_labels_total)\n",
    "print(countries_with_labels_organic)\n",
    "\n",
    "countries_with_labels_organic_over_total = countries_with_labels_organic/countries_with_labels_total\n",
    "countries_with_labels_organic_over_total.sort_values(by = \"labels_tags\", ascending = False, inplace = True)\n",
    "countries_with_labels_organic_over_total.reset_index(drop=True, inplace=True)\n",
    "\n",
    "\n",
    "countries_with_labels_organic_over_total['countries_tags'] = countries_with_labels_organic_over_total.index\n",
    "countries_with_labels_organic_over_total.dropna(inplace = True)\n",
    "#print(countries_with_labels_organic_over_total)\n",
    "\n",
    "\n",
    "# WE SHOULD ALSO USE CATEGORIES TAGS, THEN DO A PERCENTAGE AND VISUALIZE ON A MAP IF WE HAVE ENOUGH DATA"
   ]
  },
  {
   "cell_type": "code",
   "execution_count": 50,
   "metadata": {},
   "outputs": [
    {
     "data": {
      "text/html": [
       "<div style=\"width:100%;\"><div style=\"position:relative;width:100%;height:0;padding-bottom:60%;\"><iframe src=\"data:text/html;charset=utf-8;base64,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\" style=\"position:absolute;width:100%;height:100%;left:0;top:0;border:none !important;\" allowfullscreen webkitallowfullscreen mozallowfullscreen></iframe></div></div>"
      ],
      "text/plain": [
       "<folium.folium.Map at 0x1a62ec4eb8>"
      ]
     },
     "execution_count": 50,
     "metadata": {},
     "output_type": "execute_result"
    }
   ],
   "source": [
    "country_geo = 'world-countries-curated.json'\n",
    "M = folium.Map(location=[100, 0], zoom_start=1)\n",
    "# choropleth maps bind Pandas Data Frames and json geometries.\n",
    "#This allows us to quickly visualize data combinations\n",
    "M.choropleth(geo_data=country_geo, data=countries_with_labels_organic_over_total,\n",
    "             columns=['countries_tags', 'labels_tags'],\n",
    "             key_on='feature.properties.name',\n",
    "             fill_color='YlGnBu', fill_opacity=0.7, line_opacity=0.2,\n",
    "             legend_name=\"Percentage of organic food per country\")\n",
    "M"
   ]
  },
  {
   "cell_type": "markdown",
   "metadata": {},
   "source": [
    "### What is the average nutrition score per country?"
   ]
  },
  {
   "cell_type": "code",
   "execution_count": 51,
   "metadata": {},
   "outputs": [
    {
     "data": {
      "text/plain": [
       "countries_tags\n",
       "Pakistan                  28.000000\n",
       "Peru                      27.500000\n",
       "Republic of macedonia     27.000000\n",
       "Armenia                   22.000000\n",
       "Mauritania                20.000000\n",
       "Dominica                  20.000000\n",
       "Belarus                   20.000000\n",
       "Iceland                   19.200000\n",
       "Dom tom                   19.000000\n",
       "Bosnia and herzegovina    17.857143\n",
       "India                     16.882353\n",
       "Aruba                     16.500000\n",
       "Philippines               16.000000\n",
       "Saudi arabia              15.928571\n",
       "Yemen,ar                  15.500000\n",
       "Tunisia                   15.181818\n",
       "Qatar                     15.000000\n",
       "Bahrain                   15.000000\n",
       "Madagascar                15.000000\n",
       "Latvia                    14.750000\n",
       "Russia                    14.596491\n",
       "Croatia                   14.529412\n",
       "Cameroon                  14.166667\n",
       "Fiji                      14.000000\n",
       "Denmark                   13.683938\n",
       "Bulgaria                  13.281250\n",
       "Argentina                 13.250000\n",
       "Czech republic            13.061728\n",
       "Algeria                   12.500000\n",
       "Mauritius                 12.333333\n",
       "                            ...    \n",
       "Slovakia                   6.000000\n",
       "Senegal                    5.800000\n",
       "Spain                      5.638554\n",
       "Andorra                    5.600000\n",
       "Cuba                       5.500000\n",
       "Chile                      5.111111\n",
       "Djibouti                   5.000000\n",
       "Singapore                  4.800000\n",
       "European union             4.200000\n",
       "Taiwan                     4.187500\n",
       "Namibia                    4.000000\n",
       "Schweiz                    3.250000\n",
       "Burkina faso               2.571429\n",
       "World                      2.000000\n",
       "Ecuador                    2.000000\n",
       "Azerbaijan                 1.583333\n",
       "Catalunya                  1.000000\n",
       "Quebec                     0.666667\n",
       "El salvador                0.000000\n",
       "Ukraine                    0.000000\n",
       "Vietnam                    0.000000\n",
       "United arab emirates       0.000000\n",
       "Europe                     0.000000\n",
       "Gibraltar                  0.000000\n",
       "Cook islands              -1.000000\n",
       "Tunisie                   -1.000000\n",
       "Malaysia                  -1.000000\n",
       "Delhaize                  -3.000000\n",
       "Gabon                     -3.000000\n",
       "Georgia                   -4.576923\n",
       "Name: nutrition-score-uk_100g, Length: 119, dtype: float64"
      ]
     },
     "execution_count": 51,
     "metadata": {},
     "output_type": "execute_result"
    }
   ],
   "source": [
    "current_data[~current_data['nutrition-score-uk_100g'].isna()].groupby('countries_tags')['nutrition-score-uk_100g'].mean().sort_values(ascending = False)"
   ]
  },
  {
   "cell_type": "code",
   "execution_count": null,
   "metadata": {},
   "outputs": [],
   "source": []
  },
  {
   "cell_type": "markdown",
   "metadata": {},
   "source": [
    "## FINAL QUESTION: What's on my plate?"
   ]
  },
  {
   "cell_type": "markdown",
   "metadata": {},
   "source": [
    "We try to answer the following: given the location where we live, where does my food most likely come from? Is it eco-friendly? Is it healthy (from the nutrition grade)? How likely is it organic? "
   ]
  },
  {
   "cell_type": "code",
   "execution_count": null,
   "metadata": {},
   "outputs": [],
   "source": []
  }
 ],
 "metadata": {
  "kernelspec": {
   "display_name": "Python 3",
   "language": "python",
   "name": "python3"
  },
  "language_info": {
   "codemirror_mode": {
    "name": "ipython",
    "version": 3
   },
   "file_extension": ".py",
   "mimetype": "text/x-python",
   "name": "python",
   "nbconvert_exporter": "python",
   "pygments_lexer": "ipython3",
   "version": "3.6.6"
  }
 },
 "nbformat": 4,
 "nbformat_minor": 2
}
