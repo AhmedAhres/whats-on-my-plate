{
 "cells": [
  {
   "cell_type": "code",
   "execution_count": 2,
   "metadata": {},
   "outputs": [],
   "source": [
    "import pandas as pd\n",
    "import numpy as np\n",
    "import matplotlib as mpl\n",
    "import matplotlib.pyplot as plt\n",
    "plt.style.use('ggplot')\n",
    "import seaborn as sns\n",
    "%matplotlib inline\n",
    "import folium\n",
    "import string\n",
    "from helpers import *\n",
    "from IPython.display import HTML\n",
    "\n",
    "ALPHA = string.ascii_letters\n",
    "pd.options.mode.chained_assignment = None  # default='warn'"
   ]
  },
  {
   "cell_type": "markdown",
   "metadata": {},
   "source": [
    "# What's on my plate?"
   ]
  },
  {
   "cell_type": "markdown",
   "metadata": {},
   "source": [
    "As a reminder, our initial research questions are:\n",
    "\n",
    "- What is the proportion of imported products per country?\n",
    "- Which countries contribute most to the environment through eco-friendly packages?\n",
    "- Which countries have the largest variety of organic-labeled products?\n",
    "- How healthy do we eat in the different countries?\n",
    "\n",
    "With those in mind, we will analyze the dataset in order to see which features would be usefull to answer them and and most of all find if there is enough data to answer them!\n",
    "\n",
    "The goal is to have an extensive analysis of what we eat depending on where we live. Hence, we will be using these four research questions to answer the following:\n",
    "\n",
    "- What's on my plate?"
   ]
  },
  {
   "cell_type": "markdown",
   "metadata": {},
   "source": [
    "# Data cleaning"
   ]
  },
  {
   "cell_type": "markdown",
   "metadata": {},
   "source": [
    "### Loading the CSV file\n",
    "The CSV File is stored on our computer with the name `OpenFood.csv`. From opening it with a text editor, we found out that the cells are separated by tabulations (i.e. by the `\\t` character). Even though the file size is approximately 1.7 GB, we still manage to fit it in a dataframe. We start by opening it:"
   ]
  },
  {
   "cell_type": "code",
   "execution_count": 3,
   "metadata": {},
   "outputs": [
    {
     "name": "stderr",
     "output_type": "stream",
     "text": [
      "/anaconda3/lib/python3.6/site-packages/IPython/core/interactiveshell.py:3020: DtypeWarning: Columns (0,3,5,24,25,26,28,36,41,49) have mixed types. Specify dtype option on import or set low_memory=False.\n",
      "  interactivity=interactivity, compiler=compiler, result=result)\n"
     ]
    }
   ],
   "source": [
    "path = \"\"\n",
    "file_name = \"OpenFood.csv\"\n",
    "data_path = path+file_name\n",
    "df = pd.read_csv(data_path, sep = '\\t')"
   ]
  },
  {
   "cell_type": "markdown",
   "metadata": {},
   "source": [
    "### DataFrame Exploration"
   ]
  },
  {
   "cell_type": "markdown",
   "metadata": {},
   "source": [
    "We first have a look at the dataset"
   ]
  },
  {
   "cell_type": "code",
   "execution_count": 4,
   "metadata": {
    "scrolled": true
   },
   "outputs": [
    {
     "data": {
      "text/html": [
       "<div>\n",
       "<style scoped>\n",
       "    .dataframe tbody tr th:only-of-type {\n",
       "        vertical-align: middle;\n",
       "    }\n",
       "\n",
       "    .dataframe tbody tr th {\n",
       "        vertical-align: top;\n",
       "    }\n",
       "\n",
       "    .dataframe thead th {\n",
       "        text-align: right;\n",
       "    }\n",
       "</style>\n",
       "<table border=\"1\" class=\"dataframe\">\n",
       "  <thead>\n",
       "    <tr style=\"text-align: right;\">\n",
       "      <th></th>\n",
       "      <th>code</th>\n",
       "      <th>url</th>\n",
       "      <th>creator</th>\n",
       "      <th>created_t</th>\n",
       "      <th>created_datetime</th>\n",
       "      <th>last_modified_t</th>\n",
       "      <th>last_modified_datetime</th>\n",
       "      <th>product_name</th>\n",
       "      <th>generic_name</th>\n",
       "      <th>quantity</th>\n",
       "      <th>...</th>\n",
       "      <th>carbon-footprint_100g</th>\n",
       "      <th>nutrition-score-fr_100g</th>\n",
       "      <th>nutrition-score-uk_100g</th>\n",
       "      <th>glycemic-index_100g</th>\n",
       "      <th>water-hardness_100g</th>\n",
       "      <th>choline_100g</th>\n",
       "      <th>phylloquinone_100g</th>\n",
       "      <th>beta-glucan_100g</th>\n",
       "      <th>inositol_100g</th>\n",
       "      <th>carnitine_100g</th>\n",
       "    </tr>\n",
       "  </thead>\n",
       "  <tbody>\n",
       "    <tr>\n",
       "      <th>0</th>\n",
       "      <td>0000000000017</td>\n",
       "      <td>http://world-en.openfoodfacts.org/product/0000...</td>\n",
       "      <td>kiliweb</td>\n",
       "      <td>1529059080</td>\n",
       "      <td>2018-06-15T10:38:00Z</td>\n",
       "      <td>1529059204</td>\n",
       "      <td>2018-06-15T10:40:04Z</td>\n",
       "      <td>Vitória crackers</td>\n",
       "      <td>NaN</td>\n",
       "      <td>NaN</td>\n",
       "      <td>...</td>\n",
       "      <td>NaN</td>\n",
       "      <td>NaN</td>\n",
       "      <td>NaN</td>\n",
       "      <td>NaN</td>\n",
       "      <td>NaN</td>\n",
       "      <td>NaN</td>\n",
       "      <td>NaN</td>\n",
       "      <td>NaN</td>\n",
       "      <td>NaN</td>\n",
       "      <td>NaN</td>\n",
       "    </tr>\n",
       "    <tr>\n",
       "      <th>1</th>\n",
       "      <td>0000000000031</td>\n",
       "      <td>http://world-en.openfoodfacts.org/product/0000...</td>\n",
       "      <td>isagoofy</td>\n",
       "      <td>1539464774</td>\n",
       "      <td>2018-10-13T21:06:14Z</td>\n",
       "      <td>1539464817</td>\n",
       "      <td>2018-10-13T21:06:57Z</td>\n",
       "      <td>Cacao</td>\n",
       "      <td>NaN</td>\n",
       "      <td>130 g</td>\n",
       "      <td>...</td>\n",
       "      <td>NaN</td>\n",
       "      <td>NaN</td>\n",
       "      <td>NaN</td>\n",
       "      <td>NaN</td>\n",
       "      <td>NaN</td>\n",
       "      <td>NaN</td>\n",
       "      <td>NaN</td>\n",
       "      <td>NaN</td>\n",
       "      <td>NaN</td>\n",
       "      <td>NaN</td>\n",
       "    </tr>\n",
       "    <tr>\n",
       "      <th>2</th>\n",
       "      <td>0000000000123</td>\n",
       "      <td>http://world-en.openfoodfacts.org/product/0000...</td>\n",
       "      <td>kiliweb</td>\n",
       "      <td>1535737982</td>\n",
       "      <td>2018-08-31T17:53:02Z</td>\n",
       "      <td>1535737986</td>\n",
       "      <td>2018-08-31T17:53:06Z</td>\n",
       "      <td>Sauce Sweety chili 0%</td>\n",
       "      <td>NaN</td>\n",
       "      <td>NaN</td>\n",
       "      <td>...</td>\n",
       "      <td>NaN</td>\n",
       "      <td>NaN</td>\n",
       "      <td>NaN</td>\n",
       "      <td>NaN</td>\n",
       "      <td>NaN</td>\n",
       "      <td>NaN</td>\n",
       "      <td>NaN</td>\n",
       "      <td>NaN</td>\n",
       "      <td>NaN</td>\n",
       "      <td>NaN</td>\n",
       "    </tr>\n",
       "    <tr>\n",
       "      <th>3</th>\n",
       "      <td>0000000000291</td>\n",
       "      <td>http://world-en.openfoodfacts.org/product/0000...</td>\n",
       "      <td>kiliweb</td>\n",
       "      <td>1534239669</td>\n",
       "      <td>2018-08-14T09:41:09Z</td>\n",
       "      <td>1534239732</td>\n",
       "      <td>2018-08-14T09:42:12Z</td>\n",
       "      <td>Mendiants</td>\n",
       "      <td>NaN</td>\n",
       "      <td>NaN</td>\n",
       "      <td>...</td>\n",
       "      <td>NaN</td>\n",
       "      <td>NaN</td>\n",
       "      <td>NaN</td>\n",
       "      <td>NaN</td>\n",
       "      <td>NaN</td>\n",
       "      <td>NaN</td>\n",
       "      <td>NaN</td>\n",
       "      <td>NaN</td>\n",
       "      <td>NaN</td>\n",
       "      <td>NaN</td>\n",
       "    </tr>\n",
       "    <tr>\n",
       "      <th>4</th>\n",
       "      <td>0000000000949</td>\n",
       "      <td>http://world-en.openfoodfacts.org/product/0000...</td>\n",
       "      <td>kiliweb</td>\n",
       "      <td>1523440813</td>\n",
       "      <td>2018-04-11T10:00:13Z</td>\n",
       "      <td>1523440823</td>\n",
       "      <td>2018-04-11T10:00:23Z</td>\n",
       "      <td>Salade de carottes râpées</td>\n",
       "      <td>NaN</td>\n",
       "      <td>NaN</td>\n",
       "      <td>...</td>\n",
       "      <td>NaN</td>\n",
       "      <td>NaN</td>\n",
       "      <td>NaN</td>\n",
       "      <td>NaN</td>\n",
       "      <td>NaN</td>\n",
       "      <td>NaN</td>\n",
       "      <td>NaN</td>\n",
       "      <td>NaN</td>\n",
       "      <td>NaN</td>\n",
       "      <td>NaN</td>\n",
       "    </tr>\n",
       "  </tbody>\n",
       "</table>\n",
       "<p>5 rows × 173 columns</p>\n",
       "</div>"
      ],
      "text/plain": [
       "            code                                                url   creator  \\\n",
       "0  0000000000017  http://world-en.openfoodfacts.org/product/0000...   kiliweb   \n",
       "1  0000000000031  http://world-en.openfoodfacts.org/product/0000...  isagoofy   \n",
       "2  0000000000123  http://world-en.openfoodfacts.org/product/0000...   kiliweb   \n",
       "3  0000000000291  http://world-en.openfoodfacts.org/product/0000...   kiliweb   \n",
       "4  0000000000949  http://world-en.openfoodfacts.org/product/0000...   kiliweb   \n",
       "\n",
       "    created_t      created_datetime last_modified_t last_modified_datetime  \\\n",
       "0  1529059080  2018-06-15T10:38:00Z      1529059204   2018-06-15T10:40:04Z   \n",
       "1  1539464774  2018-10-13T21:06:14Z      1539464817   2018-10-13T21:06:57Z   \n",
       "2  1535737982  2018-08-31T17:53:02Z      1535737986   2018-08-31T17:53:06Z   \n",
       "3  1534239669  2018-08-14T09:41:09Z      1534239732   2018-08-14T09:42:12Z   \n",
       "4  1523440813  2018-04-11T10:00:13Z      1523440823   2018-04-11T10:00:23Z   \n",
       "\n",
       "                product_name generic_name quantity      ...        \\\n",
       "0           Vitória crackers          NaN      NaN      ...         \n",
       "1                      Cacao          NaN    130 g      ...         \n",
       "2      Sauce Sweety chili 0%          NaN      NaN      ...         \n",
       "3                  Mendiants          NaN      NaN      ...         \n",
       "4  Salade de carottes râpées          NaN      NaN      ...         \n",
       "\n",
       "  carbon-footprint_100g nutrition-score-fr_100g nutrition-score-uk_100g  \\\n",
       "0                   NaN                     NaN                     NaN   \n",
       "1                   NaN                     NaN                     NaN   \n",
       "2                   NaN                     NaN                     NaN   \n",
       "3                   NaN                     NaN                     NaN   \n",
       "4                   NaN                     NaN                     NaN   \n",
       "\n",
       "  glycemic-index_100g water-hardness_100g choline_100g phylloquinone_100g  \\\n",
       "0                 NaN                 NaN          NaN                NaN   \n",
       "1                 NaN                 NaN          NaN                NaN   \n",
       "2                 NaN                 NaN          NaN                NaN   \n",
       "3                 NaN                 NaN          NaN                NaN   \n",
       "4                 NaN                 NaN          NaN                NaN   \n",
       "\n",
       "  beta-glucan_100g inositol_100g carnitine_100g  \n",
       "0              NaN           NaN            NaN  \n",
       "1              NaN           NaN            NaN  \n",
       "2              NaN           NaN            NaN  \n",
       "3              NaN           NaN            NaN  \n",
       "4              NaN           NaN            NaN  \n",
       "\n",
       "[5 rows x 173 columns]"
      ]
     },
     "execution_count": 4,
     "metadata": {},
     "output_type": "execute_result"
    }
   ],
   "source": [
    "df.head()"
   ]
  },
  {
   "cell_type": "markdown",
   "metadata": {},
   "source": [
    "With this first look at the DataFrame we can immediately remove the following columns as they are useless for our research purposes:"
   ]
  },
  {
   "cell_type": "code",
   "execution_count": 5,
   "metadata": {},
   "outputs": [],
   "source": [
    "columns_to_drop = [\n",
    "    'url',\n",
    "    'creator',\n",
    "    'created_t',\n",
    "    'created_datetime',\n",
    "    'last_modified_t',\n",
    "    'last_modified_datetime',\n",
    "    'generic_name',\n",
    "    'quantity',\n",
    "    'emb_codes',\n",
    "    'emb_codes_tags',\n",
    "    'purchase_places',\n",
    "    'stores',\n",
    "    'traces',\n",
    "    'traces_tags',\n",
    "    'serving_size',\n",
    "    'no_nutriments',\n",
    "    'image_url',\n",
    "    'allergens', \n",
    "    'image_small_url',\n",
    "    'manufacturing_places_tags',\n",
    "    'image_ingredients_url',\n",
    "    'image_ingredients_small_url',\n",
    "    'image_nutrition_url',\n",
    "    'image_nutrition_small_url',\n",
    "    'states',        \n",
    "    'states_en',\n",
    "    'states_tags',\n",
    "    'serving_quantity',\n",
    "    'traces_en',\n",
    "    'allergens_en',\n",
    "    'ingredients_that_may_be_from_palm_oil',\n",
    "    'ingredients_from_palm_oil'\n",
    "]"
   ]
  },
  {
   "cell_type": "code",
   "execution_count": 6,
   "metadata": {},
   "outputs": [],
   "source": [
    "# Drop the colums and put the result in a new data frame called df2\n",
    "df2 = df.drop(columns_to_drop, axis=1)"
   ]
  },
  {
   "cell_type": "markdown",
   "metadata": {},
   "source": [
    "It is hard to get an idea of what the values are as there are loads of NaN values... To get a better idea of the values from the dataframe, we show the unique values of each columns:"
   ]
  },
  {
   "cell_type": "code",
   "execution_count": 7,
   "metadata": {
    "scrolled": true
   },
   "outputs": [],
   "source": [
    "# We create a new dataframe\n",
    "df_unique = pd.DataFrame()\n",
    "\n",
    "# For each column\n",
    "for col in df2.columns:\n",
    "    # We take only the unique values of every column\n",
    "    df_unique = pd.concat([df_unique, pd.Series(df2[col].unique())], ignore_index=True, axis=1, copy=False)\n",
    "df_unique.columns= df2.columns"
   ]
  },
  {
   "cell_type": "code",
   "execution_count": 8,
   "metadata": {
    "scrolled": true
   },
   "outputs": [
    {
     "data": {
      "text/html": [
       "<div>\n",
       "<style scoped>\n",
       "    .dataframe tbody tr th:only-of-type {\n",
       "        vertical-align: middle;\n",
       "    }\n",
       "\n",
       "    .dataframe tbody tr th {\n",
       "        vertical-align: top;\n",
       "    }\n",
       "\n",
       "    .dataframe thead th {\n",
       "        text-align: right;\n",
       "    }\n",
       "</style>\n",
       "<table border=\"1\" class=\"dataframe\">\n",
       "  <thead>\n",
       "    <tr style=\"text-align: right;\">\n",
       "      <th></th>\n",
       "      <th>code</th>\n",
       "      <th>product_name</th>\n",
       "      <th>packaging</th>\n",
       "      <th>packaging_tags</th>\n",
       "      <th>brands</th>\n",
       "      <th>brands_tags</th>\n",
       "      <th>categories</th>\n",
       "      <th>categories_tags</th>\n",
       "      <th>categories_en</th>\n",
       "      <th>origins</th>\n",
       "      <th>...</th>\n",
       "      <th>carbon-footprint_100g</th>\n",
       "      <th>nutrition-score-fr_100g</th>\n",
       "      <th>nutrition-score-uk_100g</th>\n",
       "      <th>glycemic-index_100g</th>\n",
       "      <th>water-hardness_100g</th>\n",
       "      <th>choline_100g</th>\n",
       "      <th>phylloquinone_100g</th>\n",
       "      <th>beta-glucan_100g</th>\n",
       "      <th>inositol_100g</th>\n",
       "      <th>carnitine_100g</th>\n",
       "    </tr>\n",
       "  </thead>\n",
       "  <tbody>\n",
       "    <tr>\n",
       "      <th>0</th>\n",
       "      <td>0000000000017</td>\n",
       "      <td>Vitória crackers</td>\n",
       "      <td>NaN</td>\n",
       "      <td>NaN</td>\n",
       "      <td>NaN</td>\n",
       "      <td>NaN</td>\n",
       "      <td>NaN</td>\n",
       "      <td>NaN</td>\n",
       "      <td>NaN</td>\n",
       "      <td>NaN</td>\n",
       "      <td>...</td>\n",
       "      <td>NaN</td>\n",
       "      <td>NaN</td>\n",
       "      <td>NaN</td>\n",
       "      <td>NaN</td>\n",
       "      <td>NaN</td>\n",
       "      <td>NaN</td>\n",
       "      <td>NaN</td>\n",
       "      <td>NaN</td>\n",
       "      <td>NaN</td>\n",
       "      <td>NaN</td>\n",
       "    </tr>\n",
       "    <tr>\n",
       "      <th>1</th>\n",
       "      <td>0000000000031</td>\n",
       "      <td>Cacao</td>\n",
       "      <td>barquette,plastique</td>\n",
       "      <td>barquette,plastique</td>\n",
       "      <td>CROUS</td>\n",
       "      <td>crous</td>\n",
       "      <td>Tartes à la noix de coco</td>\n",
       "      <td>en:pies,en:sweet-pies,en:coconut-pies</td>\n",
       "      <td>Pies,Sweet pies,Coconut pies</td>\n",
       "      <td>France</td>\n",
       "      <td>...</td>\n",
       "      <td>68.0</td>\n",
       "      <td>14.0</td>\n",
       "      <td>14.0</td>\n",
       "      <td>3.0</td>\n",
       "      <td>2.0</td>\n",
       "      <td>0.112</td>\n",
       "      <td>0.000016</td>\n",
       "      <td>3.1</td>\n",
       "      <td>0.00211</td>\n",
       "      <td>0.0071</td>\n",
       "    </tr>\n",
       "    <tr>\n",
       "      <th>2</th>\n",
       "      <td>0000000000123</td>\n",
       "      <td>Sauce Sweety chili 0%</td>\n",
       "      <td>bocal,plastique</td>\n",
       "      <td>bocal,plastique</td>\n",
       "      <td>Crous Resto',Crous</td>\n",
       "      <td>crous-resto,crous</td>\n",
       "      <td>Compotes de poire</td>\n",
       "      <td>en:plant-based-foods-and-beverages,en:plant-ba...</td>\n",
       "      <td>Plant-based foods and beverages,Plant-based fo...</td>\n",
       "      <td>Québec</td>\n",
       "      <td>...</td>\n",
       "      <td>300.0</td>\n",
       "      <td>-4.0</td>\n",
       "      <td>-4.0</td>\n",
       "      <td>14.0</td>\n",
       "      <td>NaN</td>\n",
       "      <td>0.069</td>\n",
       "      <td>NaN</td>\n",
       "      <td>3.9</td>\n",
       "      <td>0.04400</td>\n",
       "      <td>0.0095</td>\n",
       "    </tr>\n",
       "    <tr>\n",
       "      <th>3</th>\n",
       "      <td>0000000000291</td>\n",
       "      <td>Mendiants</td>\n",
       "      <td>plastique</td>\n",
       "      <td>plastique</td>\n",
       "      <td>Ferme De La Frémondière</td>\n",
       "      <td>ferme-de-la-fremondiere</td>\n",
       "      <td>Baguettes</td>\n",
       "      <td>en:plant-based-foods-and-beverages,en:plant-ba...</td>\n",
       "      <td>Plant-based foods and beverages,Plant-based fo...</td>\n",
       "      <td>Québec,Canada</td>\n",
       "      <td>...</td>\n",
       "      <td>0.0</td>\n",
       "      <td>15.0</td>\n",
       "      <td>15.0</td>\n",
       "      <td>NaN</td>\n",
       "      <td>NaN</td>\n",
       "      <td>0.079</td>\n",
       "      <td>NaN</td>\n",
       "      <td>2.8</td>\n",
       "      <td>0.02600</td>\n",
       "      <td>0.0070</td>\n",
       "    </tr>\n",
       "    <tr>\n",
       "      <th>4</th>\n",
       "      <td>0000000000949</td>\n",
       "      <td>Salade de carottes râpées</td>\n",
       "      <td>carton,plastique</td>\n",
       "      <td>carton,plastique</td>\n",
       "      <td>Crous</td>\n",
       "      <td>crous-resto</td>\n",
       "      <td>Pavés de saumon,Saumons fumés,Pavés de saumon ...</td>\n",
       "      <td>en:seafood,en:fishes,en:salmons,en:smoked-fish...</td>\n",
       "      <td>Seafood,Fishes,Salmons,Smoked fishes,Smoked sa...</td>\n",
       "      <td>United Kingdom</td>\n",
       "      <td>...</td>\n",
       "      <td>12.0</td>\n",
       "      <td>29.0</td>\n",
       "      <td>29.0</td>\n",
       "      <td>NaN</td>\n",
       "      <td>NaN</td>\n",
       "      <td>0.066</td>\n",
       "      <td>NaN</td>\n",
       "      <td>4.0</td>\n",
       "      <td>0.02800</td>\n",
       "      <td>0.0110</td>\n",
       "    </tr>\n",
       "  </tbody>\n",
       "</table>\n",
       "<p>5 rows × 141 columns</p>\n",
       "</div>"
      ],
      "text/plain": [
       "            code               product_name            packaging  \\\n",
       "0  0000000000017           Vitória crackers                  NaN   \n",
       "1  0000000000031                      Cacao  barquette,plastique   \n",
       "2  0000000000123      Sauce Sweety chili 0%      bocal,plastique   \n",
       "3  0000000000291                  Mendiants            plastique   \n",
       "4  0000000000949  Salade de carottes râpées     carton,plastique   \n",
       "\n",
       "        packaging_tags                   brands              brands_tags  \\\n",
       "0                  NaN                      NaN                      NaN   \n",
       "1  barquette,plastique                    CROUS                    crous   \n",
       "2      bocal,plastique       Crous Resto',Crous        crous-resto,crous   \n",
       "3            plastique  Ferme De La Frémondière  ferme-de-la-fremondiere   \n",
       "4     carton,plastique                    Crous              crous-resto   \n",
       "\n",
       "                                          categories  \\\n",
       "0                                                NaN   \n",
       "1                           Tartes à la noix de coco   \n",
       "2                                  Compotes de poire   \n",
       "3                                          Baguettes   \n",
       "4  Pavés de saumon,Saumons fumés,Pavés de saumon ...   \n",
       "\n",
       "                                     categories_tags  \\\n",
       "0                                                NaN   \n",
       "1              en:pies,en:sweet-pies,en:coconut-pies   \n",
       "2  en:plant-based-foods-and-beverages,en:plant-ba...   \n",
       "3  en:plant-based-foods-and-beverages,en:plant-ba...   \n",
       "4  en:seafood,en:fishes,en:salmons,en:smoked-fish...   \n",
       "\n",
       "                                       categories_en         origins  \\\n",
       "0                                                NaN             NaN   \n",
       "1                       Pies,Sweet pies,Coconut pies          France   \n",
       "2  Plant-based foods and beverages,Plant-based fo...          Québec   \n",
       "3  Plant-based foods and beverages,Plant-based fo...   Québec,Canada   \n",
       "4  Seafood,Fishes,Salmons,Smoked fishes,Smoked sa...  United Kingdom   \n",
       "\n",
       "       ...       carbon-footprint_100g nutrition-score-fr_100g  \\\n",
       "0      ...                         NaN                     NaN   \n",
       "1      ...                        68.0                    14.0   \n",
       "2      ...                       300.0                    -4.0   \n",
       "3      ...                         0.0                    15.0   \n",
       "4      ...                        12.0                    29.0   \n",
       "\n",
       "  nutrition-score-uk_100g glycemic-index_100g water-hardness_100g  \\\n",
       "0                     NaN                 NaN                 NaN   \n",
       "1                    14.0                 3.0                 2.0   \n",
       "2                    -4.0                14.0                 NaN   \n",
       "3                    15.0                 NaN                 NaN   \n",
       "4                    29.0                 NaN                 NaN   \n",
       "\n",
       "  choline_100g  phylloquinone_100g beta-glucan_100g inositol_100g  \\\n",
       "0          NaN                 NaN              NaN           NaN   \n",
       "1        0.112            0.000016              3.1       0.00211   \n",
       "2        0.069                 NaN              3.9       0.04400   \n",
       "3        0.079                 NaN              2.8       0.02600   \n",
       "4        0.066                 NaN              4.0       0.02800   \n",
       "\n",
       "  carnitine_100g  \n",
       "0            NaN  \n",
       "1         0.0071  \n",
       "2         0.0095  \n",
       "3         0.0070  \n",
       "4         0.0110  \n",
       "\n",
       "[5 rows x 141 columns]"
      ]
     },
     "execution_count": 8,
     "metadata": {},
     "output_type": "execute_result"
    }
   ],
   "source": [
    "df_unique.head()"
   ]
  },
  {
   "cell_type": "markdown",
   "metadata": {},
   "source": [
    "Since there is a large number of NaN values we also show the number of non NaN values of each column along with the number of different values in each of the columns:"
   ]
  },
  {
   "cell_type": "code",
   "execution_count": 9,
   "metadata": {
    "scrolled": true
   },
   "outputs": [
    {
     "data": {
      "text/html": [
       "<div>\n",
       "<style scoped>\n",
       "    .dataframe tbody tr th:only-of-type {\n",
       "        vertical-align: middle;\n",
       "    }\n",
       "\n",
       "    .dataframe tbody tr th {\n",
       "        vertical-align: top;\n",
       "    }\n",
       "\n",
       "    .dataframe thead th {\n",
       "        text-align: right;\n",
       "    }\n",
       "</style>\n",
       "<table border=\"1\" class=\"dataframe\">\n",
       "  <thead>\n",
       "    <tr style=\"text-align: right;\">\n",
       "      <th></th>\n",
       "      <th>Number of non NaN values per column</th>\n",
       "      <th>Number of different values in each columns</th>\n",
       "      <th>ColNumber</th>\n",
       "    </tr>\n",
       "  </thead>\n",
       "  <tbody>\n",
       "    <tr>\n",
       "      <th>code</th>\n",
       "      <td>683250</td>\n",
       "      <td>683106</td>\n",
       "      <td>0</td>\n",
       "    </tr>\n",
       "    <tr>\n",
       "      <th>product_name</th>\n",
       "      <td>656644</td>\n",
       "      <td>470272</td>\n",
       "      <td>1</td>\n",
       "    </tr>\n",
       "    <tr>\n",
       "      <th>packaging</th>\n",
       "      <td>137520</td>\n",
       "      <td>24696</td>\n",
       "      <td>2</td>\n",
       "    </tr>\n",
       "    <tr>\n",
       "      <th>packaging_tags</th>\n",
       "      <td>137517</td>\n",
       "      <td>19914</td>\n",
       "      <td>3</td>\n",
       "    </tr>\n",
       "    <tr>\n",
       "      <th>brands</th>\n",
       "      <td>460708</td>\n",
       "      <td>98743</td>\n",
       "      <td>4</td>\n",
       "    </tr>\n",
       "    <tr>\n",
       "      <th>brands_tags</th>\n",
       "      <td>460675</td>\n",
       "      <td>80191</td>\n",
       "      <td>5</td>\n",
       "    </tr>\n",
       "    <tr>\n",
       "      <th>categories</th>\n",
       "      <td>174424</td>\n",
       "      <td>62844</td>\n",
       "      <td>6</td>\n",
       "    </tr>\n",
       "    <tr>\n",
       "      <th>categories_tags</th>\n",
       "      <td>174423</td>\n",
       "      <td>36257</td>\n",
       "      <td>7</td>\n",
       "    </tr>\n",
       "    <tr>\n",
       "      <th>categories_en</th>\n",
       "      <td>174389</td>\n",
       "      <td>36254</td>\n",
       "      <td>8</td>\n",
       "    </tr>\n",
       "    <tr>\n",
       "      <th>origins</th>\n",
       "      <td>40923</td>\n",
       "      <td>7411</td>\n",
       "      <td>9</td>\n",
       "    </tr>\n",
       "  </tbody>\n",
       "</table>\n",
       "</div>"
      ],
      "text/plain": [
       "                 Number of non NaN values per column  \\\n",
       "code                                          683250   \n",
       "product_name                                  656644   \n",
       "packaging                                     137520   \n",
       "packaging_tags                                137517   \n",
       "brands                                        460708   \n",
       "brands_tags                                   460675   \n",
       "categories                                    174424   \n",
       "categories_tags                               174423   \n",
       "categories_en                                 174389   \n",
       "origins                                        40923   \n",
       "\n",
       "                 Number of different values in each columns  ColNumber  \n",
       "code                                                 683106          0  \n",
       "product_name                                         470272          1  \n",
       "packaging                                             24696          2  \n",
       "packaging_tags                                        19914          3  \n",
       "brands                                                98743          4  \n",
       "brands_tags                                           80191          5  \n",
       "categories                                            62844          6  \n",
       "categories_tags                                       36257          7  \n",
       "categories_en                                         36254          8  \n",
       "origins                                                7411          9  "
      ]
     },
     "execution_count": 9,
     "metadata": {},
     "output_type": "execute_result"
    }
   ],
   "source": [
    "# We initialize the columns to be used in the table that will be shown\n",
    "cols = ['Number of non NaN values per column', 'Number of different values in each columns']\n",
    "\n",
    "# We create a table to show the informations\n",
    "describe_df = pd.DataFrame([df2.count(),df_unique.count()]).transpose()\n",
    "describe_df.columns = cols\n",
    "describe_df['ColNumber'] = np.arange(df_unique.shape[1])\n",
    "describe_df.head(10)"
   ]
  },
  {
   "cell_type": "markdown",
   "metadata": {},
   "source": [
    "After further looking into the dataset, we see that there are some columns that are redundant such as `packaging` and `packaging_tags` so we keep only one of the two. For this specific example we only keep the `packaging_tags` column as the values are more consistent. We also remove some other columns. The reasons for the removal are stated as comment in the cell below:"
   ]
  },
  {
   "cell_type": "code",
   "execution_count": 10,
   "metadata": {},
   "outputs": [],
   "source": [
    "columns_to_drop_2 = [\n",
    "    'packaging', # The values are redundant and be used in packaging_tags\n",
    "    'brands', # brands_tags has more stable (same rows are represented in different ways) values\n",
    "    'categories', # categories_tags has more stable values\n",
    "    'categories_en', # categories_tags has more stable values\n",
    "    'origins', # origins_tags has more stable values\n",
    "    'labels', # labels_tags has more stable values\n",
    "    'labels_en', # labels_tags has more stable values\n",
    "    'first_packaging_code_geo', # Not interesting for our research questions\n",
    "    'cities', # Contains only NaN values and not really intresting for our research questions\n",
    "    'cities_tags', # Contains only NaN values and not really intresting for our research questions\n",
    "    'countries', # Seem to contain useless duplicated values (France, en:FR, en:france,...)\n",
    "    'additives_n', # Not relevant for our research\n",
    "    'additives_tags', # Not relevant for our research\n",
    "    'nutrition_grade_uk', # Only NaN values\n",
    "    'countries_en', # The countries_tags column gives a more stable result\n",
    "    'ingredients_text', # too hard to deal with and not really intresting after seeing the values\n",
    "    'additives', # Not needed for our research question, only the number of additives can be interesting\n",
    "    'additives_en', # Not needed for our research question, only the number of additives can be interesting\n",
    "    'ingredients_that_may_be_from_palm_oil_n', # As we already keep ingredients_from_palm_oil_n\n",
    "    'ingredients_that_may_be_from_palm_oil_tags', # As we already keep ingredients_from_palm_oil_n\n",
    "    'nutrition_grade_fr', # Contains only NaN values\n",
    "    'ingredients_from_palm_oil_tags', # Not useful for our research\n",
    "    'ingredients_from_palm_oil_n', # Not useful as well\n",
    "    'main_category_en' # The main_category column has more stable values\n",
    "]"
   ]
  },
  {
   "cell_type": "markdown",
   "metadata": {},
   "source": [
    "Now for the nutrition facts we can delete all the columns that have less than 1000 values (count) because if they do, it means that the columns are too specific (like type of sugar) or there aren't enough values in the dataset in the columns to be interessting. Note this means we have to drop the idea of analyzing the carbon footprint as there aren't enough values to answer our carbon foot print analysis"
   ]
  },
  {
   "cell_type": "code",
   "execution_count": 11,
   "metadata": {},
   "outputs": [],
   "source": [
    "# Creating the list of all the food fact (ingredients) column to delete since we do not need them for our research\n",
    "describe_df_aux = describe_df.iloc[36:]\n",
    "\n",
    "# We set them as a list for the removal\n",
    "food_facts_to_drop = list(describe_df_aux.index.values)\n",
    "\n",
    "# We remove the nutrition score from the list since they are needed\n",
    "food_facts_to_drop.remove('nutrition-score-fr_100g')\n",
    "food_facts_to_drop.remove('nutrition-score-uk_100g')"
   ]
  },
  {
   "cell_type": "markdown",
   "metadata": {},
   "source": [
    "Now that we have the two lists we can merge them and then drop the columns:"
   ]
  },
  {
   "cell_type": "code",
   "execution_count": 12,
   "metadata": {},
   "outputs": [],
   "source": [
    "# Merging the two list created above to remove them\n",
    "columns_to_drop_merged = columns_to_drop_2 + food_facts_to_drop\n",
    "# Deleting and storing in a new dataframe\n",
    "df3 = df2.drop(columns_to_drop_merged, axis = 1)"
   ]
  },
  {
   "cell_type": "markdown",
   "metadata": {},
   "source": [
    "Now we can wonder if the `code` column can be set as the index:"
   ]
  },
  {
   "cell_type": "code",
   "execution_count": 13,
   "metadata": {},
   "outputs": [
    {
     "data": {
      "text/plain": [
       "False"
      ]
     },
     "execution_count": 13,
     "metadata": {},
     "output_type": "execute_result"
    }
   ],
   "source": [
    "df3.code.is_unique"
   ]
  },
  {
   "cell_type": "markdown",
   "metadata": {},
   "source": [
    "So the code column is not unique let's see how many values are duplicated:"
   ]
  },
  {
   "cell_type": "code",
   "execution_count": 14,
   "metadata": {},
   "outputs": [
    {
     "data": {
      "text/html": [
       "<div>\n",
       "<style scoped>\n",
       "    .dataframe tbody tr th:only-of-type {\n",
       "        vertical-align: middle;\n",
       "    }\n",
       "\n",
       "    .dataframe tbody tr th {\n",
       "        vertical-align: top;\n",
       "    }\n",
       "\n",
       "    .dataframe thead th {\n",
       "        text-align: right;\n",
       "    }\n",
       "</style>\n",
       "<table border=\"1\" class=\"dataframe\">\n",
       "  <thead>\n",
       "    <tr style=\"text-align: right;\">\n",
       "      <th></th>\n",
       "      <th>code</th>\n",
       "      <th>product_name</th>\n",
       "      <th>packaging_tags</th>\n",
       "      <th>brands_tags</th>\n",
       "      <th>categories_tags</th>\n",
       "      <th>origins_tags</th>\n",
       "      <th>manufacturing_places</th>\n",
       "      <th>labels_tags</th>\n",
       "      <th>countries_tags</th>\n",
       "      <th>pnns_groups_1</th>\n",
       "      <th>pnns_groups_2</th>\n",
       "      <th>main_category</th>\n",
       "      <th>nutrition-score-fr_100g</th>\n",
       "      <th>nutrition-score-uk_100g</th>\n",
       "    </tr>\n",
       "  </thead>\n",
       "  <tbody>\n",
       "    <tr>\n",
       "      <th>207855</th>\n",
       "      <td>116022.0</td>\n",
       "      <td>British Giant Marrowfat Peas</td>\n",
       "      <td>NaN</td>\n",
       "      <td>farrow-s</td>\n",
       "      <td>NaN</td>\n",
       "      <td>NaN</td>\n",
       "      <td>NaN</td>\n",
       "      <td>NaN</td>\n",
       "      <td>en:united-kingdom</td>\n",
       "      <td>NaN</td>\n",
       "      <td>NaN</td>\n",
       "      <td>NaN</td>\n",
       "      <td>NaN</td>\n",
       "      <td>NaN</td>\n",
       "    </tr>\n",
       "    <tr>\n",
       "      <th>10832</th>\n",
       "      <td>116022.0</td>\n",
       "      <td>British marrowfat processed peas in water - su...</td>\n",
       "      <td>NaN</td>\n",
       "      <td>by-sainsbury-s</td>\n",
       "      <td>NaN</td>\n",
       "      <td>NaN</td>\n",
       "      <td>NaN</td>\n",
       "      <td>NaN</td>\n",
       "      <td>en:united-kingdom</td>\n",
       "      <td>unknown</td>\n",
       "      <td>unknown</td>\n",
       "      <td>NaN</td>\n",
       "      <td>NaN</td>\n",
       "      <td>NaN</td>\n",
       "    </tr>\n",
       "    <tr>\n",
       "      <th>74720</th>\n",
       "      <td>635646.0</td>\n",
       "      <td>M&amp;S Vegetable Pizza</td>\n",
       "      <td>frais,plastique,carton</td>\n",
       "      <td>marks-spencer</td>\n",
       "      <td>fr:vegetable-pizzas</td>\n",
       "      <td>NaN</td>\n",
       "      <td>NaN</td>\n",
       "      <td>NaN</td>\n",
       "      <td>en:france,en:united-kingdom</td>\n",
       "      <td>unknown</td>\n",
       "      <td>unknown</td>\n",
       "      <td>fr:vegetable-pizzas</td>\n",
       "      <td>1.0</td>\n",
       "      <td>1.0</td>\n",
       "    </tr>\n",
       "    <tr>\n",
       "      <th>147293</th>\n",
       "      <td>635646.0</td>\n",
       "      <td>Chargrilled Vegetable &amp; Basil Pesto</td>\n",
       "      <td>frais,plastique,carton</td>\n",
       "      <td>marks-spencer</td>\n",
       "      <td>en:meals,en:pizzas-pies-and-quiches,fr:pizzas-...</td>\n",
       "      <td>NaN</td>\n",
       "      <td>Royaume-Uni</td>\n",
       "      <td>en:vegetarian,en:fsc,en:fsc-mix</td>\n",
       "      <td>en:france,en:united-kingdom</td>\n",
       "      <td>Composite foods</td>\n",
       "      <td>Pizza pies and quiche</td>\n",
       "      <td>en:meals</td>\n",
       "      <td>1.0</td>\n",
       "      <td>1.0</td>\n",
       "    </tr>\n",
       "    <tr>\n",
       "      <th>74722</th>\n",
       "      <td>635684.0</td>\n",
       "      <td>6 Wholemeal Pittas</td>\n",
       "      <td>NaN</td>\n",
       "      <td>marks-spencer</td>\n",
       "      <td>NaN</td>\n",
       "      <td>NaN</td>\n",
       "      <td>NaN</td>\n",
       "      <td>NaN</td>\n",
       "      <td>en:france</td>\n",
       "      <td>unknown</td>\n",
       "      <td>unknown</td>\n",
       "      <td>NaN</td>\n",
       "      <td>NaN</td>\n",
       "      <td>NaN</td>\n",
       "    </tr>\n",
       "  </tbody>\n",
       "</table>\n",
       "</div>"
      ],
      "text/plain": [
       "            code                                       product_name  \\\n",
       "207855  116022.0                       British Giant Marrowfat Peas   \n",
       "10832   116022.0  British marrowfat processed peas in water - su...   \n",
       "74720   635646.0                                M&S Vegetable Pizza   \n",
       "147293  635646.0                Chargrilled Vegetable & Basil Pesto   \n",
       "74722   635684.0                                 6 Wholemeal Pittas   \n",
       "\n",
       "                packaging_tags     brands_tags  \\\n",
       "207855                     NaN        farrow-s   \n",
       "10832                      NaN  by-sainsbury-s   \n",
       "74720   frais,plastique,carton   marks-spencer   \n",
       "147293  frais,plastique,carton   marks-spencer   \n",
       "74722                      NaN   marks-spencer   \n",
       "\n",
       "                                          categories_tags origins_tags  \\\n",
       "207855                                                NaN          NaN   \n",
       "10832                                                 NaN          NaN   \n",
       "74720                                 fr:vegetable-pizzas          NaN   \n",
       "147293  en:meals,en:pizzas-pies-and-quiches,fr:pizzas-...          NaN   \n",
       "74722                                                 NaN          NaN   \n",
       "\n",
       "       manufacturing_places                      labels_tags  \\\n",
       "207855                  NaN                              NaN   \n",
       "10832                   NaN                              NaN   \n",
       "74720                   NaN                              NaN   \n",
       "147293          Royaume-Uni  en:vegetarian,en:fsc,en:fsc-mix   \n",
       "74722                   NaN                              NaN   \n",
       "\n",
       "                     countries_tags    pnns_groups_1          pnns_groups_2  \\\n",
       "207855            en:united-kingdom              NaN                    NaN   \n",
       "10832             en:united-kingdom          unknown                unknown   \n",
       "74720   en:france,en:united-kingdom          unknown                unknown   \n",
       "147293  en:france,en:united-kingdom  Composite foods  Pizza pies and quiche   \n",
       "74722                     en:france          unknown                unknown   \n",
       "\n",
       "              main_category  nutrition-score-fr_100g  nutrition-score-uk_100g  \n",
       "207855                  NaN                      NaN                      NaN  \n",
       "10832                   NaN                      NaN                      NaN  \n",
       "74720   fr:vegetable-pizzas                      1.0                      1.0  \n",
       "147293             en:meals                      1.0                      1.0  \n",
       "74722                   NaN                      NaN                      NaN  "
      ]
     },
     "execution_count": 14,
     "metadata": {},
     "output_type": "execute_result"
    }
   ],
   "source": [
    "# We take all the rows where the code is duplicates\n",
    "duplicate_codes_indices = np.where(df3.duplicated('code', keep=False).values)[0]\n",
    "dups = df3.iloc[duplicate_codes_indices].copy()\n",
    "dups.code = dups.code.astype(float)\n",
    "\n",
    "# We sort so that the duplicated rows are on top of each other\n",
    "dups.sort_values(by = 'code', inplace = True)\n",
    "\n",
    "# Show the result\n",
    "dups.head()"
   ]
  },
  {
   "cell_type": "markdown",
   "metadata": {},
   "source": [
    "As it can be seen there are two types of duplicates:\n",
    "Some codes (`code` column) appear twice and some codes are NaN. As it can be observed when codes are duplicated, they are often the same product and sometimes one of the rows contains more information than the other for the same code. So we could just keep the rows that contain the most information. And for the rows with NaN as code, the values of the columns are not matching the column names so there must be a shift of values. As a lot of values are missing, it would be complex to recover the true data and there are only 34 rows with code equal to NaN, so we can delete them:"
   ]
  },
  {
   "cell_type": "code",
   "execution_count": 15,
   "metadata": {},
   "outputs": [],
   "source": [
    "dups = dups[dups != float('nan')]\n",
    "\n",
    "dups['nb_of_features'] = np.sum(dups.notnull(), axis=1)\n",
    "dups.reset_index(inplace = True)\n",
    "indices_to_remove = dups.sort_values(['code','nb_of_features'],ascending = True)\\\n",
    "                        .groupby('code',as_index=False).first()['index'].values\n",
    "df3.dropna(subset=['code'],inplace=True)\n",
    "df3.drop(indices_to_remove,inplace = True)"
   ]
  },
  {
   "cell_type": "markdown",
   "metadata": {},
   "source": [
    "We verify that the `code` column of the dataframe is unique:"
   ]
  },
  {
   "cell_type": "code",
   "execution_count": 16,
   "metadata": {
    "scrolled": true
   },
   "outputs": [
    {
     "data": {
      "text/plain": [
       "True"
      ]
     },
     "execution_count": 16,
     "metadata": {},
     "output_type": "execute_result"
    }
   ],
   "source": [
    "df3.code.is_unique"
   ]
  },
  {
   "cell_type": "markdown",
   "metadata": {},
   "source": [
    "So we just have to set this column as the index:"
   ]
  },
  {
   "cell_type": "code",
   "execution_count": 17,
   "metadata": {},
   "outputs": [],
   "source": [
    "df3.set_index('code', inplace = True)"
   ]
  },
  {
   "cell_type": "markdown",
   "metadata": {},
   "source": [
    "The dataframe has the following shape:"
   ]
  },
  {
   "cell_type": "code",
   "execution_count": 18,
   "metadata": {},
   "outputs": [
    {
     "name": "stdout",
     "output_type": "stream",
     "text": [
      "683106(row) x 13(columns)\n"
     ]
    }
   ],
   "source": [
    "print('{0}(row) x {1}(columns)'.format(df3.shape[0], df3.shape[1]))"
   ]
  },
  {
   "cell_type": "markdown",
   "metadata": {},
   "source": [
    "So we are using these proportions of the initial dataframe:"
   ]
  },
  {
   "cell_type": "code",
   "execution_count": 19,
   "metadata": {},
   "outputs": [
    {
     "name": "stdout",
     "output_type": "stream",
     "text": [
      "99.97% of the rows of the initial dataframe\n",
      "7.51% of the columns of the initial dataframe\n"
     ]
    }
   ],
   "source": [
    "print('{0:1.2f}% of the rows of the initial dataframe'.format(df3.shape[0]/df.shape[0]*100))\n",
    "print('{0:1.2f}% of the columns of the initial dataframe'.format(df3.shape[1]/df.shape[1]*100))"
   ]
  },
  {
   "cell_type": "markdown",
   "metadata": {},
   "source": [
    "### Types and statistics of the features"
   ]
  },
  {
   "cell_type": "markdown",
   "metadata": {},
   "source": [
    "Let's first check what are the type of the columns of the dataframe:"
   ]
  },
  {
   "cell_type": "code",
   "execution_count": 20,
   "metadata": {},
   "outputs": [
    {
     "data": {
      "text/plain": [
       "product_name                object\n",
       "packaging_tags              object\n",
       "brands_tags                 object\n",
       "categories_tags             object\n",
       "origins_tags                object\n",
       "manufacturing_places        object\n",
       "labels_tags                 object\n",
       "countries_tags              object\n",
       "pnns_groups_1               object\n",
       "pnns_groups_2               object\n",
       "main_category               object\n",
       "nutrition-score-fr_100g    float64\n",
       "nutrition-score-uk_100g    float64\n",
       "dtype: object"
      ]
     },
     "execution_count": 20,
     "metadata": {},
     "output_type": "execute_result"
    }
   ],
   "source": [
    "df3.dtypes"
   ]
  },
  {
   "cell_type": "markdown",
   "metadata": {},
   "source": [
    "Here the types are object as there are a lot of NaN values (which are float type) in the text so the python compiler can put string as type. We will be able to replace some of the NaN values later.\n",
    "\n",
    "Let's plot the percentage of the non NaN values in each general information features i.e. column 0 to 18. The data set is split with respect to some groups of columns to have make a better representation of each category of feature:"
   ]
  },
  {
   "cell_type": "code",
   "execution_count": 21,
   "metadata": {},
   "outputs": [
    {
     "data": {
      "image/png": "[encoded data removed]",
      "text/plain": [
       "<Figure size 1440x432 with 1 Axes>"
      ]
     },
     "metadata": {
      "needs_background": "light"
     },
     "output_type": "display_data"
    }
   ],
   "source": [
    "general_info = df3.iloc[:,:18]\n",
    "plt.figure(figsize=(20,6))\n",
    "plt.bar(range(general_info.shape[1]),general_info.count()/general_info.shape[0]*100)\n",
    "plt.xticks(range(general_info.shape[1]), general_info.columns,rotation=70)\n",
    "plt.title(\"Percentage of non-NaN values for each feature\")\n",
    "plt.xlabel(\"Feature Name\")\n",
    "plt.ylabel(\"Percentage of non-NaN values [%]\")\n",
    "plt.show()"
   ]
  },
  {
   "cell_type": "markdown",
   "metadata": {},
   "source": [
    "As expected from looking at the data frame, there is a large number of NaN values. Indeed, for the `origin_tags` there is more than 95% of the values that are NaN values. This is compromising a lot with our research question about import. On the other hand, from the `df_unique` dataframe we see that there is still ~50'000 rows that contain an origin tags so we will still be able to do some research (though not as extended as we wished) on a subset of rows.\n",
    "\n",
    "We also plot an histogram of the count of non-NaN values for each row:"
   ]
  },
  {
   "cell_type": "code",
   "execution_count": 22,
   "metadata": {},
   "outputs": [
    {
     "data": {
      "image/png": "[encoded data removed]",
      "text/plain": [
       "<Figure size 1296x432 with 2 Axes>"
      ]
     },
     "metadata": {
      "needs_background": "light"
     },
     "output_type": "display_data"
    }
   ],
   "source": [
    "# Plotting \n",
    "plt.figure(figsize=(18,6))\n",
    "plt.subplot(121)\n",
    "plt.hist(general_info.transpose().count(),\n",
    "         bins = np.arange(general_info.shape[1]+2)-0.5,\n",
    "         rwidth = 0.8)\n",
    "plt.xticks(range(general_info.shape[1]+1))\n",
    "plt.title(\"Histogram of the number of non-NaN values\")\n",
    "plt.xlabel(\"Number of non-NaN values per row\")\n",
    "plt.ylabel(\"Count\")\n",
    "\n",
    "plt.subplot(122)\n",
    "plt.hist(general_info.transpose().count(),\n",
    "         bins = np.arange(general_info.shape[1]+2)-0.5, \n",
    "         cumulative=True,\n",
    "         rwidth = 0.8)\n",
    "plt.xticks(range(general_info.shape[1]+1))\n",
    "plt.title(\"Cumulative histogram of the number of non-NaN values\")\n",
    "plt.xlabel(\"Number of non-NaN values per row\")\n",
    "plt.ylabel(\"Count\")\n",
    "plt.show()"
   ]
  },
  {
   "cell_type": "markdown",
   "metadata": {},
   "source": [
    "By seeing the problem row-wise, we can evaluate the amount of data that we will be able to use. We can see the distribution on the left to get a general idea of the number of non-NaN values for each row. But the most interesting plot is the cumulative on the right. We can see that approximately 500'000 rows have between 0 and 6 non-NaN values. We also notice that only 150,000 rows have between 7 and 13 columns (thus more than half the data). "
   ]
  },
  {
   "cell_type": "markdown",
   "metadata": {},
   "source": [
    "### Importing a second data set with all the countries locations"
   ]
  },
  {
   "cell_type": "code",
   "execution_count": 23,
   "metadata": {},
   "outputs": [
    {
     "data": {
      "text/html": [
       "<div>\n",
       "<style scoped>\n",
       "    .dataframe tbody tr th:only-of-type {\n",
       "        vertical-align: middle;\n",
       "    }\n",
       "\n",
       "    .dataframe tbody tr th {\n",
       "        vertical-align: top;\n",
       "    }\n",
       "\n",
       "    .dataframe thead th {\n",
       "        text-align: right;\n",
       "    }\n",
       "</style>\n",
       "<table border=\"1\" class=\"dataframe\">\n",
       "  <thead>\n",
       "    <tr style=\"text-align: right;\">\n",
       "      <th></th>\n",
       "      <th>latitude</th>\n",
       "      <th>longitude</th>\n",
       "      <th>name</th>\n",
       "    </tr>\n",
       "    <tr>\n",
       "      <th>country</th>\n",
       "      <th></th>\n",
       "      <th></th>\n",
       "      <th></th>\n",
       "    </tr>\n",
       "  </thead>\n",
       "  <tbody>\n",
       "    <tr>\n",
       "      <th>AD</th>\n",
       "      <td>42.546245</td>\n",
       "      <td>1.601554</td>\n",
       "      <td>Andorra</td>\n",
       "    </tr>\n",
       "    <tr>\n",
       "      <th>AE</th>\n",
       "      <td>23.424076</td>\n",
       "      <td>53.847818</td>\n",
       "      <td>United Arab Emirates</td>\n",
       "    </tr>\n",
       "    <tr>\n",
       "      <th>AF</th>\n",
       "      <td>33.939110</td>\n",
       "      <td>67.709953</td>\n",
       "      <td>Afghanistan</td>\n",
       "    </tr>\n",
       "    <tr>\n",
       "      <th>AG</th>\n",
       "      <td>17.060816</td>\n",
       "      <td>-61.796428</td>\n",
       "      <td>Antigua and Barbuda</td>\n",
       "    </tr>\n",
       "    <tr>\n",
       "      <th>AI</th>\n",
       "      <td>18.220554</td>\n",
       "      <td>-63.068615</td>\n",
       "      <td>Anguilla</td>\n",
       "    </tr>\n",
       "    <tr>\n",
       "      <th>AL</th>\n",
       "      <td>41.153332</td>\n",
       "      <td>20.168331</td>\n",
       "      <td>Albania</td>\n",
       "    </tr>\n",
       "    <tr>\n",
       "      <th>AM</th>\n",
       "      <td>40.069099</td>\n",
       "      <td>45.038189</td>\n",
       "      <td>Armenia</td>\n",
       "    </tr>\n",
       "    <tr>\n",
       "      <th>AN</th>\n",
       "      <td>12.226079</td>\n",
       "      <td>-69.060087</td>\n",
       "      <td>Netherlands Antilles</td>\n",
       "    </tr>\n",
       "    <tr>\n",
       "      <th>AO</th>\n",
       "      <td>-11.202692</td>\n",
       "      <td>17.873887</td>\n",
       "      <td>Angola</td>\n",
       "    </tr>\n",
       "    <tr>\n",
       "      <th>AQ</th>\n",
       "      <td>-75.250973</td>\n",
       "      <td>-0.071389</td>\n",
       "      <td>Antarctica</td>\n",
       "    </tr>\n",
       "  </tbody>\n",
       "</table>\n",
       "</div>"
      ],
      "text/plain": [
       "          latitude  longitude                  name\n",
       "country                                            \n",
       "AD       42.546245   1.601554               Andorra\n",
       "AE       23.424076  53.847818  United Arab Emirates\n",
       "AF       33.939110  67.709953           Afghanistan\n",
       "AG       17.060816 -61.796428   Antigua and Barbuda\n",
       "AI       18.220554 -63.068615              Anguilla\n",
       "AL       41.153332  20.168331               Albania\n",
       "AM       40.069099  45.038189               Armenia\n",
       "AN       12.226079 -69.060087  Netherlands Antilles\n",
       "AO      -11.202692  17.873887                Angola\n",
       "AQ      -75.250973  -0.071389            Antarctica"
      ]
     },
     "execution_count": 23,
     "metadata": {},
     "output_type": "execute_result"
    }
   ],
   "source": [
    "# CSV found on this page: https://developers.google.com/public-data/docs/canonical/countries_csv\n",
    "countries_df = pd.read_csv(\"countries.csv\", sep = '\\t')\n",
    "\n",
    "# Remove the space at the end of the column names\n",
    "countries_df.columns = ['country', 'latitude', 'longitude', 'name']\n",
    "\n",
    "# Setting country as Index\n",
    "countries_df.set_index('country', inplace = True)\n",
    "countries_df.head(10)"
   ]
  },
  {
   "cell_type": "markdown",
   "metadata": {},
   "source": [
    "With this second data set we will be able to see how the products travel across the world. To be more specific, we wil be able to compute the distance traveled from the countries coordinates on the map (by computing the grand circle distance). As we all know, the fact of importing food that comes from far away is bad for the environment. Mainly for vegetable as they have to travel most of the time by plane otherwise they get quickly out of date."
   ]
  },
  {
   "cell_type": "markdown",
   "metadata": {},
   "source": [
    "# More analysis of the research questions"
   ]
  },
  {
   "cell_type": "markdown",
   "metadata": {},
   "source": [
    "### What is the proportion of imported products per country?"
   ]
  },
  {
   "cell_type": "markdown",
   "metadata": {},
   "source": [
    "With both `origins_tags` and `countries_tags`, we can extract the countries that import the most number of products. We can assume that the name of the product are unique and therefore can be used to look for the number of products sold in or are being sold by a particular country. The countries and origins tags are not cleaned yet, but it is definitely possible to search whether it might countain the name of a known country or the abbreviation of it to do or from one of its cities. We also plan to extract the known coordinate for every country and map them to the origins_tags and countries_tags and display the flow of products inward or outward from every single country and its volume on a world map to know what country produces the most of the products used worldwide or the one that imports the most of its products. With the second data frame we imported, we will be able to show the distance traveled by the product (using the great distant circle) in the world."
   ]
  },
  {
   "cell_type": "code",
   "execution_count": 24,
   "metadata": {},
   "outputs": [
    {
     "data": {
      "text/plain": [
       "6577"
      ]
     },
     "execution_count": 24,
     "metadata": {},
     "output_type": "execute_result"
    }
   ],
   "source": [
    "# The number of unique values for origins_tags\n",
    "len(df3[\"origins_tags\"].unique())"
   ]
  },
  {
   "cell_type": "code",
   "execution_count": 25,
   "metadata": {},
   "outputs": [
    {
     "data": {
      "text/plain": [
       "1358"
      ]
     },
     "execution_count": 25,
     "metadata": {},
     "output_type": "execute_result"
    }
   ],
   "source": [
    "# The number of unique values for countries\n",
    "len(df3[\"countries_tags\"].unique())"
   ]
  },
  {
   "cell_type": "code",
   "execution_count": 26,
   "metadata": {},
   "outputs": [
    {
     "data": {
      "text/plain": [
       "countries_tags\n",
       "be:belgique                   2\n",
       "ca:catalunya                  1\n",
       "ch:deutschland,ch:schweiz     1\n",
       "ch:schweiz                    1\n",
       "ch:suisse                    37\n",
       "Name: product_name, dtype: int64"
      ]
     },
     "execution_count": 26,
     "metadata": {},
     "output_type": "execute_result"
    }
   ],
   "source": [
    "# Number of products sold in a specific country\n",
    "df3.copy().groupby(by = ['countries_tags'])[\"product_name\"].count().head()"
   ]
  },
  {
   "cell_type": "code",
   "execution_count": 27,
   "metadata": {},
   "outputs": [
    {
     "data": {
      "text/plain": [
       "origins_tags\n",
       "03-2018                1\n",
       "08430-jandun,france    1\n",
       "0se361-3,sweden        1\n",
       "1-france,3-ue          1\n",
       "1-mai,alger,algerie    1\n",
       "Name: product_name, dtype: int64"
      ]
     },
     "execution_count": 27,
     "metadata": {},
     "output_type": "execute_result"
    }
   ],
   "source": [
    "# Number of products made in a specific country\n",
    "df3.copy().groupby(by = ['origins_tags'])[\"product_name\"].count().head()"
   ]
  },
  {
   "cell_type": "markdown",
   "metadata": {},
   "source": [
    "We notice that the aggregation by `countries_tags` has 1358 possible unique values (excluding NaN) which is much more than the possible number of countries in the world. After exploring the countries_tags, we observe the some products are sold in more than a single country, and the combination of all the product in which it is sold is considered a single entry for `origins_tags`. Thus, a separation of the `countries_tags` is neccessary and reaggregation of the all the products."
   ]
  },
  {
   "cell_type": "markdown",
   "metadata": {},
   "source": [
    "We also notice that origins_tags has 6577 unique values (excluding NaN) whici is more than the possible number of countries in the world. After exploring origins_tags, we observe the some origin_tags are more specific about the origins than just including the country. We should clean this column by looking at whether it contains a known name of a country."
   ]
  },
  {
   "cell_type": "markdown",
   "metadata": {},
   "source": [
    "### Which countries contribute most to the environment through eco-friendly packages?"
   ]
  },
  {
   "cell_type": "markdown",
   "metadata": {},
   "source": [
    "Initially, this question was supposed to be centered on packaging and carbon-footprint. However, we noticed that the `carbon-footprint_100g` column has very few non-NaN values:"
   ]
  },
  {
   "cell_type": "code",
   "execution_count": 28,
   "metadata": {},
   "outputs": [
    {
     "data": {
      "text/plain": [
       "342"
      ]
     },
     "execution_count": 28,
     "metadata": {},
     "output_type": "execute_result"
    }
   ],
   "source": [
    "# We get the number of non-nan values in the carbon-footprint column.\n",
    "# Here we take the original dataframe to show the result since other dataframes had already deleted this column\n",
    "df['carbon-footprint_100g'].count()"
   ]
  },
  {
   "cell_type": "markdown",
   "metadata": {},
   "source": [
    "This jeopardizes this research question on one hand since CO2 footprint is a vital aspect and the data is lacking. As a result, we will not be using the CO2 footprint in this research question since we have decided to remove the column. On the other hand, we will be able to move forward by analyzing the `packaging_tags` column. <br>\n",
    "Let's see if the `packaging_tags` and `countries_tags` column have enough data for this question:"
   ]
  },
  {
   "cell_type": "code",
   "execution_count": 29,
   "metadata": {},
   "outputs": [
    {
     "data": {
      "text/plain": [
       "137496"
      ]
     },
     "execution_count": 29,
     "metadata": {},
     "output_type": "execute_result"
    }
   ],
   "source": [
    "df3['packaging_tags'].count()"
   ]
  },
  {
   "cell_type": "code",
   "execution_count": 30,
   "metadata": {},
   "outputs": [
    {
     "data": {
      "text/plain": [
       "682557"
      ]
     },
     "execution_count": 30,
     "metadata": {},
     "output_type": "execute_result"
    }
   ],
   "source": [
    "df3['countries_tags'].count()"
   ]
  },
  {
   "cell_type": "markdown",
   "metadata": {},
   "source": [
    "We notice that the data relative to the packaging has more than 130,000 non-NaN values and the data relative to the country where is it ***sold*** is present in nearly all products. In this sense, by using the information of the packaging along with the column `countries_tags`, we can estimate the countries that sell the highest variety of eco-friendly products but only in terms of packaging. "
   ]
  },
  {
   "cell_type": "markdown",
   "metadata": {},
   "source": [
    "### Which countries have the largest variety of organic-labeled products? "
   ]
  },
  {
   "cell_type": "markdown",
   "metadata": {},
   "source": [
    "This research question appeals to three different columns: `countries_tags`, `categories_tags` and `labels_tags`. The labels and categories have data about wether the products are organic or not, while the countries will be used to identify which of the countries have the largest variety of organic-labeled products."
   ]
  },
  {
   "cell_type": "code",
   "execution_count": 31,
   "metadata": {
    "scrolled": true
   },
   "outputs": [
    {
     "data": {
      "text/plain": [
       "174368"
      ]
     },
     "execution_count": 31,
     "metadata": {},
     "output_type": "execute_result"
    }
   ],
   "source": [
    "df3['categories_tags'].count()"
   ]
  },
  {
   "cell_type": "markdown",
   "metadata": {},
   "source": [
    "We see that we have data of the categories for more than 170,000 products. As a result, this column has enough data to be considered for this research question."
   ]
  },
  {
   "cell_type": "code",
   "execution_count": 32,
   "metadata": {},
   "outputs": [
    {
     "data": {
      "text/plain": [
       "100852"
      ]
     },
     "execution_count": 32,
     "metadata": {},
     "output_type": "execute_result"
    }
   ],
   "source": [
    "df3['labels_tags'].count()"
   ]
  },
  {
   "cell_type": "markdown",
   "metadata": {},
   "source": [
    "We also notice that we have data of the labels for more than 100,000 products. As a result, this column has enough data to be considered for this research question. <br>\n",
    "Since we know that the `countries_tags` column is filled for almost every product, we can conclude that this research question can be answered by looking at the organic labels in `labels_tags` and possibly `categories_tags` and mapping the labels to the countries from `countries_tags`."
   ]
  },
  {
   "cell_type": "markdown",
   "metadata": {},
   "source": [
    "### How healthy do we eat in the different countries?"
   ]
  },
  {
   "cell_type": "markdown",
   "metadata": {},
   "source": [
    "In order to answer this question, we will focus on simply analyzing the nutrition score of every country. The following link provides an overview on how the British nutrition score is computed: https://www.ndph.ox.ac.uk/cpnp/files/about/uk-ofcom-nutrient-profile-model.pdf (also provided and explained in the data story). The nutrition score is computed in such a way that the higher score is, the ***less*** healthy the product is. Let us analyze the nutrition scores of this data set."
   ]
  },
  {
   "cell_type": "code",
   "execution_count": 33,
   "metadata": {},
   "outputs": [
    {
     "data": {
      "text/plain": [
       "137063"
      ]
     },
     "execution_count": 33,
     "metadata": {},
     "output_type": "execute_result"
    }
   ],
   "source": [
    "df3['nutrition-score-uk_100g'].count()"
   ]
  },
  {
   "cell_type": "markdown",
   "metadata": {},
   "source": [
    "The British nutrition score is available for more than 130,000 products, which good news for our research. Let's see also information about the French nutrition score (which is computed in a very similar way as the British one."
   ]
  },
  {
   "cell_type": "code",
   "execution_count": 34,
   "metadata": {},
   "outputs": [
    {
     "data": {
      "text/plain": [
       "137063"
      ]
     },
     "execution_count": 34,
     "metadata": {},
     "output_type": "execute_result"
    }
   ],
   "source": [
    "df3['nutrition-score-fr_100g'].count()"
   ]
  },
  {
   "cell_type": "markdown",
   "metadata": {},
   "source": [
    "It seems that both are computed for exactly the same number of products. We can also analyze how similar they are."
   ]
  },
  {
   "cell_type": "code",
   "execution_count": 35,
   "metadata": {},
   "outputs": [
    {
     "name": "stdout",
     "output_type": "stream",
     "text": [
      "                         nutrition-score-uk_100g  nutrition-score-fr_100g\n",
      "nutrition-score-uk_100g                 1.000000                 0.928105\n",
      "nutrition-score-fr_100g                 0.928105                 1.000000\n"
     ]
    },
    {
     "name": "stderr",
     "output_type": "stream",
     "text": [
      "/anaconda3/lib/python3.6/site-packages/scipy/stats/stats.py:1713: FutureWarning: Using a non-tuple sequence for multidimensional indexing is deprecated; use `arr[tuple(seq)]` instead of `arr[seq]`. In the future this will be interpreted as an array index, `arr[np.array(seq)]`, which will result either in an error or a different result.\n",
      "  return np.add.reduce(sorted[indexer] * weights, axis=axis) / sumval\n"
     ]
    },
    {
     "data": {
      "image/png": "[encoded data removed]",
      "text/plain": [
       "<Figure size 360x360 with 1 Axes>"
      ]
     },
     "metadata": {
      "needs_background": "light"
     },
     "output_type": "display_data"
    }
   ],
   "source": [
    "# We first get the data only for the nutrition score\n",
    "nutritions = df3[['nutrition-score-uk_100g', 'nutrition-score-fr_100g']]\n",
    "\n",
    "# We print the correlation\n",
    "print(nutritions.corr())\n",
    "\n",
    "# We plot to show the correlation\n",
    "plot = sns.lmplot(y='nutrition-score-uk_100g', x='nutrition-score-fr_100g', data=nutritions, fit_reg=True)\n",
    "fig = plot.fig "
   ]
  },
  {
   "cell_type": "markdown",
   "metadata": {},
   "source": [
    "As a result, we will only focus on one of the nutrition score. We chose to focus on the British, but the French is also a very suitable choice."
   ]
  },
  {
   "cell_type": "markdown",
   "metadata": {},
   "source": [
    "### What's on my plate?"
   ]
  },
  {
   "cell_type": "markdown",
   "metadata": {},
   "source": [
    "Our goal and final question is answering the following question: ***What's on my plate***?\n",
    "This question uses the different answers we will be providing in the other research questions. After investigating these characteristics, we will show (probabilistic) information depending on the country we live in. The information is split into four categories: \n",
    "\n",
    "- Where does the product I eat most likely come from?\n",
    "- How healthy am I eating?\n",
    "- How likely am I eating organic products?\n",
    "- How am I contributing to the environment?"
   ]
  },
  {
   "cell_type": "markdown",
   "metadata": {},
   "source": [
    "## Answering the research questions "
   ]
  },
  {
   "cell_type": "markdown",
   "metadata": {},
   "source": [
    "We first change the name of our dataframe for better readability. "
   ]
  },
  {
   "cell_type": "code",
   "execution_count": 36,
   "metadata": {},
   "outputs": [],
   "source": [
    "current_data = df3.copy()"
   ]
  },
  {
   "cell_type": "markdown",
   "metadata": {},
   "source": [
    "### What is the proportion of imported products per country?"
   ]
  },
  {
   "cell_type": "code",
   "execution_count": 37,
   "metadata": {},
   "outputs": [],
   "source": [
    "# All the functions used in this cell are stored in the helpers.py file at root level of the git repository\n",
    "# They were placed here as the number of lines sum up to 250 line of code\n",
    "\n",
    "# Further cleaning of the countries tags\n",
    "ct = clean_coutries_tags(current_data)\n",
    "current_data['countries_tags'] = ct\n",
    "\n",
    "ot = clean_origins_tags(current_data)\n",
    "ot[ot.str.islower()] = \"Unknown\"\n",
    "ot[ot.str.contains('0|1|2|3|4|5|6|7|8|9')] = \"Unknown\"\n",
    "current_data['origins_tags'] = ot\n",
    "current_data = current_data[current_data['origins_tags'] != \"Unknown\"]"
   ]
  },
  {
   "cell_type": "code",
   "execution_count": 38,
   "metadata": {},
   "outputs": [
    {
     "data": {
      "image/png": "[encoded data removed]",
      "text/plain": [
       "<Figure size 1080x432 with 1 Axes>"
      ]
     },
     "metadata": {
      "needs_background": "light"
     },
     "output_type": "display_data"
    }
   ],
   "source": [
    "ori_tags = current_data[['origins_tags','product_name']].groupby('origins_tags').count().sort_values(by= 'product_name', ascending=False)\n",
    "ori_tags.drop(ori_tags.index[[1]], inplace=True)\n",
    "plt.figure(figsize=(15,6))\n",
    "plt.xlabel('Product Count')\n",
    "plt.ylabel('Countries')\n",
    "plt.title('Top 10 origin countries')\n",
    "plt.barh(ori_tags.head(10).index, ori_tags.head(10).product_name, log=True)\n",
    "plt.show()"
   ]
  },
  {
   "cell_type": "code",
   "execution_count": 39,
   "metadata": {
    "scrolled": false
   },
   "outputs": [
    {
     "data": {
      "image/png": "[encoded data removed]",
      "text/plain": [
       "<Figure size 1080x432 with 1 Axes>"
      ]
     },
     "metadata": {
      "needs_background": "light"
     },
     "output_type": "display_data"
    }
   ],
   "source": [
    "ctry_tags = current_data[['countries_tags','product_name']].groupby('countries_tags').count().sort_values(by= 'product_name', ascending=False)\n",
    "plt.figure(figsize=(15,6))\n",
    "plt.xlabel('Product Count')\n",
    "plt.ylabel('Countries')\n",
    "plt.title('Top 10 countries with sold products')\n",
    "plt.barh(ctry_tags.head(10).index, ctry_tags.head(10).product_name, log=True)\n",
    "plt.show()"
   ]
  },
  {
   "cell_type": "code",
   "execution_count": 40,
   "metadata": {
    "scrolled": false
   },
   "outputs": [
    {
     "data": {
      "text/html": [
       "<div>\n",
       "<style scoped>\n",
       "    .dataframe tbody tr th:only-of-type {\n",
       "        vertical-align: middle;\n",
       "    }\n",
       "\n",
       "    .dataframe tbody tr th {\n",
       "        vertical-align: top;\n",
       "    }\n",
       "\n",
       "    .dataframe thead th {\n",
       "        text-align: right;\n",
       "    }\n",
       "</style>\n",
       "<table border=\"1\" class=\"dataframe\">\n",
       "  <thead>\n",
       "    <tr style=\"text-align: right;\">\n",
       "      <th></th>\n",
       "      <th></th>\n",
       "      <th>product_name</th>\n",
       "    </tr>\n",
       "    <tr>\n",
       "      <th>countries_tags</th>\n",
       "      <th>origins_tags</th>\n",
       "      <th></th>\n",
       "    </tr>\n",
       "  </thead>\n",
       "  <tbody>\n",
       "    <tr>\n",
       "      <th rowspan=\"3\" valign=\"top\">France</th>\n",
       "      <th>France</th>\n",
       "      <td>16027</td>\n",
       "    </tr>\n",
       "    <tr>\n",
       "      <th>Italy</th>\n",
       "      <td>1198</td>\n",
       "    </tr>\n",
       "    <tr>\n",
       "      <th>Spain</th>\n",
       "      <td>1023</td>\n",
       "    </tr>\n",
       "    <tr>\n",
       "      <th>Mexico</th>\n",
       "      <th>Mexico</th>\n",
       "      <td>1004</td>\n",
       "    </tr>\n",
       "    <tr>\n",
       "      <th>Spain</th>\n",
       "      <th>Spain</th>\n",
       "      <td>923</td>\n",
       "    </tr>\n",
       "  </tbody>\n",
       "</table>\n",
       "</div>"
      ],
      "text/plain": [
       "                             product_name\n",
       "countries_tags origins_tags              \n",
       "France         France               16027\n",
       "               Italy                 1198\n",
       "               Spain                 1023\n",
       "Mexico         Mexico                1004\n",
       "Spain          Spain                  923"
      ]
     },
     "execution_count": 40,
     "metadata": {},
     "output_type": "execute_result"
    }
   ],
   "source": [
    "# Creating a base import data frame\n",
    "imp_exp = current_data[current_data['origins_tags'] != 'nan']\n",
    "imp_exp = imp_exp[imp_exp['origins_tags'] != 'European union']\n",
    "imp_exp = imp_exp[['countries_tags','origins_tags','product_name']].groupby(['countries_tags','origins_tags'])\\\n",
    "            .count()\\\n",
    "            .sort_values(by='product_name', ascending=False)\n",
    "\n",
    "# Printing example\n",
    "imp_exp.head()"
   ]
  },
  {
   "cell_type": "markdown",
   "metadata": {},
   "source": [
    "Here we define some method we are gonna use to plot show the import percentage for the top countries:"
   ]
  },
  {
   "cell_type": "code",
   "execution_count": 41,
   "metadata": {},
   "outputs": [],
   "source": [
    "def get_import_export(country, max_ctry = 8):\n",
    "    \"\"\"\n",
    "    Return a tuple containing:\n",
    "        1) The percentage of products produced in the country and abroad\n",
    "        2) The percentage of the imported production from the top 15 countries\n",
    "    \"\"\"\n",
    "    # Reseting the index of be able to work with 'origins_tags'\n",
    "    ctry_ori = imp_exp.loc[country].reset_index()\n",
    "    \n",
    "    #Rename the 'product_name' column\n",
    "    ctry_ori.rename(columns = {'product_name':'percentage'}, inplace = True)\n",
    "    \n",
    "    # Transforming the count to percent\n",
    "    n_prod = ctry_ori['percentage'].sum()\n",
    "    ctry_ori['percentage'] = ctry_ori['percentage']/float(n_prod)*100\n",
    "    \n",
    "    # If there are more than 15 countris, set the one with the lowest percentage \n",
    "    # to 'Others' in oder to avoid having to many countries \n",
    "    if ctry_ori.shape[0] >= max_ctry:\n",
    "        ori_t = ctry_ori['origins_tags']\n",
    "        ori_t[ctry_ori.index > max_ctry] = \"Others\"\n",
    "        ctry_ori['origins_tags'] = ori_t\n",
    "        ctry_ori = ctry_ori.groupby('origins_tags').sum().reset_index()\n",
    "    \n",
    "    # Computes the import percentage\n",
    "    ori_t = ctry_ori['origins_tags'].copy()\n",
    "    ori_t[ori_t != country] = 'Abroad'\n",
    "    \n",
    "    imp_perc = ctry_ori.copy()\n",
    "    imp_perc['origins_tags'] = ori_t\n",
    "    imp_perc = imp_perc.groupby('origins_tags').sum()\n",
    "    \n",
    "    # Return the tuple\n",
    "    return (imp_perc,ctry_ori.set_index('origins_tags').sort_values(by='percentage', ascending=False))"
   ]
  },
  {
   "cell_type": "code",
   "execution_count": 42,
   "metadata": {},
   "outputs": [],
   "source": [
    "def print_import_dist(country):\n",
    "    \"\"\"\n",
    "    Prints the distribution of the 8 best import countries for a specific country given as an argument\n",
    "    \"\"\"\n",
    "    (imp_perc, ctry_ori) = get_import_export(country)\n",
    "    plt.figure(figsize=(8,4))\n",
    "    plt.xlabel('Percentage %')\n",
    "    plt.ylabel('Countries')\n",
    "    plt.yticks(range(ctry_ori.shape[0]), ctry_ori.index.values)\n",
    "    plt.title('Distribution of where the food comes from in ' +country )\n",
    "    plt.barh(range(ctry_ori.shape[0]), ctry_ori.percentage.values)\n",
    "    plt.savefig('import_dist/'+country.lower()+'_imp_dist.png', bbox_inches = 'tight')\n",
    "    plt.show()"
   ]
  },
  {
   "cell_type": "markdown",
   "metadata": {},
   "source": [
    "### Ploting the import distribution for the top best countries"
   ]
  },
  {
   "cell_type": "code",
   "execution_count": 43,
   "metadata": {
    "scrolled": false
   },
   "outputs": [
    {
     "data": {
      "image/png": "[encoded data removed]",
      "text/plain": [
       "<Figure size 576x288 with 1 Axes>"
      ]
     },
     "metadata": {
      "needs_background": "light"
     },
     "output_type": "display_data"
    },
    {
     "data": {
      "image/png": "[encoded data removed]",
      "text/plain": [
       "<Figure size 576x288 with 1 Axes>"
      ]
     },
     "metadata": {
      "needs_background": "light"
     },
     "output_type": "display_data"
    },
    {
     "data": {
      "image/png": "[encoded data removed]",
      "text/plain": [
       "<Figure size 576x288 with 1 Axes>"
      ]
     },
     "metadata": {
      "needs_background": "light"
     },
     "output_type": "display_data"
    },
    {
     "data": {
      "image/png": "[encoded data removed]",
      "text/plain": [
       "<Figure size 576x288 with 1 Axes>"
      ]
     },
     "metadata": {
      "needs_background": "light"
     },
     "output_type": "display_data"
    },
    {
     "data": {
      "image/png": "[encoded data removed]",
      "text/plain": [
       "<Figure size 576x288 with 1 Axes>"
      ]
     },
     "metadata": {
      "needs_background": "light"
     },
     "output_type": "display_data"
    },
    {
     "data": {
      "image/png": "[encoded data removed]",
      "text/plain": [
       "<Figure size 576x288 with 1 Axes>"
      ]
     },
     "metadata": {
      "needs_background": "light"
     },
     "output_type": "display_data"
    }
   ],
   "source": [
    "print_import_dist('France')\n",
    "print_import_dist('Spain')\n",
    "print_import_dist('Italy')\n",
    "print_import_dist('Mexico')\n",
    "print_import_dist('Germany')\n",
    "print_import_dist('Switzerland')"
   ]
  },
  {
   "cell_type": "markdown",
   "metadata": {},
   "source": [
    "### Ploting the map to represent the import\n",
    "\n",
    "First we prepare the cooridnate dataset:"
   ]
  },
  {
   "cell_type": "code",
   "execution_count": 44,
   "metadata": {
    "scrolled": true
   },
   "outputs": [],
   "source": [
    "# Perparing the coordinates data_frame\n",
    "coordinates = countries_df.copy()\n",
    "ctry_name = coordinates.name.astype(str)\n",
    "ctry_name = ctry_name.str.capitalize()\n",
    "coordinates.name = ctry_name\n",
    "coordinates.reset_index(inplace = True)\n",
    "coordinates.set_index('name', inplace = True)\n"
   ]
  },
  {
   "cell_type": "code",
   "execution_count": 45,
   "metadata": {},
   "outputs": [],
   "source": [
    "def add_import_line(world, country, n_lines = 10):\n",
    "    \"\"\"\n",
    "    Adds import lines for a specific country on the map passed as argument\n",
    "    \"\"\"\n",
    "    country_coord = tuple(coordinates.loc[country,['latitude','longitude']])\n",
    "    (_, top_import) = get_import_export(country, max_ctry = n_lines)\n",
    "    top_import = top_import.drop(country)\n",
    "    if top_import.index.isin(['Others']).sum() != 0:\n",
    "        top_import = top_import.drop('Others')\n",
    "    for ctry in top_import.index:\n",
    "        if ctry not in coordinates.index:\n",
    "            continue\n",
    "        coord = tuple(coordinates.loc[ctry,['latitude','longitude']])\n",
    "        coords = [country_coord, coord]\n",
    "        world.add_child(folium.PolyLine(locations=coords, weight=1))"
   ]
  },
  {
   "cell_type": "code",
   "execution_count": 46,
   "metadata": {
    "scrolled": false
   },
   "outputs": [
    {
     "name": "stderr",
     "output_type": "stream",
     "text": [
      "/anaconda3/lib/python3.6/site-packages/IPython/core/display.py:689: UserWarning: Consider using IPython.display.IFrame instead\n",
      "  warnings.warn(\"Consider using IPython.display.IFrame instead\")\n"
     ]
    },
    {
     "data": {
      "text/html": [
       "<iframe src=\"import_map.html\" height=500 width=900></iframe>"
      ],
      "text/plain": [
       "<IPython.core.display.HTML object>"
      ]
     },
     "execution_count": 46,
     "metadata": {},
     "output_type": "execute_result"
    }
   ],
   "source": [
    "world = folium.Map(location=[30, 10], zoom_start=2)\n",
    "for country in ori_tags.head(12).index:\n",
    "    add_import_line(world, country, n_lines = 15)\n",
    "world.save('import_map.html')\n",
    "HTML('<iframe src=\"import_map.html\" height=500 width=900></iframe>')"
   ]
  },
  {
   "cell_type": "markdown",
   "metadata": {},
   "source": [
    "### Which countries contribute most to the environment through eco-friendly packages?"
   ]
  },
  {
   "cell_type": "markdown",
   "metadata": {},
   "source": [
    "In order to answer this question, it is important to do some research to understand which packaging are the most/least eco-friendly. Online websites such as https://bizfluent.com/facts-6743400-eco-friendly-packaging-.html gave us some insights. First, we noticed that the \n",
    "Our research research has led to following conclusions:"
   ]
  },
  {
   "cell_type": "code",
   "execution_count": 47,
   "metadata": {},
   "outputs": [
    {
     "data": {
      "text/html": [
       "<div>\n",
       "<style scoped>\n",
       "    .dataframe tbody tr th:only-of-type {\n",
       "        vertical-align: middle;\n",
       "    }\n",
       "\n",
       "    .dataframe tbody tr th {\n",
       "        vertical-align: top;\n",
       "    }\n",
       "\n",
       "    .dataframe thead th {\n",
       "        text-align: right;\n",
       "    }\n",
       "</style>\n",
       "<table border=\"1\" class=\"dataframe\">\n",
       "  <thead>\n",
       "    <tr style=\"text-align: right;\">\n",
       "      <th></th>\n",
       "      <th>index</th>\n",
       "      <th>countries_tags</th>\n",
       "      <th>packaging</th>\n",
       "    </tr>\n",
       "  </thead>\n",
       "  <tbody>\n",
       "    <tr>\n",
       "      <th>0</th>\n",
       "      <td>0</td>\n",
       "      <td>France</td>\n",
       "      <td>carton</td>\n",
       "    </tr>\n",
       "    <tr>\n",
       "      <th>1</th>\n",
       "      <td>1</td>\n",
       "      <td>France</td>\n",
       "      <td>plastique</td>\n",
       "    </tr>\n",
       "    <tr>\n",
       "      <th>2</th>\n",
       "      <td>2</td>\n",
       "      <td>Canada</td>\n",
       "      <td>frais</td>\n",
       "    </tr>\n",
       "    <tr>\n",
       "      <th>3</th>\n",
       "      <td>3</td>\n",
       "      <td>Canada</td>\n",
       "      <td>frais</td>\n",
       "    </tr>\n",
       "    <tr>\n",
       "      <th>4</th>\n",
       "      <td>4</td>\n",
       "      <td>United kingdom</td>\n",
       "      <td>paper</td>\n",
       "    </tr>\n",
       "    <tr>\n",
       "      <th>5</th>\n",
       "      <td>5</td>\n",
       "      <td>United kingdom</td>\n",
       "      <td>plastic-film</td>\n",
       "    </tr>\n",
       "    <tr>\n",
       "      <th>6</th>\n",
       "      <td>6</td>\n",
       "      <td>Canada</td>\n",
       "      <td>frais</td>\n",
       "    </tr>\n",
       "    <tr>\n",
       "      <th>7</th>\n",
       "      <td>7</td>\n",
       "      <td>Canada</td>\n",
       "      <td>frais</td>\n",
       "    </tr>\n",
       "    <tr>\n",
       "      <th>8</th>\n",
       "      <td>8</td>\n",
       "      <td>Canada</td>\n",
       "      <td>plastique</td>\n",
       "    </tr>\n",
       "    <tr>\n",
       "      <th>9</th>\n",
       "      <td>9</td>\n",
       "      <td>Canada</td>\n",
       "      <td>frai</td>\n",
       "    </tr>\n",
       "  </tbody>\n",
       "</table>\n",
       "</div>"
      ],
      "text/plain": [
       "   index  countries_tags     packaging\n",
       "0      0          France        carton\n",
       "1      1          France     plastique\n",
       "2      2          Canada         frais\n",
       "3      3          Canada         frais\n",
       "4      4  United kingdom         paper\n",
       "5      5  United kingdom  plastic-film\n",
       "6      6          Canada         frais\n",
       "7      7          Canada         frais\n",
       "8      8          Canada     plastique\n",
       "9      9          Canada          frai"
      ]
     },
     "execution_count": 47,
     "metadata": {},
     "output_type": "execute_result"
    }
   ],
   "source": [
    "# We first take the rows with a non-null value in packaging_tags\n",
    "packaging_list_not_null = current_data[current_data['packaging_tags'].notnull()]\n",
    "\n",
    "# We then take only the columns we are interested in: packaging_tags and countries_tags\n",
    "packaging_list = packaging_list_not_null[['countries_tags','packaging_tags']]\n",
    "\n",
    "# We put packaging_tags in a list, separate them by the \",\" which separates the different packaging\n",
    "packaging_list['packaging_tags'] = packaging_list['packaging_tags'].str.split(',')\n",
    "\n",
    "# We set the countries_tags as index to \"explode\" the list into different rows\n",
    "packaging_list = packaging_list.set_index('countries_tags')\n",
    " \n",
    "# We do the \"explode\"\n",
    "packaging_list = (packaging_list.packaging_tags.apply(pd.Series)\n",
    "              .stack()\n",
    "              .reset_index(level=1, drop=True)\n",
    "              .to_frame('packaging'))\n",
    "\n",
    "# We reset the index\n",
    "packaging_list = packaging_list.reset_index(level=0)\n",
    "\n",
    "packaging_list = packaging_list.reset_index(level=0)\n",
    "\n",
    "# Show the output\n",
    "packaging_list.head(10)"
   ]
  },
  {
   "cell_type": "markdown",
   "metadata": {},
   "source": [
    "Now that we have for each country what packaging it uses for each product, we need some way to quantify it. Thus, we create a dictionary containing for each packaging a certain grade, where the higher the grade the more it is eco-friendly. We can then group by the country and take the mean (dividing by the number of products)."
   ]
  },
  {
   "cell_type": "code",
   "execution_count": 48,
   "metadata": {},
   "outputs": [
    {
     "data": {
      "text/plain": [
       "<matplotlib.axes._subplots.AxesSubplot at 0x1a5758e6d8>"
      ]
     },
     "execution_count": 48,
     "metadata": {},
     "output_type": "execute_result"
    },
    {
     "data": {
      "image/png": "[encoded data removed]",
      "text/plain": [
       "<Figure size 432x288 with 1 Axes>"
      ]
     },
     "metadata": {
      "needs_background": "light"
     },
     "output_type": "display_data"
    },
    {
     "data": {
      "image/png": "[encoded data removed]",
      "text/plain": [
       "<Figure size 432x288 with 1 Axes>"
      ]
     },
     "metadata": {
      "needs_background": "light"
     },
     "output_type": "display_data"
    }
   ],
   "source": [
    "# Setting up the grades for each packaging type\n",
    "# Note that we take the most common packaging types, where some appear in both french and english\n",
    "# The highest the score, the more the packaging is eco-friendly\n",
    "packaging_to_grade = {\n",
    "    'carton': 60,\n",
    "    'cardboard': 60,\n",
    "    'paper': 50,\n",
    "    'papier':50,\n",
    "    'verre':40,\n",
    "    'glass':40,\n",
    "    'metal':30,\n",
    "    'canette':30, #canette is considered as metal\n",
    "    'aluminium':20,\n",
    "    'plastique': 10,\n",
    "    'plastic': 10,\n",
    "    'sachet-plastique': 10,\n",
    "    'plastic-bag': 10\n",
    "}\n",
    "\n",
    "# We create a dataframe from the dicionary\n",
    "packaging_grade_df = pd.DataFrame.from_dict(packaging_to_grade, orient='index')\n",
    "packaging_grade_df = packaging_grade_df.reset_index()\n",
    "packaging_grade_df = packaging_grade_df.rename(columns={\"index\": \"packaging\", 0: \"grade\"})\n",
    "\n",
    "# We then merge on the packaging type in order to have a grade for each packaging and each country\n",
    "packaging_with_grade = packaging_list.merge(packaging_grade_df, how='left', left_on='packaging', right_on='packaging')\n",
    "\n",
    "# We take only those with non-NaN grade (since we took only the most common packaging types, NaN may appear)\n",
    "packaging_with_grade = packaging_with_grade[packaging_with_grade['grade'].notnull()]\n",
    "\n",
    "# We noticed that some countries only have around 1 or 2 products which is not enough data\n",
    "# We thus need to take into account only those that have a certain number of products, for example 10 products\n",
    "# We duplicate the grade column and call it count_products\n",
    "packaging_with_grade['count_products'] = packaging_with_grade['grade']\n",
    "\n",
    "# We then group by the countries, and aggregate the obtain the mean for each country and the number of products\n",
    "packaging_with_grade_count = packaging_with_grade.groupby('countries_tags').agg({'grade':'mean', 'count_products':'count'})\n",
    "\n",
    "# We then take only those with more than 10 products\n",
    "final_packaging_grade = packaging_with_grade_count[packaging_with_grade_count['count_products'] >= 10]\n",
    "\n",
    "# We sort the values\n",
    "final_packaging_grade = final_packaging_grade.sort_values(by='grade', ascending=False)\n",
    "final_packaging_grade = final_packaging_grade.reset_index(level=0)\n",
    "\n",
    "final_packaging_grade = final_packaging_grade[final_packaging_grade['countries_tags'] != 'nan']\n",
    "final_packaging_grade = final_packaging_grade[final_packaging_grade['countries_tags'] != 'European union']\n",
    "\n",
    "# We take the top 10 and plot it\n",
    "final_packaging_grade_top_10 = final_packaging_grade.head(10)\n",
    "final_packaging_grade_top_10.plot.barh(x='countries_tags', y='grade', title='Top 10 eco-friendly countries')\n",
    "\n",
    "# We take the bottom 10 and plot it\n",
    "final_packaging_grade_bottom_10 = final_packaging_grade.tail(10)\n",
    "final_packaging_grade_bottom_10.plot.barh(x='countries_tags', y='grade', title='Top 10 non eco-friendly countries')"
   ]
  },
  {
   "cell_type": "markdown",
   "metadata": {},
   "source": [
    "### Which countries have the largest variety of organic-labeled products? "
   ]
  },
  {
   "cell_type": "markdown",
   "metadata": {},
   "source": [
    "The objective of this research question is to investigate the countries that have highest organic-labeled products. To do so, we first manually detected the key word in the labels_tags column that refer to products that are organics. We then filtered those products and grouped them by country. We did the same grouping by country for all their country. Finally, we obtained the number of products that are organic and total number of products per country. We divided by both for each country to get at the end the ratio percentage of (organic product/ total number of product). This ratio gives us a good insight about the percentage of organic-labeled products in each country. For precaution, we have taken only the countries that have a number > 30 for total number of products and > 10 in terms of organic labeled products so that the results do not tend to be influence by the lack of information in our data-set. (interpretation of the results in the data story)"
   ]
  },
  {
   "cell_type": "code",
   "execution_count": 49,
   "metadata": {
    "scrolled": true
   },
   "outputs": [
    {
     "name": "stderr",
     "output_type": "stream",
     "text": [
      "/anaconda3/lib/python3.6/site-packages/ipykernel_launcher.py:21: UserWarning: Boolean Series key will be reindexed to match DataFrame index.\n"
     ]
    },
    {
     "data": {
      "text/html": [
       "<div>\n",
       "<style scoped>\n",
       "    .dataframe tbody tr th:only-of-type {\n",
       "        vertical-align: middle;\n",
       "    }\n",
       "\n",
       "    .dataframe tbody tr th {\n",
       "        vertical-align: top;\n",
       "    }\n",
       "\n",
       "    .dataframe thead th {\n",
       "        text-align: right;\n",
       "    }\n",
       "</style>\n",
       "<table border=\"1\" class=\"dataframe\">\n",
       "  <thead>\n",
       "    <tr style=\"text-align: right;\">\n",
       "      <th></th>\n",
       "      <th>countries_tags</th>\n",
       "      <th>percentage_of_organic food</th>\n",
       "    </tr>\n",
       "  </thead>\n",
       "  <tbody>\n",
       "    <tr>\n",
       "      <th>0</th>\n",
       "      <td>Georgia</td>\n",
       "      <td>96.923077</td>\n",
       "    </tr>\n",
       "    <tr>\n",
       "      <th>1</th>\n",
       "      <td>Germany</td>\n",
       "      <td>69.773635</td>\n",
       "    </tr>\n",
       "    <tr>\n",
       "      <th>2</th>\n",
       "      <td>France</td>\n",
       "      <td>56.033049</td>\n",
       "    </tr>\n",
       "    <tr>\n",
       "      <th>3</th>\n",
       "      <td>Belgium</td>\n",
       "      <td>50.857143</td>\n",
       "    </tr>\n",
       "    <tr>\n",
       "      <th>4</th>\n",
       "      <td>Austria</td>\n",
       "      <td>44.000000</td>\n",
       "    </tr>\n",
       "    <tr>\n",
       "      <th>5</th>\n",
       "      <td>Spain</td>\n",
       "      <td>38.185379</td>\n",
       "    </tr>\n",
       "    <tr>\n",
       "      <th>6</th>\n",
       "      <td>Switzerland</td>\n",
       "      <td>36.318408</td>\n",
       "    </tr>\n",
       "    <tr>\n",
       "      <th>7</th>\n",
       "      <td>Italy</td>\n",
       "      <td>35.185185</td>\n",
       "    </tr>\n",
       "    <tr>\n",
       "      <th>8</th>\n",
       "      <td>Canada</td>\n",
       "      <td>29.203540</td>\n",
       "    </tr>\n",
       "    <tr>\n",
       "      <th>9</th>\n",
       "      <td>United states</td>\n",
       "      <td>29.166667</td>\n",
       "    </tr>\n",
       "    <tr>\n",
       "      <th>10</th>\n",
       "      <td>Sweden</td>\n",
       "      <td>24.271845</td>\n",
       "    </tr>\n",
       "    <tr>\n",
       "      <th>11</th>\n",
       "      <td>United kingdom</td>\n",
       "      <td>17.961165</td>\n",
       "    </tr>\n",
       "    <tr>\n",
       "      <th>12</th>\n",
       "      <td>Portugal</td>\n",
       "      <td>15.254237</td>\n",
       "    </tr>\n",
       "    <tr>\n",
       "      <th>13</th>\n",
       "      <td>Romania</td>\n",
       "      <td>12.500000</td>\n",
       "    </tr>\n",
       "    <tr>\n",
       "      <th>14</th>\n",
       "      <td>Australia</td>\n",
       "      <td>4.058442</td>\n",
       "    </tr>\n",
       "    <tr>\n",
       "      <th>15</th>\n",
       "      <td>Mexico</td>\n",
       "      <td>1.081081</td>\n",
       "    </tr>\n",
       "  </tbody>\n",
       "</table>\n",
       "</div>"
      ],
      "text/plain": [
       "    countries_tags  percentage_of_organic food\n",
       "0          Georgia                   96.923077\n",
       "1          Germany                   69.773635\n",
       "2           France                   56.033049\n",
       "3          Belgium                   50.857143\n",
       "4          Austria                   44.000000\n",
       "5            Spain                   38.185379\n",
       "6      Switzerland                   36.318408\n",
       "7            Italy                   35.185185\n",
       "8           Canada                   29.203540\n",
       "9    United states                   29.166667\n",
       "10          Sweden                   24.271845\n",
       "11  United kingdom                   17.961165\n",
       "12        Portugal                   15.254237\n",
       "13         Romania                   12.500000\n",
       "14       Australia                    4.058442\n",
       "15          Mexico                    1.081081"
      ]
     },
     "execution_count": 49,
     "metadata": {},
     "output_type": "execute_result"
    }
   ],
   "source": [
    "# We take only the rows that do not have a null label\n",
    "labels_not_null = current_data[current_data['labels_tags'].notnull()]\n",
    "categories_not_null = current_data[current_data['categories_tags'].notnull()]\n",
    "\n",
    "# We take the rows with the label containing \"organic\" or \"green\" or \"bio\"\n",
    "labels_not_null_organic = labels_not_null[labels_not_null['labels_tags'].str.contains('organic|green|bio')]\n",
    "\n",
    "# We take the countries that have one of those labels\n",
    "countries_with_labels_organic = labels_not_null_organic[['labels_tags', 'countries_tags']]\n",
    "\n",
    "# We also take the number of products per country that just have a non-null label to compute a percentage\n",
    "countries_with_labels_total = labels_not_null[['labels_tags', 'countries_tags']]\n",
    "\n",
    "# We group by the country and take the count of the number of organic labeled product per country\n",
    "countries_with_labels_organic = countries_with_labels_organic.groupby('countries_tags').count().sort_values(by='labels_tags', ascending=False)\n",
    "\n",
    "# We group by the country and take the count of the number of labeled product per country\n",
    "countries_with_labels_total = countries_with_labels_total.groupby('countries_tags').count().sort_values(by='labels_tags', ascending=False)\n",
    "\n",
    "# Filter the countries that have less than 10 products that are organic and 30 in total\n",
    "countries_with_labels_organic = countries_with_labels_organic[countries_with_labels_total.labels_tags >= 10]\n",
    "countries_with_labels_total = countries_with_labels_total[countries_with_labels_total.labels_tags >= 30]\n",
    "\n",
    "# We divide the number of product that are organic by the total number of product\n",
    "countries_with_labels_organic_over_total = countries_with_labels_organic/countries_with_labels_total*100\n",
    "countries_with_labels_organic_over_total.sort_values(by = \"labels_tags\", ascending = False, inplace = True)\n",
    "\n",
    "# We set the countries columns from the index (needed for the map)\n",
    "countries_with_labels_organic_over_total.reset_index(inplace = True)\n",
    "\n",
    "#drop nans\n",
    "countries_with_labels_organic_over_total.dropna(inplace = True)\n",
    "\n",
    "#rename the column name to percentage of organic food\n",
    "countries_with_labels_organic_over_total.rename(columns = {'labels_tags':'percentage_of_organic food'}, inplace = True)\n",
    "countries_with_labels_organic_over_total"
   ]
  },
  {
   "cell_type": "code",
   "execution_count": 50,
   "metadata": {},
   "outputs": [
    {
     "name": "stderr",
     "output_type": "stream",
     "text": [
      "/anaconda3/lib/python3.6/site-packages/IPython/core/display.py:689: UserWarning: Consider using IPython.display.IFrame instead\n",
      "  warnings.warn(\"Consider using IPython.display.IFrame instead\")\n"
     ]
    },
    {
     "data": {
      "text/html": [
       "<iframe src=\"organic_labeled_per_country.html\" height=500 width=900></iframe>"
      ],
      "text/plain": [
       "<IPython.core.display.HTML object>"
      ]
     },
     "execution_count": 50,
     "metadata": {},
     "output_type": "execute_result"
    }
   ],
   "source": [
    "# We load a curated list of countries\n",
    "country_geo = 'world-countries-curated.json'\n",
    "\n",
    "# Start the folium map\n",
    "M = folium.Map(location=[10, 0], zoom_start=1)\n",
    "\n",
    "# Set the params of the chropleth\n",
    "M.choropleth(geo_data=country_geo, data=countries_with_labels_organic_over_total,\n",
    "             columns=['countries_tags', 'percentage_of_organic food'],\n",
    "             key_on='feature.properties.name',\n",
    "             fill_color='YlGnBu', fill_opacity=0.7, line_opacity=0.2,\n",
    "             legend_name=\"Percentage of organic food per country\")\n",
    "# save the map\n",
    "M.save('organic_labeled_per_country.html')\n",
    "\n",
    "# display the map with an iframe\n",
    "HTML('<iframe src=\"organic_labeled_per_country.html\" height=500 width=900></iframe>')\n"
   ]
  },
  {
   "cell_type": "markdown",
   "metadata": {},
   "source": [
    "### What is the average nutrition score per country?"
   ]
  },
  {
   "cell_type": "markdown",
   "metadata": {},
   "source": [
    "The objective of this research question is to investigate the countries that have highest nutrition score. To do so, we first discarded the countries that do not have a lot of products that include a nutrition score so that our results are not influenced by the lack of information or referenced products in the data-set. We then grouped by the mean of the nutrition score for each country. (interpretation of the results in the data story)\n"
   ]
  },
  {
   "cell_type": "code",
   "execution_count": 56,
   "metadata": {},
   "outputs": [
    {
     "data": {
      "text/html": [
       "<div>\n",
       "<style scoped>\n",
       "    .dataframe tbody tr th:only-of-type {\n",
       "        vertical-align: middle;\n",
       "    }\n",
       "\n",
       "    .dataframe tbody tr th {\n",
       "        vertical-align: top;\n",
       "    }\n",
       "\n",
       "    .dataframe thead th {\n",
       "        text-align: right;\n",
       "    }\n",
       "</style>\n",
       "<table border=\"1\" class=\"dataframe\">\n",
       "  <thead>\n",
       "    <tr style=\"text-align: right;\">\n",
       "      <th></th>\n",
       "      <th>countries_tags</th>\n",
       "      <th>nutrition-score-uk_100g_count</th>\n",
       "    </tr>\n",
       "  </thead>\n",
       "  <tbody>\n",
       "    <tr>\n",
       "      <th>0</th>\n",
       "      <td>Australia</td>\n",
       "      <td>465</td>\n",
       "    </tr>\n",
       "    <tr>\n",
       "      <th>1</th>\n",
       "      <td>Austria</td>\n",
       "      <td>51</td>\n",
       "    </tr>\n",
       "    <tr>\n",
       "      <th>2</th>\n",
       "      <td>Belgium</td>\n",
       "      <td>461</td>\n",
       "    </tr>\n",
       "    <tr>\n",
       "      <th>3</th>\n",
       "      <td>Brazil</td>\n",
       "      <td>25</td>\n",
       "    </tr>\n",
       "    <tr>\n",
       "      <th>4</th>\n",
       "      <td>Canada</td>\n",
       "      <td>225</td>\n",
       "    </tr>\n",
       "    <tr>\n",
       "      <th>5</th>\n",
       "      <td>Denmark</td>\n",
       "      <td>29</td>\n",
       "    </tr>\n",
       "    <tr>\n",
       "      <th>6</th>\n",
       "      <td>France</td>\n",
       "      <td>20055</td>\n",
       "    </tr>\n",
       "    <tr>\n",
       "      <th>7</th>\n",
       "      <td>Georgia</td>\n",
       "      <td>51</td>\n",
       "    </tr>\n",
       "    <tr>\n",
       "      <th>8</th>\n",
       "      <td>Germany</td>\n",
       "      <td>620</td>\n",
       "    </tr>\n",
       "    <tr>\n",
       "      <th>9</th>\n",
       "      <td>Hong kong</td>\n",
       "      <td>13</td>\n",
       "    </tr>\n",
       "  </tbody>\n",
       "</table>\n",
       "</div>"
      ],
      "text/plain": [
       "  countries_tags  nutrition-score-uk_100g_count\n",
       "0      Australia                            465\n",
       "1        Austria                             51\n",
       "2        Belgium                            461\n",
       "3         Brazil                             25\n",
       "4         Canada                            225\n",
       "5        Denmark                             29\n",
       "6         France                          20055\n",
       "7        Georgia                             51\n",
       "8        Germany                            620\n",
       "9      Hong kong                             13"
      ]
     },
     "execution_count": 56,
     "metadata": {},
     "output_type": "execute_result"
    }
   ],
   "source": [
    "# Retrieve the number of products that have the nutrition score per country\n",
    "nutrition_score_countries = current_data.groupby('countries_tags')['nutrition-score-uk_100g'].count()\n",
    "\n",
    "# Transform the serie to a dataframe\n",
    "nutrition_score_countries_df = nutrition_score_countries.to_frame()\n",
    "\n",
    "# Filter the countries to select only the countries that have more than 10 nutrition scores referenced\n",
    "# We tried a higher numbers more than 10 to filter, but the number of countries left where less than 10 as results\n",
    "# and as a resultfiltering by 10 was the most insightful number that did not discard a lot of countries\n",
    "nutrition_score_countries_df = nutrition_score_countries_df[nutrition_score_countries_df['nutrition-score-uk_100g'] > 10]\n",
    "\n",
    "# reset the index (for the map)\n",
    "nutrition_score_countries_df.reset_index(inplace = True)\n",
    "\n",
    "#rename the column nutrition score to nutrition score ccount\n",
    "nutrition_score_countries_df.rename(columns = {'nutrition-score-uk_100g':'nutrition-score-uk_100g_count'}, inplace = True)\n",
    "\n",
    "# filter the nan countries\n",
    "nutrition_score_countries_df = nutrition_score_countries_df[~(nutrition_score_countries_df[\"countries_tags\"] == \"nan\")]\n",
    "nutrition_score_countries_df.head(10)"
   ]
  },
  {
   "cell_type": "code",
   "execution_count": 55,
   "metadata": {},
   "outputs": [
    {
     "data": {
      "text/html": [
       "<div>\n",
       "<style scoped>\n",
       "    .dataframe tbody tr th:only-of-type {\n",
       "        vertical-align: middle;\n",
       "    }\n",
       "\n",
       "    .dataframe tbody tr th {\n",
       "        vertical-align: top;\n",
       "    }\n",
       "\n",
       "    .dataframe thead th {\n",
       "        text-align: right;\n",
       "    }\n",
       "</style>\n",
       "<table border=\"1\" class=\"dataframe\">\n",
       "  <thead>\n",
       "    <tr style=\"text-align: right;\">\n",
       "      <th></th>\n",
       "      <th>countries_tags</th>\n",
       "      <th>nutrition-score-uk_100g_mean</th>\n",
       "    </tr>\n",
       "  </thead>\n",
       "  <tbody>\n",
       "    <tr>\n",
       "      <th>7</th>\n",
       "      <td>Georgia</td>\n",
       "      <td>-4.921569</td>\n",
       "    </tr>\n",
       "    <tr>\n",
       "      <th>15</th>\n",
       "      <td>Netherlands</td>\n",
       "      <td>2.571429</td>\n",
       "    </tr>\n",
       "    <tr>\n",
       "      <th>22</th>\n",
       "      <td>Taiwan</td>\n",
       "      <td>3.142857</td>\n",
       "    </tr>\n",
       "    <tr>\n",
       "      <th>10</th>\n",
       "      <td>Hungary</td>\n",
       "      <td>3.562500</td>\n",
       "    </tr>\n",
       "    <tr>\n",
       "      <th>20</th>\n",
       "      <td>Sweden</td>\n",
       "      <td>4.419355</td>\n",
       "    </tr>\n",
       "    <tr>\n",
       "      <th>19</th>\n",
       "      <td>Spain</td>\n",
       "      <td>5.138418</td>\n",
       "    </tr>\n",
       "    <tr>\n",
       "      <th>12</th>\n",
       "      <td>Ireland</td>\n",
       "      <td>5.230769</td>\n",
       "    </tr>\n",
       "    <tr>\n",
       "      <th>1</th>\n",
       "      <td>Austria</td>\n",
       "      <td>5.313725</td>\n",
       "    </tr>\n",
       "    <tr>\n",
       "      <th>8</th>\n",
       "      <td>Germany</td>\n",
       "      <td>5.566129</td>\n",
       "    </tr>\n",
       "    <tr>\n",
       "      <th>21</th>\n",
       "      <td>Switzerland</td>\n",
       "      <td>5.710692</td>\n",
       "    </tr>\n",
       "  </tbody>\n",
       "</table>\n",
       "</div>"
      ],
      "text/plain": [
       "   countries_tags  nutrition-score-uk_100g_mean\n",
       "7         Georgia                     -4.921569\n",
       "15    Netherlands                      2.571429\n",
       "22         Taiwan                      3.142857\n",
       "10        Hungary                      3.562500\n",
       "20         Sweden                      4.419355\n",
       "19          Spain                      5.138418\n",
       "12        Ireland                      5.230769\n",
       "1         Austria                      5.313725\n",
       "8         Germany                      5.566129\n",
       "21    Switzerland                      5.710692"
      ]
     },
     "execution_count": 55,
     "metadata": {},
     "output_type": "execute_result"
    }
   ],
   "source": [
    "# Merge the count of nutrition score to their respective countries\n",
    "# and keep only the rows of the filtered countries that have more than 10 nutrition scores reported.\n",
    "avg_nutrition_per_country = current_data.merge(nutrition_score_countries_df, left_on = \"countries_tags\",\\\n",
    "                                               right_on = \"countries_tags\", how = 'right')\n",
    "# drop the nan and compute the mean of nutrition score of each country\n",
    "avg_nutrition_per_country = avg_nutrition_per_country[~avg_nutrition_per_country['nutrition-score-uk_100g'].isna()]\\\n",
    "                                .groupby('countries_tags')['nutrition-score-uk_100g']\\\n",
    "                                .mean()\n",
    "# Change the serie to a dataframe\n",
    "avg_nutrition_per_country = avg_nutrition_per_country.to_frame()\n",
    "\n",
    "# rename the nutrition score to nutrition score mean\n",
    "avg_nutrition_per_country.rename(columns = {'nutrition-score-uk_100g':'nutrition-score-uk_100g_mean'}, inplace = True)\n",
    "\n",
    "# reset the index (for the map)\n",
    "avg_nutrition_per_country.reset_index(inplace = True)\n",
    "\n",
    "# Sort the values for a better visualization and interpretation\n",
    "avg_nutrition_per_country.sort_values(by = \"nutrition-score-uk_100g_mean\").head(10)"
   ]
  },
  {
   "cell_type": "code",
   "execution_count": 54,
   "metadata": {},
   "outputs": [
    {
     "name": "stderr",
     "output_type": "stream",
     "text": [
      "/anaconda3/lib/python3.6/site-packages/IPython/core/display.py:689: UserWarning: Consider using IPython.display.IFrame instead\n",
      "  warnings.warn(\"Consider using IPython.display.IFrame instead\")\n"
     ]
    },
    {
     "data": {
      "text/html": [
       "<iframe src=\"uk_nutrition_score_per_country.html\" height=500 width=1000></iframe>"
      ],
      "text/plain": [
       "<IPython.core.display.HTML object>"
      ]
     },
     "execution_count": 54,
     "metadata": {},
     "output_type": "execute_result"
    }
   ],
   "source": [
    "# We load a curated list of countries\n",
    "country_geo = 'world-countries-uk-score-curated.json'\n",
    "\n",
    "# Start the folium map\n",
    "M = folium.Map(location=[10, 0], zoom_start=1)\n",
    "\n",
    "# Set the params of the chropleth\n",
    "M.choropleth(geo_data=country_geo, data=avg_nutrition_per_country,\n",
    "             columns=['countries_tags', 'nutrition-score-uk_100g_mean'],\n",
    "             key_on='feature.properties.name',\n",
    "             fill_color='YlGnBu', fill_opacity=0.7, line_opacity=0.2,\n",
    "             legend_name=\"Average nutrition score per country\")\n",
    "# Save the map\n",
    "M.save('uk_nutrition_score_per_country.html')\n",
    "\n",
    "# Display the map with an iframe\n",
    "HTML('<iframe src=\"uk_nutrition_score_per_country.html\" height=500 width=1000></iframe>')"
   ]
  },
  {
   "cell_type": "markdown",
   "metadata": {},
   "source": [
    "## FINAL QUESTION: What's on my plate?"
   ]
  },
  {
   "cell_type": "markdown",
   "metadata": {},
   "source": [
    "We try to answer the following: given the location where we live, where does my food most likely come from? Is it eco-friendly? Is it healthy (from the nutrition grade)? How likely is it organic? "
   ]
  },
  {
   "cell_type": "code",
   "execution_count": null,
   "metadata": {},
   "outputs": [],
   "source": []
  }
 ],
 "metadata": {
  "kernelspec": {
   "display_name": "Python 3",
   "language": "python",
   "name": "python3"
  },
  "language_info": {
   "codemirror_mode": {
    "name": "ipython",
    "version": 3
   },
   "file_extension": ".py",
   "mimetype": "text/x-python",
   "name": "python",
   "nbconvert_exporter": "python",
   "pygments_lexer": "ipython3",
   "version": "3.6.6"
  }
 },
 "nbformat": 4,
 "nbformat_minor": 2
}
